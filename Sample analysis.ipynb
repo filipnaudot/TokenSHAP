{
 "cells": [
  {
   "cell_type": "code",
   "execution_count": 1,
   "id": "4dc678a0-a10e-4956-96a3-1ced64542892",
   "metadata": {},
   "outputs": [],
   "source": [
    "from token_shap import TokenSHAP"
   ]
  },
  {
   "cell_type": "code",
   "execution_count": 2,
   "id": "53dc1eec-1612-42cd-ba91-57c39e940cf6",
   "metadata": {},
   "outputs": [
    {
     "name": "stderr",
     "output_type": "stream",
     "text": [
      "/opt/anaconda3/envs/opensora/lib/python3.9/site-packages/huggingface_hub/file_download.py:1132: FutureWarning: `resume_download` is deprecated and will be removed in version 1.0.0. Downloads always resume when possible. If you want to force a new download, use `force_download=True`.\n",
      "  warnings.warn(\n",
      "Special tokens have been added in the vocabulary, make sure the associated word embeddings are fine-tuned or trained.\n"
     ]
    }
   ],
   "source": [
    "model_name = \"llama3\"\n",
    "tokenizer_path =\"NousResearch/Hermes-2-Theta-Llama-3-8B\"\n",
    "tshap = TokenSHAP(model_name, tokenizer_path)"
   ]
  },
  {
   "cell_type": "code",
   "execution_count": null,
   "id": "6ed7387b-9d17-4067-8041-7ef7534c94a8",
   "metadata": {},
   "outputs": [],
   "source": [
    "import numpy as np\n",
    "import matplotlib.pyplot as plt\n",
    "from sklearn.metrics.pairwise import cosine_similarity\n",
    "import json\n",
    "import os\n",
    "\n",
    "# Initialize lists to store results\n",
    "sampling_ratios = [0.8, 0.6, 0.4, 0.2, 0.0]\n",
    "num_questions = 10\n",
    "similarities = {ratio: [] for ratio in sampling_ratios}\n",
    "\n",
    "# Define the questions\n",
    "questions = [\n",
    "    \"Can you describe to me how deep learning might affect the job market in the future?\",\n",
    "    \"What are the ethical implications of artificial intelligence in healthcare?\",\n",
    "    \"How can machine learning be used to improve cybersecurity?\",\n",
    "    \"What is the impact of AI on the education sector?\",\n",
    "    \"How is deep learning changing the landscape of autonomous vehicles?\",\n",
    "    \"What are the environmental benefits of using AI in energy management?\",\n",
    "    \"How can AI help in personalized medicine?\",\n",
    "    \"What are the challenges of implementing AI in financial services?\",\n",
    "    \"How does AI influence modern marketing strategies?\",\n",
    "    \"What are the future prospects of AI in robotics?\"\n",
    "]\n",
    "\n",
    "def shapley_dict_to_vector(shapley_dict):\n",
    "    return np.array(list(shapley_dict.values()))\n",
    "\n",
    "output_file = 'similarity_results.json'\n",
    "if os.path.exists(output_file):\n",
    "    with open(output_file, 'r') as f:\n",
    "        similarities = json.load(f)\n",
    "else:\n",
    "    similarities = {ratio: [] for ratio in sampling_ratios}\n",
    "\n",
    "for question in questions:\n",
    "    # Calculate baseline Shapley values\n",
    "    baseline_shap = tshap.analyze(question, sampling_ratio=1.0, splitter=' ')\n",
    "    baseline_shap_values = shapley_dict_to_vector(tshap.shapley_values)\n",
    "    \n",
    "    for ratio in sampling_ratios:\n",
    "        # Calculate Shapley values for the given sampling ratio\n",
    "        sampled_shap = tshap.analyze(question, sampling_ratio=ratio, splitter=' ')\n",
    "        sampled_shap_values = shapley_dict_to_vector(tshap.shapley_values)\n",
    "        \n",
    "        # Calculate similarity between baseline and sampled Shapley values\n",
    "        similarity = cosine_similarity(\n",
    "            [baseline_shap_values], \n",
    "            [sampled_shap_values]\n",
    "        )[0, 0]\n",
    "        \n",
    "        # Store the similarity\n",
    "        similarities[ratio].append(similarity)\n",
    "        \n",
    "        # Save the results to disk\n",
    "        with open(output_file, 'w') as f:\n",
    "            json.dump(similarities, f)\n",
    "\n",
    "# Calculate average similarities for each sampling ratio\n",
    "average_similarities = {ratio: np.mean(similarities[ratio]) for ratio in sampling_ratios}\n",
    "\n",
    "# Plot the results\n",
    "plt.figure(figsize=(10, 6))\n",
    "plt.plot(sampling_ratios, [average_similarities[ratio] for ratio in sampling_ratios], marker='o')\n",
    "plt.xlabel('Sampling Ratio')\n",
    "plt.ylabel('Average Cosine Similarity')\n",
    "plt.title('Average Similarity of Shapley Values at Different Sampling Ratios')\n",
    "plt.grid(True)\n",
    "plt.show()"
   ]
  },
  {
   "cell_type": "code",
   "execution_count": null,
   "id": "c8a438af-3b74-4835-91fa-2c0dadb7a368",
   "metadata": {},
   "outputs": [],
   "source": []
  }
 ],
 "metadata": {
  "kernelspec": {
   "display_name": "OpenSora",
   "language": "python",
   "name": "opensora"
  },
  "language_info": {
   "codemirror_mode": {
    "name": "ipython",
    "version": 3
   },
   "file_extension": ".py",
   "mimetype": "text/x-python",
   "name": "python",
   "nbconvert_exporter": "python",
   "pygments_lexer": "ipython3",
   "version": "3.9.19"
  }
 },
 "nbformat": 4,
 "nbformat_minor": 5
}
