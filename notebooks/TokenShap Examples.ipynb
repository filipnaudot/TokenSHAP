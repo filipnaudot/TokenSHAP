{
 "cells": [
  {
   "cell_type": "code",
   "execution_count": 9,
   "id": "f6944d03-05e5-4096-8aec-8499ff4dab63",
   "metadata": {
    "tags": []
   },
   "outputs": [],
   "source": [
    "from token_shap import TokenSHAP"
   ]
  },
  {
   "cell_type": "code",
   "execution_count": 10,
   "id": "bebfc17a-c99f-4922-ac33-9b174a40eab0",
   "metadata": {},
   "outputs": [],
   "source": [
    "model_name = \"hhao/openbmb-minicpm-llama3-v-2_5:latest\"\n",
    "ollama_api_url = \"http://localhost:11434\"\n",
    "tshap = TokenSHAP(model_name, ollama_api_url)"
   ]
  },
  {
   "cell_type": "markdown",
   "id": "8fe31b48-6081-43fb-a40d-a7fc7cd3ee66",
   "metadata": {},
   "source": [
    "## Single Sample"
   ]
  },
  {
   "cell_type": "code",
   "execution_count": 11,
   "id": "26334adb-8f8f-4f5b-b83b-b09eb6840c1d",
   "metadata": {
    "tags": []
   },
   "outputs": [
    {
     "name": "stdout",
     "output_type": "stream",
     "text": [
      "CPU times: user 132 ms, sys: 28.2 ms, total: 160 ms\n",
      "Wall time: 2min 4s\n"
     ]
    }
   ],
   "source": [
    "%%time\n",
    "prompt = \"why is the sky blue?\"\n",
    "results = tshap.analyze(prompt, sampling_ratio = 0.2, splitter = ' ')"
   ]
  },
  {
   "cell_type": "code",
   "execution_count": 6,
   "id": "5a0d20f7-a69d-4b06-87d1-0b43a1227d42",
   "metadata": {},
   "outputs": [
    {
     "data": {
      "text/plain": [
       "{1: 0.357236073517627,\n",
       " 2: 0.4295410286336544,\n",
       " 3: 0.33041329819655263,\n",
       " 4: 0.48424251416916697,\n",
       " 5: 0.489185980207626}"
      ]
     },
     "execution_count": 6,
     "metadata": {},
     "output_type": "execute_result"
    }
   ],
   "source": [
    "tshap.shapley_values"
   ]
  },
  {
   "cell_type": "code",
   "execution_count": 7,
   "id": "401efc3f-5204-4b4b-9338-14e9bd32487b",
   "metadata": {},
   "outputs": [
    {
     "data": {
      "text/html": [
       "<div>\n",
       "<style scoped>\n",
       "    .dataframe tbody tr th:only-of-type {\n",
       "        vertical-align: middle;\n",
       "    }\n",
       "\n",
       "    .dataframe tbody tr th {\n",
       "        vertical-align: top;\n",
       "    }\n",
       "\n",
       "    .dataframe thead th {\n",
       "        text-align: right;\n",
       "    }\n",
       "</style>\n",
       "<table border=\"1\" class=\"dataframe\">\n",
       "  <thead>\n",
       "    <tr style=\"text-align: right;\">\n",
       "      <th></th>\n",
       "      <th>Prompt</th>\n",
       "      <th>Response</th>\n",
       "      <th>Token_Indexes</th>\n",
       "      <th>Cosine_Similarity</th>\n",
       "    </tr>\n",
       "  </thead>\n",
       "  <tbody>\n",
       "    <tr>\n",
       "      <th>0</th>\n",
       "      <td>why</td>\n",
       "      <td>I'm sorry, but I didn't provide any informatio...</td>\n",
       "      <td>[1]</td>\n",
       "      <td>0.095098</td>\n",
       "    </tr>\n",
       "    <tr>\n",
       "      <th>1</th>\n",
       "      <td>is</td>\n",
       "      <td>I'm sorry, but I'm not sure what you're asking...</td>\n",
       "      <td>[2]</td>\n",
       "      <td>0.024674</td>\n",
       "    </tr>\n",
       "    <tr>\n",
       "      <th>2</th>\n",
       "      <td>the</td>\n",
       "      <td>你需要一个特定的查询吗？我可以根据你的需求帮助你查找相关的信息。你想了解什么？</td>\n",
       "      <td>[3]</td>\n",
       "      <td>0.000000</td>\n",
       "    </tr>\n",
       "    <tr>\n",
       "      <th>3</th>\n",
       "      <td>sky</td>\n",
       "      <td>As an AI language model, I do not have the abi...</td>\n",
       "      <td>[4]</td>\n",
       "      <td>0.082815</td>\n",
       "    </tr>\n",
       "    <tr>\n",
       "      <th>4</th>\n",
       "      <td>blue?</td>\n",
       "      <td>There are many different shades of blue, so it...</td>\n",
       "      <td>[5]</td>\n",
       "      <td>0.361960</td>\n",
       "    </tr>\n",
       "    <tr>\n",
       "      <th>5</th>\n",
       "      <td>why is sky blue?</td>\n",
       "      <td>Sky appears blue because of a phenomenon calle...</td>\n",
       "      <td>[1, 2, 4, 5]</td>\n",
       "      <td>0.741852</td>\n",
       "    </tr>\n",
       "    <tr>\n",
       "      <th>6</th>\n",
       "      <td>why the blue?</td>\n",
       "      <td>I am an AI language model trained by OpenAI, a...</td>\n",
       "      <td>[1, 3, 5]</td>\n",
       "      <td>0.234758</td>\n",
       "    </tr>\n",
       "    <tr>\n",
       "      <th>7</th>\n",
       "      <td>is the sky blue?</td>\n",
       "      <td>I am an AI language model and do not have a vi...</td>\n",
       "      <td>[2, 3, 4, 5]</td>\n",
       "      <td>0.441987</td>\n",
       "    </tr>\n",
       "    <tr>\n",
       "      <th>8</th>\n",
       "      <td>the sky blue?</td>\n",
       "      <td>Yes, the sky is typically blue in color. This ...</td>\n",
       "      <td>[3, 4, 5]</td>\n",
       "      <td>0.644908</td>\n",
       "    </tr>\n",
       "    <tr>\n",
       "      <th>9</th>\n",
       "      <td>is sky blue?</td>\n",
       "      <td>Yes, the sky is typically blue during the dayt...</td>\n",
       "      <td>[2, 4, 5]</td>\n",
       "      <td>0.509650</td>\n",
       "    </tr>\n",
       "  </tbody>\n",
       "</table>\n",
       "</div>"
      ],
      "text/plain": [
       "             Prompt                                           Response  \\\n",
       "0               why  I'm sorry, but I didn't provide any informatio...   \n",
       "1                is  I'm sorry, but I'm not sure what you're asking...   \n",
       "2               the            你需要一个特定的查询吗？我可以根据你的需求帮助你查找相关的信息。你想了解什么？   \n",
       "3               sky  As an AI language model, I do not have the abi...   \n",
       "4             blue?  There are many different shades of blue, so it...   \n",
       "5  why is sky blue?  Sky appears blue because of a phenomenon calle...   \n",
       "6     why the blue?  I am an AI language model trained by OpenAI, a...   \n",
       "7  is the sky blue?  I am an AI language model and do not have a vi...   \n",
       "8     the sky blue?  Yes, the sky is typically blue in color. This ...   \n",
       "9      is sky blue?  Yes, the sky is typically blue during the dayt...   \n",
       "\n",
       "  Token_Indexes  Cosine_Similarity  \n",
       "0           [1]           0.095098  \n",
       "1           [2]           0.024674  \n",
       "2           [3]           0.000000  \n",
       "3           [4]           0.082815  \n",
       "4           [5]           0.361960  \n",
       "5  [1, 2, 4, 5]           0.741852  \n",
       "6     [1, 3, 5]           0.234758  \n",
       "7  [2, 3, 4, 5]           0.441987  \n",
       "8     [3, 4, 5]           0.644908  \n",
       "9     [2, 4, 5]           0.509650  "
      ]
     },
     "execution_count": 7,
     "metadata": {},
     "output_type": "execute_result"
    }
   ],
   "source": [
    "results"
   ]
  },
  {
   "cell_type": "code",
   "execution_count": 7,
   "id": "8a7707dc-8fdb-4aab-8a2c-a39d3917521b",
   "metadata": {},
   "outputs": [
    {
     "data": {
      "image/png": "[encoded data removed]",
      "text/plain": [
       "<Figure size 1000x200 with 2 Axes>"
      ]
     },
     "metadata": {},
     "output_type": "display_data"
    }
   ],
   "source": [
    "tshap.plot_colored_text()"
   ]
  },
  {
   "cell_type": "code",
   "execution_count": 8,
   "id": "176eaee5-42bc-4411-8ef1-a130738ffbcc",
   "metadata": {},
   "outputs": [
    {
     "name": "stdout",
     "output_type": "stream",
     "text": [
      "\u001b[38;2;255;0;0mwhy\u001b[0m \u001b[38;2;17;17;255mis\u001b[0m \u001b[38;2;0;0;255mthe\u001b[0m \u001b[38;2;255;10;10msky\u001b[0m \u001b[38;2;255;163;163mblue?\u001b[0m \n"
     ]
    }
   ],
   "source": [
    "tshap.print_colored_text()"
   ]
  },
  {
   "cell_type": "code",
   "execution_count": 9,
   "id": "a7fd7247-6f27-4946-87b1-a88529a468f6",
   "metadata": {},
   "outputs": [
    {
     "name": "stdout",
     "output_type": "stream",
     "text": [
      "\u001b[48;2;255;255;0mwhy\u001b[0m \u001b[48;2;255;255;254mis\u001b[0m \u001b[48;2;255;255;255mthe\u001b[0m \u001b[48;2;255;255;15msky\u001b[0m \u001b[48;2;255;255;175mblue?\u001b[0m \n"
     ]
    }
   ],
   "source": [
    "tshap.highlight_text_background()"
   ]
  },
  {
   "cell_type": "code",
   "execution_count": 10,
   "id": "1ac49757-bfdf-4073-ba24-e233d0e570e8",
   "metadata": {},
   "outputs": [],
   "source": [
    "prompt = 'Complete the following code: def quick_sort(arr):'\n",
    "results = tshap.analyze(prompt, sampling_ratio = 0.2, splitter = ' ')"
   ]
  },
  {
   "cell_type": "code",
   "execution_count": 11,
   "id": "89b51a1b-d487-4be5-a6a7-d1251a53f6b2",
   "metadata": {},
   "outputs": [
    {
     "name": "stdout",
     "output_type": "stream",
     "text": [
      "\u001b[38;2;222;222;255mComplete\u001b[0m \u001b[38;2;141;141;255mthe\u001b[0m \u001b[38;2;0;0;255mfollowing\u001b[0m \u001b[38;2;255;240;240mcode:\u001b[0m \u001b[38;2;134;134;255mdef\u001b[0m \u001b[38;2;255;0;0mquick_sort(arr):\u001b[0m \n"
     ]
    }
   ],
   "source": [
    "tshap.print_colored_text()"
   ]
  },
  {
   "cell_type": "code",
   "execution_count": null,
   "id": "e19b441a-0300-4d49-b0c4-a92529bdf53c",
   "metadata": {},
   "outputs": [],
   "source": [
    "prompt = \"\"\"\n",
    "    Patient is a 45-year-old male presenting with fatigue, fever, shortness of breath, \n",
    "    and occasional chest pain. Symptoms have persisted for two weeks. \n",
    "    Blood tests show elevated white blood cell count, while chest X-ray indicates mild lung inflammation. \n",
    "    Family history includes cardiovascular disease and asthma.\n",
    "    What is the most likely diagnosis for this patient based on the symptoms and medical history?\n",
    "\"\"\"\n",
    "results = tshap.analyze(prompt, sampling_ratio = 0.0, splitter = ' ')"
   ]
  },
  {
   "cell_type": "markdown",
   "id": "4bd01dc8-f592-415c-b0d7-091d1a428396",
   "metadata": {},
   "source": [
    "## Multiple Samples"
   ]
  },
  {
   "cell_type": "code",
   "execution_count": 4,
   "id": "040dcd0d-db3f-4a4c-a99b-fdb02fad18bf",
   "metadata": {
    "tags": []
   },
   "outputs": [],
   "source": [
    "prompt = \"\"\"\n",
    "    Our company is experiencing a decline in quarterly sales for the first time in five years. \n",
    "    Recent market trends indicate increased competition from new startups offering similar products at lower prices. \n",
    "    Despite an increase in our online advertising budget, customer engagement on social media platforms has decreased by 15% compared to last quarter. \n",
    "    In addition, feedback from customer surveys suggests that many are dissatisfied with the lack of new features in our products. \n",
    "    Our largest competitor recently launched a new version of their product with innovative functionalities, which seems to have attracted a significant portion of our customer base.\n",
    "    What strategic actions should our company consider to regain market share and improve customer satisfaction?\n",
    "\"\"\"\n",
    "results = tshap.analyze(prompt, splitter ='.', sampling_ratio = 0.4)"
   ]
  },
  {
   "cell_type": "code",
   "execution_count": 5,
   "id": "37986fc4-b442-4cae-9eab-3a218315f7b4",
   "metadata": {},
   "outputs": [
    {
     "data": {
      "text/html": [
       "<div>\n",
       "<style scoped>\n",
       "    .dataframe tbody tr th:only-of-type {\n",
       "        vertical-align: middle;\n",
       "    }\n",
       "\n",
       "    .dataframe tbody tr th {\n",
       "        vertical-align: top;\n",
       "    }\n",
       "\n",
       "    .dataframe thead th {\n",
       "        text-align: right;\n",
       "    }\n",
       "</style>\n",
       "<table border=\"1\" class=\"dataframe\">\n",
       "  <thead>\n",
       "    <tr style=\"text-align: right;\">\n",
       "      <th></th>\n",
       "      <th>Prompt</th>\n",
       "      <th>Response</th>\n",
       "      <th>Token_Indexes</th>\n",
       "      <th>Cosine_Similarity</th>\n",
       "    </tr>\n",
       "  </thead>\n",
       "  <tbody>\n",
       "    <tr>\n",
       "      <th>0</th>\n",
       "      <td>\\n    Recent market trends indicate increased...</td>\n",
       "      <td>1. Develop innovative features: To compete wit...</td>\n",
       "      <td>[2, 3, 4, 5, 6]</td>\n",
       "      <td>0.529875</td>\n",
       "    </tr>\n",
       "    <tr>\n",
       "      <th>1</th>\n",
       "      <td>\\n    Our company is experiencing a decline in...</td>\n",
       "      <td>Based on the information provided, here are so...</td>\n",
       "      <td>[1, 3, 4, 5, 6]</td>\n",
       "      <td>0.538179</td>\n",
       "    </tr>\n",
       "    <tr>\n",
       "      <th>2</th>\n",
       "      <td>\\n    Our company is experiencing a decline in...</td>\n",
       "      <td>1. Conduct a thorough analysis of the competit...</td>\n",
       "      <td>[1, 2, 4, 5, 6]</td>\n",
       "      <td>0.435363</td>\n",
       "    </tr>\n",
       "    <tr>\n",
       "      <th>3</th>\n",
       "      <td>\\n    Our company is experiencing a decline in...</td>\n",
       "      <td>As an AI language model, I can provide you wit...</td>\n",
       "      <td>[1, 2, 3, 5, 6]</td>\n",
       "      <td>0.423783</td>\n",
       "    </tr>\n",
       "    <tr>\n",
       "      <th>4</th>\n",
       "      <td>\\n    Our company is experiencing a decline in...</td>\n",
       "      <td>1. Analyze the competition: Conduct a thorough...</td>\n",
       "      <td>[1, 2, 3, 4, 6]</td>\n",
       "      <td>0.420366</td>\n",
       "    </tr>\n",
       "    <tr>\n",
       "      <th>5</th>\n",
       "      <td>\\n    Our company is experiencing a decline in...</td>\n",
       "      <td>These challenges suggest several key actions f...</td>\n",
       "      <td>[1, 2, 3, 4, 5]</td>\n",
       "      <td>0.289088</td>\n",
       "    </tr>\n",
       "    <tr>\n",
       "      <th>6</th>\n",
       "      <td>\\n    Recent market trends indicate increased...</td>\n",
       "      <td>Given these recent market trends and customer ...</td>\n",
       "      <td>[2, 4]</td>\n",
       "      <td>0.365242</td>\n",
       "    </tr>\n",
       "    <tr>\n",
       "      <th>7</th>\n",
       "      <td>\\n    Our company is experiencing a decline in...</td>\n",
       "      <td>As your company experiences a decline in quart...</td>\n",
       "      <td>[1, 2, 4, 5]</td>\n",
       "      <td>0.499068</td>\n",
       "    </tr>\n",
       "    <tr>\n",
       "      <th>8</th>\n",
       "      <td>\\n    Our company is experiencing a decline in...</td>\n",
       "      <td>There are several strategic actions that your ...</td>\n",
       "      <td>[1, 3, 5, 6]</td>\n",
       "      <td>0.558259</td>\n",
       "    </tr>\n",
       "    <tr>\n",
       "      <th>9</th>\n",
       "      <td>\\n    Despite an increase in our online adver...</td>\n",
       "      <td>These challenges may be affecting your busines...</td>\n",
       "      <td>[3, 4, 5]</td>\n",
       "      <td>0.446245</td>\n",
       "    </tr>\n",
       "    <tr>\n",
       "      <th>10</th>\n",
       "      <td>\\n    Recent market trends indicate increased...</td>\n",
       "      <td>This could be due to several factors:\\n1. Comp...</td>\n",
       "      <td>[2, 3]</td>\n",
       "      <td>0.309873</td>\n",
       "    </tr>\n",
       "    <tr>\n",
       "      <th>11</th>\n",
       "      <td>\\n    In addition, feedback from customer sur...</td>\n",
       "      <td>1. Identify key pain points: The primary conce...</td>\n",
       "      <td>[4]</td>\n",
       "      <td>0.344554</td>\n",
       "    </tr>\n",
       "    <tr>\n",
       "      <th>12</th>\n",
       "      <td>\\n    Our company is experiencing a decline in...</td>\n",
       "      <td>To regain market share and improve customer sa...</td>\n",
       "      <td>[1, 4, 5, 6]</td>\n",
       "      <td>0.476245</td>\n",
       "    </tr>\n",
       "    <tr>\n",
       "      <th>13</th>\n",
       "      <td>\\n    Our company is experiencing a decline in...</td>\n",
       "      <td>Based on this information, it is clear that th...</td>\n",
       "      <td>[1, 4, 5]</td>\n",
       "      <td>0.479012</td>\n",
       "    </tr>\n",
       "    <tr>\n",
       "      <th>14</th>\n",
       "      <td>\\n    Our company is experiencing a decline in...</td>\n",
       "      <td>These are some potential actions that could be...</td>\n",
       "      <td>[1, 2, 3]</td>\n",
       "      <td>0.275810</td>\n",
       "    </tr>\n",
       "    <tr>\n",
       "      <th>15</th>\n",
       "      <td>\\n    Despite an increase in our online adver...</td>\n",
       "      <td>To regain market share and improve customer sa...</td>\n",
       "      <td>[3, 4, 6]</td>\n",
       "      <td>0.454332</td>\n",
       "    </tr>\n",
       "    <tr>\n",
       "      <th>16</th>\n",
       "      <td>\\n    Our company is experiencing a decline in...</td>\n",
       "      <td>It sounds like your company is facing some cha...</td>\n",
       "      <td>[1, 3, 5]</td>\n",
       "      <td>0.524242</td>\n",
       "    </tr>\n",
       "    <tr>\n",
       "      <th>17</th>\n",
       "      <td>\\n    Recent market trends indicate increased...</td>\n",
       "      <td>It seems like the market for your product has ...</td>\n",
       "      <td>[2]</td>\n",
       "      <td>0.414432</td>\n",
       "    </tr>\n",
       "    <tr>\n",
       "      <th>18</th>\n",
       "      <td>\\n    Our company is experiencing a decline in...</td>\n",
       "      <td>The following is a sample email for a business...</td>\n",
       "      <td>[1, 2, 3, 4]</td>\n",
       "      <td>0.283771</td>\n",
       "    </tr>\n",
       "    <tr>\n",
       "      <th>19</th>\n",
       "      <td>\\n    Our company is experiencing a decline in...</td>\n",
       "      <td>1. Analyze the decline in quarterly sales: Exa...</td>\n",
       "      <td>[1, 2, 5]</td>\n",
       "      <td>0.265917</td>\n",
       "    </tr>\n",
       "    <tr>\n",
       "      <th>20</th>\n",
       "      <td>\\n    Despite an increase in our online adver...</td>\n",
       "      <td>It's important to take steps to address this i...</td>\n",
       "      <td>[3, 5]</td>\n",
       "      <td>0.438790</td>\n",
       "    </tr>\n",
       "    <tr>\n",
       "      <th>21</th>\n",
       "      <td>\\n    What strategic actions should our compan...</td>\n",
       "      <td>There are several strategic actions that your ...</td>\n",
       "      <td>[6]</td>\n",
       "      <td>0.406256</td>\n",
       "    </tr>\n",
       "    <tr>\n",
       "      <th>22</th>\n",
       "      <td>\\n    Our company is experiencing a decline in...</td>\n",
       "      <td>Based on the information provided, it appears ...</td>\n",
       "      <td>[1, 3, 4]</td>\n",
       "      <td>0.386373</td>\n",
       "    </tr>\n",
       "    <tr>\n",
       "      <th>23</th>\n",
       "      <td>\\n    Our company is experiencing a decline in...</td>\n",
       "      <td>There are several strategic actions your compa...</td>\n",
       "      <td>[1, 3, 4, 6]</td>\n",
       "      <td>0.503505</td>\n",
       "    </tr>\n",
       "    <tr>\n",
       "      <th>24</th>\n",
       "      <td>\\n    Our largest competitor recently launche...</td>\n",
       "      <td>1. Conduct a thorough analysis of the competit...</td>\n",
       "      <td>[5, 6]</td>\n",
       "      <td>0.436283</td>\n",
       "    </tr>\n",
       "  </tbody>\n",
       "</table>\n",
       "</div>"
      ],
      "text/plain": [
       "                                               Prompt  \\\n",
       "0    \\n    Recent market trends indicate increased...   \n",
       "1   \\n    Our company is experiencing a decline in...   \n",
       "2   \\n    Our company is experiencing a decline in...   \n",
       "3   \\n    Our company is experiencing a decline in...   \n",
       "4   \\n    Our company is experiencing a decline in...   \n",
       "5   \\n    Our company is experiencing a decline in...   \n",
       "6    \\n    Recent market trends indicate increased...   \n",
       "7   \\n    Our company is experiencing a decline in...   \n",
       "8   \\n    Our company is experiencing a decline in...   \n",
       "9    \\n    Despite an increase in our online adver...   \n",
       "10   \\n    Recent market trends indicate increased...   \n",
       "11   \\n    In addition, feedback from customer sur...   \n",
       "12  \\n    Our company is experiencing a decline in...   \n",
       "13  \\n    Our company is experiencing a decline in...   \n",
       "14  \\n    Our company is experiencing a decline in...   \n",
       "15   \\n    Despite an increase in our online adver...   \n",
       "16  \\n    Our company is experiencing a decline in...   \n",
       "17   \\n    Recent market trends indicate increased...   \n",
       "18  \\n    Our company is experiencing a decline in...   \n",
       "19  \\n    Our company is experiencing a decline in...   \n",
       "20   \\n    Despite an increase in our online adver...   \n",
       "21  \\n    What strategic actions should our compan...   \n",
       "22  \\n    Our company is experiencing a decline in...   \n",
       "23  \\n    Our company is experiencing a decline in...   \n",
       "24   \\n    Our largest competitor recently launche...   \n",
       "\n",
       "                                             Response    Token_Indexes  \\\n",
       "0   1. Develop innovative features: To compete wit...  [2, 3, 4, 5, 6]   \n",
       "1   Based on the information provided, here are so...  [1, 3, 4, 5, 6]   \n",
       "2   1. Conduct a thorough analysis of the competit...  [1, 2, 4, 5, 6]   \n",
       "3   As an AI language model, I can provide you wit...  [1, 2, 3, 5, 6]   \n",
       "4   1. Analyze the competition: Conduct a thorough...  [1, 2, 3, 4, 6]   \n",
       "5   These challenges suggest several key actions f...  [1, 2, 3, 4, 5]   \n",
       "6   Given these recent market trends and customer ...           [2, 4]   \n",
       "7   As your company experiences a decline in quart...     [1, 2, 4, 5]   \n",
       "8   There are several strategic actions that your ...     [1, 3, 5, 6]   \n",
       "9   These challenges may be affecting your busines...        [3, 4, 5]   \n",
       "10  This could be due to several factors:\\n1. Comp...           [2, 3]   \n",
       "11  1. Identify key pain points: The primary conce...              [4]   \n",
       "12  To regain market share and improve customer sa...     [1, 4, 5, 6]   \n",
       "13  Based on this information, it is clear that th...        [1, 4, 5]   \n",
       "14  These are some potential actions that could be...        [1, 2, 3]   \n",
       "15  To regain market share and improve customer sa...        [3, 4, 6]   \n",
       "16  It sounds like your company is facing some cha...        [1, 3, 5]   \n",
       "17  It seems like the market for your product has ...              [2]   \n",
       "18  The following is a sample email for a business...     [1, 2, 3, 4]   \n",
       "19  1. Analyze the decline in quarterly sales: Exa...        [1, 2, 5]   \n",
       "20  It's important to take steps to address this i...           [3, 5]   \n",
       "21  There are several strategic actions that your ...              [6]   \n",
       "22  Based on the information provided, it appears ...        [1, 3, 4]   \n",
       "23  There are several strategic actions your compa...     [1, 3, 4, 6]   \n",
       "24  1. Conduct a thorough analysis of the competit...           [5, 6]   \n",
       "\n",
       "    Cosine_Similarity  \n",
       "0            0.529875  \n",
       "1            0.538179  \n",
       "2            0.435363  \n",
       "3            0.423783  \n",
       "4            0.420366  \n",
       "5            0.289088  \n",
       "6            0.365242  \n",
       "7            0.499068  \n",
       "8            0.558259  \n",
       "9            0.446245  \n",
       "10           0.309873  \n",
       "11           0.344554  \n",
       "12           0.476245  \n",
       "13           0.479012  \n",
       "14           0.275810  \n",
       "15           0.454332  \n",
       "16           0.524242  \n",
       "17           0.414432  \n",
       "18           0.283771  \n",
       "19           0.265917  \n",
       "20           0.438790  \n",
       "21           0.406256  \n",
       "22           0.386373  \n",
       "23           0.503505  \n",
       "24           0.436283  "
      ]
     },
     "execution_count": 5,
     "metadata": {},
     "output_type": "execute_result"
    }
   ],
   "source": [
    "results"
   ]
  },
  {
   "cell_type": "code",
   "execution_count": 7,
   "id": "15c2eeb4-da55-4e05-95f8-ec7278f8d79c",
   "metadata": {},
   "outputs": [
    {
     "name": "stdout",
     "output_type": "stream",
     "text": [
      "\u001b[38;2;255;236;236m\n",
      "    Our company is experiencing a decline in quarterly sales for the first time in five years\u001b[0m \u001b[38;2;0;0;255m \n",
      "    Recent market trends indicate increased competition from new startups offering similar products at lower prices\u001b[0m \u001b[38;2;255;225;225m \n",
      "    Despite an increase in our online advertising budget, customer engagement on social media platforms has decreased by 15% compared to last quarter\u001b[0m \u001b[38;2;255;192;192m \n",
      "    In addition, feedback from customer surveys suggests that many are dissatisfied with the lack of new features in our products\u001b[0m \u001b[38;2;255;48;48m \n",
      "    Our largest competitor recently launched a new version of their product with innovative functionalities, which seems to have attracted a significant portion of our customer base\u001b[0m \u001b[38;2;255;0;0m\n",
      "    What strategic actions should our company consider to regain market share and improve customer satisfaction?\n",
      "\u001b[0m \n"
     ]
    }
   ],
   "source": [
    "tshap.print_colored_text()"
   ]
  },
  {
   "cell_type": "code",
   "execution_count": 8,
   "id": "7d11c652-e847-49fb-a2c8-86c7f9582175",
   "metadata": {},
   "outputs": [
    {
     "name": "stdout",
     "output_type": "stream",
     "text": [
      "\u001b[48;2;255;255;215m\n",
      "    Our company is experiencing a decline in quarterly sales for the first time in five years\u001b[0m \u001b[48;2;255;255;255m \n",
      "    Recent market trends indicate increased competition from new startups offering similar products at lower prices\u001b[0m \u001b[48;2;255;255;210m \n",
      "    Despite an increase in our online advertising budget, customer engagement on social media platforms has decreased by 15% compared to last quarter\u001b[0m \u001b[48;2;255;255;193m \n",
      "    In addition, feedback from customer surveys suggests that many are dissatisfied with the lack of new features in our products\u001b[0m \u001b[48;2;255;255;65m \n",
      "    Our largest competitor recently launched a new version of their product with innovative functionalities, which seems to have attracted a significant portion of our customer base\u001b[0m \u001b[48;2;255;255;0m\n",
      "    What strategic actions should our company consider to regain market share and improve customer satisfaction?\n",
      "\u001b[0m \n"
     ]
    }
   ],
   "source": [
    "tshap.highlight_text_background()"
   ]
  }
 ],
 "metadata": {
  "kernelspec": {
   "display_name": "BabyDriver",
   "language": "python",
   "name": "babydriver"
  },
  "language_info": {
   "codemirror_mode": {
    "name": "ipython",
    "version": 3
   },
   "file_extension": ".py",
   "mimetype": "text/x-python",
   "name": "python",
   "nbconvert_exporter": "python",
   "pygments_lexer": "ipython3",
   "version": "3.10.14"
  }
 },
 "nbformat": 4,
 "nbformat_minor": 5
}
