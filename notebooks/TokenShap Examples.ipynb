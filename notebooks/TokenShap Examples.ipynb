{
 "cells": [
  {
   "cell_type": "code",
   "execution_count": 1,
   "id": "f6944d03-05e5-4096-8aec-8499ff4dab63",
   "metadata": {
    "tags": []
   },
   "outputs": [],
   "source": [
    "from token_shap import TokenSHAP"
   ]
  },
  {
   "cell_type": "code",
   "execution_count": 2,
   "id": "bebfc17a-c99f-4922-ac33-9b174a40eab0",
   "metadata": {},
   "outputs": [],
   "source": [
    "model_name = \"llama3.2:3b\"\n",
    "ollama_api_url = \"http://localhost:11434\"\n",
    "tshap = TokenSHAP(model_name, ollama_api_url)"
   ]
  },
  {
   "cell_type": "markdown",
   "id": "8fe31b48-6081-43fb-a40d-a7fc7cd3ee66",
   "metadata": {},
   "source": [
    "## Single Sample"
   ]
  },
  {
   "cell_type": "code",
   "execution_count": 7,
   "id": "26334adb-8f8f-4f5b-b83b-b09eb6840c1d",
   "metadata": {
    "tags": []
   },
   "outputs": [
    {
     "data": {
      "application/vnd.jupyter.widget-view+json": {
       "model_id": "13de9031d1bc42b79c4d11a65e269945",
       "version_major": 2,
       "version_minor": 0
      },
      "text/plain": [
       "Processing combinations:   0%|          | 0/30 [00:00<?, ?it/s]"
      ]
     },
     "metadata": {},
     "output_type": "display_data"
    }
   ],
   "source": [
    "prompt = \"why is the sky blue?\"\n",
    "results = tshap.analyze(prompt, sampling_ratio = 1.0, splitter = ' ')"
   ]
  },
  {
   "cell_type": "code",
   "execution_count": 8,
   "id": "c3282a62-e56f-4e43-b076-313755728d11",
   "metadata": {},
   "outputs": [
    {
     "name": "stdout",
     "output_type": "stream",
     "text": [
      "The sky appears blue because of a phenomenon called Rayleigh scattering, named after the British physicist Lord Rayleigh, who first described it in the late 19th century.\n",
      "\n",
      "Here's what happens:\n",
      "\n",
      "1. **Sunlight enters Earth's atmosphere**: When sunlight enters our atmosphere, it encounters tiny molecules of gases such as nitrogen (N2) and oxygen (O2).\n",
      "2. **Scattering occurs**: These gas molecules scatter the light in all directions, but they scatter shorter (blue) wavelengths more than longer (red) wavelengths.\n",
      "3. **Blue light is scattered**: The blue light is scattered in all directions by the tiny gas molecules, while the longer wavelengths of light (like red and orange) continue to travel in a straight line.\n",
      "4. **Our eyes see the scattered blue light**: As we look up at the sky, our eyes see the blue light that has been scattered in all directions by the gas molecules.\n",
      "\n",
      "This is why the sky appears blue during the daytime, especially when the sun is overhead and the air is free of pollution. The color of the sky can also change depending on various factors such as:\n",
      "\n",
      "* **Time of day**: During sunrise and sunset, the light travels through more of the Earth's atmosphere, scattering off even more particles and bending the shorter wavelengths (like blue and violet) out of the direct line of sight.\n",
      "* **Atmospheric conditions**: Dust, pollution, and water vapor in the air can scatter light differently, affecting the apparent color of the sky.\n",
      "* **Clouds and fog**: Clouds and fog can absorb or scatter light, changing the appearance of the sky.\n",
      "\n",
      "So, to summarize: the sky appears blue because of Rayleigh scattering, where tiny gas molecules scatter shorter wavelengths (like blue) more than longer wavelengths (like red), making blue the dominant color we see.\n"
     ]
    }
   ],
   "source": [
    "print(tshap.baseline_text)"
   ]
  },
  {
   "cell_type": "code",
   "execution_count": 9,
   "id": "401efc3f-5204-4b4b-9338-14e9bd32487b",
   "metadata": {},
   "outputs": [
    {
     "data": {
      "text/html": [
       "<div>\n",
       "<style scoped>\n",
       "    .dataframe tbody tr th:only-of-type {\n",
       "        vertical-align: middle;\n",
       "    }\n",
       "\n",
       "    .dataframe tbody tr th {\n",
       "        vertical-align: top;\n",
       "    }\n",
       "\n",
       "    .dataframe thead th {\n",
       "        text-align: right;\n",
       "    }\n",
       "</style>\n",
       "<table border=\"1\" class=\"dataframe\">\n",
       "  <thead>\n",
       "    <tr style=\"text-align: right;\">\n",
       "      <th></th>\n",
       "      <th>Prompt</th>\n",
       "      <th>Response</th>\n",
       "      <th>Token_Indexes</th>\n",
       "      <th>Cosine_Similarity</th>\n",
       "    </tr>\n",
       "  </thead>\n",
       "  <tbody>\n",
       "    <tr>\n",
       "      <th>0</th>\n",
       "      <td>is the sky blue?</td>\n",
       "      <td>The answer is a bit more complicated than just...</td>\n",
       "      <td>(2, 3, 4, 5)</td>\n",
       "      <td>0.654787</td>\n",
       "    </tr>\n",
       "    <tr>\n",
       "      <th>1</th>\n",
       "      <td>why the sky blue?</td>\n",
       "      <td>The sky appears blue to us because of a phenom...</td>\n",
       "      <td>(1, 3, 4, 5)</td>\n",
       "      <td>0.822302</td>\n",
       "    </tr>\n",
       "    <tr>\n",
       "      <th>2</th>\n",
       "      <td>why is sky blue?</td>\n",
       "      <td>The reason why the sky appears blue is a fasci...</td>\n",
       "      <td>(1, 2, 4, 5)</td>\n",
       "      <td>0.774012</td>\n",
       "    </tr>\n",
       "    <tr>\n",
       "      <th>3</th>\n",
       "      <td>why is the blue?</td>\n",
       "      <td>It seems like you're referring to the color bl...</td>\n",
       "      <td>(1, 2, 3, 5)</td>\n",
       "      <td>0.281900</td>\n",
       "    </tr>\n",
       "    <tr>\n",
       "      <th>4</th>\n",
       "      <td>why is the sky</td>\n",
       "      <td>The sky has been a subject of fascination and ...</td>\n",
       "      <td>(1, 2, 3, 4)</td>\n",
       "      <td>0.761916</td>\n",
       "    </tr>\n",
       "    <tr>\n",
       "      <th>5</th>\n",
       "      <td>why is</td>\n",
       "      <td>It looks like you started to ask a question, b...</td>\n",
       "      <td>(1, 2)</td>\n",
       "      <td>0.028789</td>\n",
       "    </tr>\n",
       "    <tr>\n",
       "      <th>6</th>\n",
       "      <td>is sky</td>\n",
       "      <td>It looks like you started to ask a question, b...</td>\n",
       "      <td>(2, 4)</td>\n",
       "      <td>0.185316</td>\n",
       "    </tr>\n",
       "    <tr>\n",
       "      <th>7</th>\n",
       "      <td>why is the</td>\n",
       "      <td>It looks like you started to ask a question, b...</td>\n",
       "      <td>(1, 2, 3)</td>\n",
       "      <td>0.029574</td>\n",
       "    </tr>\n",
       "    <tr>\n",
       "      <th>8</th>\n",
       "      <td>why the</td>\n",
       "      <td>It looks like you started to ask a question, b...</td>\n",
       "      <td>(1, 3)</td>\n",
       "      <td>0.029574</td>\n",
       "    </tr>\n",
       "    <tr>\n",
       "      <th>9</th>\n",
       "      <td>sky</td>\n",
       "      <td>The sky!\\n\\nThe sky is the atmosphere that sur...</td>\n",
       "      <td>(4,)</td>\n",
       "      <td>0.508884</td>\n",
       "    </tr>\n",
       "    <tr>\n",
       "      <th>10</th>\n",
       "      <td>is the</td>\n",
       "      <td>I'm not sure what you're referring to. Could y...</td>\n",
       "      <td>(2, 3)</td>\n",
       "      <td>0.087620</td>\n",
       "    </tr>\n",
       "    <tr>\n",
       "      <th>11</th>\n",
       "      <td>why the blue?</td>\n",
       "      <td>Unfortunately, I don't have enough context to ...</td>\n",
       "      <td>(1, 3, 5)</td>\n",
       "      <td>0.189264</td>\n",
       "    </tr>\n",
       "    <tr>\n",
       "      <th>12</th>\n",
       "      <td>blue?</td>\n",
       "      <td>A simple yet beautiful question!\\n\\nBlue is a ...</td>\n",
       "      <td>(5,)</td>\n",
       "      <td>0.280501</td>\n",
       "    </tr>\n",
       "    <tr>\n",
       "      <th>13</th>\n",
       "      <td>is sky blue?</td>\n",
       "      <td>A question that has puzzled philosophers, scie...</td>\n",
       "      <td>(2, 4, 5)</td>\n",
       "      <td>0.684410</td>\n",
       "    </tr>\n",
       "    <tr>\n",
       "      <th>14</th>\n",
       "      <td>sky blue?</td>\n",
       "      <td>That's a lovely color!\\n\\nSky blue is a light ...</td>\n",
       "      <td>(4, 5)</td>\n",
       "      <td>0.306414</td>\n",
       "    </tr>\n",
       "    <tr>\n",
       "      <th>15</th>\n",
       "      <td>the</td>\n",
       "      <td>It seems like you started to type a word, but ...</td>\n",
       "      <td>(3,)</td>\n",
       "      <td>0.075768</td>\n",
       "    </tr>\n",
       "    <tr>\n",
       "      <th>16</th>\n",
       "      <td>the blue?</td>\n",
       "      <td>It seems like you were about to ask a question...</td>\n",
       "      <td>(3, 5)</td>\n",
       "      <td>0.200096</td>\n",
       "    </tr>\n",
       "    <tr>\n",
       "      <th>17</th>\n",
       "      <td>the sky blue?</td>\n",
       "      <td>A simple yet profound question!\\n\\nThe color o...</td>\n",
       "      <td>(3, 4, 5)</td>\n",
       "      <td>0.571984</td>\n",
       "    </tr>\n",
       "    <tr>\n",
       "      <th>18</th>\n",
       "      <td>why the sky</td>\n",
       "      <td>A profound question! The phrase \"the sky\" is a...</td>\n",
       "      <td>(1, 3, 4)</td>\n",
       "      <td>0.518345</td>\n",
       "    </tr>\n",
       "    <tr>\n",
       "      <th>19</th>\n",
       "      <td>is the blue?</td>\n",
       "      <td>I'm not sure what you're referring to. Could y...</td>\n",
       "      <td>(2, 3, 5)</td>\n",
       "      <td>0.104183</td>\n",
       "    </tr>\n",
       "    <tr>\n",
       "      <th>20</th>\n",
       "      <td>is</td>\n",
       "      <td>It looks like you started to ask a question, b...</td>\n",
       "      <td>(2,)</td>\n",
       "      <td>0.031334</td>\n",
       "    </tr>\n",
       "    <tr>\n",
       "      <th>21</th>\n",
       "      <td>why sky blue?</td>\n",
       "      <td>The color sky blue is a fascinating topic, and...</td>\n",
       "      <td>(1, 4, 5)</td>\n",
       "      <td>0.789021</td>\n",
       "    </tr>\n",
       "    <tr>\n",
       "      <th>22</th>\n",
       "      <td>is the sky</td>\n",
       "      <td>It seems like you started to ask a question, b...</td>\n",
       "      <td>(2, 3, 4)</td>\n",
       "      <td>0.253815</td>\n",
       "    </tr>\n",
       "    <tr>\n",
       "      <th>23</th>\n",
       "      <td>why</td>\n",
       "      <td>I can offer insights and explanations on a wid...</td>\n",
       "      <td>(1,)</td>\n",
       "      <td>0.078481</td>\n",
       "    </tr>\n",
       "    <tr>\n",
       "      <th>24</th>\n",
       "      <td>why is blue?</td>\n",
       "      <td>Blue is a complex and multifaceted color that ...</td>\n",
       "      <td>(1, 2, 5)</td>\n",
       "      <td>0.487654</td>\n",
       "    </tr>\n",
       "    <tr>\n",
       "      <th>25</th>\n",
       "      <td>why blue?</td>\n",
       "      <td>\"Blue\" can refer to many things, but I'll take...</td>\n",
       "      <td>(1, 5)</td>\n",
       "      <td>0.392823</td>\n",
       "    </tr>\n",
       "    <tr>\n",
       "      <th>26</th>\n",
       "      <td>is blue?</td>\n",
       "      <td>A question that gets to the heart of a classic...</td>\n",
       "      <td>(2, 5)</td>\n",
       "      <td>0.299950</td>\n",
       "    </tr>\n",
       "    <tr>\n",
       "      <th>27</th>\n",
       "      <td>why is sky</td>\n",
       "      <td>It seems like you're asking \"why is the sky?\" ...</td>\n",
       "      <td>(1, 2, 4)</td>\n",
       "      <td>0.578379</td>\n",
       "    </tr>\n",
       "    <tr>\n",
       "      <th>28</th>\n",
       "      <td>why sky</td>\n",
       "      <td>The concept of the \"sky\" is a complex and mult...</td>\n",
       "      <td>(1, 4)</td>\n",
       "      <td>0.490298</td>\n",
       "    </tr>\n",
       "    <tr>\n",
       "      <th>29</th>\n",
       "      <td>the sky</td>\n",
       "      <td>The sky! It's a vast and wondrous expanse that...</td>\n",
       "      <td>(3, 4)</td>\n",
       "      <td>0.536810</td>\n",
       "    </tr>\n",
       "  </tbody>\n",
       "</table>\n",
       "</div>"
      ],
      "text/plain": [
       "               Prompt                                           Response  \\\n",
       "0    is the sky blue?  The answer is a bit more complicated than just...   \n",
       "1   why the sky blue?  The sky appears blue to us because of a phenom...   \n",
       "2    why is sky blue?  The reason why the sky appears blue is a fasci...   \n",
       "3    why is the blue?  It seems like you're referring to the color bl...   \n",
       "4      why is the sky  The sky has been a subject of fascination and ...   \n",
       "5              why is  It looks like you started to ask a question, b...   \n",
       "6              is sky  It looks like you started to ask a question, b...   \n",
       "7          why is the  It looks like you started to ask a question, b...   \n",
       "8             why the  It looks like you started to ask a question, b...   \n",
       "9                 sky  The sky!\\n\\nThe sky is the atmosphere that sur...   \n",
       "10             is the  I'm not sure what you're referring to. Could y...   \n",
       "11      why the blue?  Unfortunately, I don't have enough context to ...   \n",
       "12              blue?  A simple yet beautiful question!\\n\\nBlue is a ...   \n",
       "13       is sky blue?  A question that has puzzled philosophers, scie...   \n",
       "14          sky blue?  That's a lovely color!\\n\\nSky blue is a light ...   \n",
       "15                the  It seems like you started to type a word, but ...   \n",
       "16          the blue?  It seems like you were about to ask a question...   \n",
       "17      the sky blue?  A simple yet profound question!\\n\\nThe color o...   \n",
       "18        why the sky  A profound question! The phrase \"the sky\" is a...   \n",
       "19       is the blue?  I'm not sure what you're referring to. Could y...   \n",
       "20                 is  It looks like you started to ask a question, b...   \n",
       "21      why sky blue?  The color sky blue is a fascinating topic, and...   \n",
       "22         is the sky  It seems like you started to ask a question, b...   \n",
       "23                why  I can offer insights and explanations on a wid...   \n",
       "24       why is blue?  Blue is a complex and multifaceted color that ...   \n",
       "25          why blue?  \"Blue\" can refer to many things, but I'll take...   \n",
       "26           is blue?  A question that gets to the heart of a classic...   \n",
       "27         why is sky  It seems like you're asking \"why is the sky?\" ...   \n",
       "28            why sky  The concept of the \"sky\" is a complex and mult...   \n",
       "29            the sky  The sky! It's a vast and wondrous expanse that...   \n",
       "\n",
       "   Token_Indexes  Cosine_Similarity  \n",
       "0   (2, 3, 4, 5)           0.654787  \n",
       "1   (1, 3, 4, 5)           0.822302  \n",
       "2   (1, 2, 4, 5)           0.774012  \n",
       "3   (1, 2, 3, 5)           0.281900  \n",
       "4   (1, 2, 3, 4)           0.761916  \n",
       "5         (1, 2)           0.028789  \n",
       "6         (2, 4)           0.185316  \n",
       "7      (1, 2, 3)           0.029574  \n",
       "8         (1, 3)           0.029574  \n",
       "9           (4,)           0.508884  \n",
       "10        (2, 3)           0.087620  \n",
       "11     (1, 3, 5)           0.189264  \n",
       "12          (5,)           0.280501  \n",
       "13     (2, 4, 5)           0.684410  \n",
       "14        (4, 5)           0.306414  \n",
       "15          (3,)           0.075768  \n",
       "16        (3, 5)           0.200096  \n",
       "17     (3, 4, 5)           0.571984  \n",
       "18     (1, 3, 4)           0.518345  \n",
       "19     (2, 3, 5)           0.104183  \n",
       "20          (2,)           0.031334  \n",
       "21     (1, 4, 5)           0.789021  \n",
       "22     (2, 3, 4)           0.253815  \n",
       "23          (1,)           0.078481  \n",
       "24     (1, 2, 5)           0.487654  \n",
       "25        (1, 5)           0.392823  \n",
       "26        (2, 5)           0.299950  \n",
       "27     (1, 2, 4)           0.578379  \n",
       "28        (1, 4)           0.490298  \n",
       "29        (3, 4)           0.536810  "
      ]
     },
     "execution_count": 9,
     "metadata": {},
     "output_type": "execute_result"
    }
   ],
   "source": [
    "results"
   ]
  },
  {
   "cell_type": "code",
   "execution_count": 10,
   "id": "8a7707dc-8fdb-4aab-8a2c-a39d3917521b",
   "metadata": {},
   "outputs": [
    {
     "data": {
      "image/png": "[encoded data removed]",
      "text/plain": [
       "<Figure size 1000x200 with 2 Axes>"
      ]
     },
     "metadata": {},
     "output_type": "display_data"
    }
   ],
   "source": [
    "tshap.plot_colored_text()"
   ]
  },
  {
   "cell_type": "code",
   "execution_count": 11,
   "id": "176eaee5-42bc-4411-8ef1-a130738ffbcc",
   "metadata": {},
   "outputs": [
    {
     "name": "stdout",
     "output_type": "stream",
     "text": [
      "\u001b[38;2;174;174;255mwhy\u001b[0m \u001b[38;2;19;19;255mis\u001b[0m \u001b[38;2;0;0;255mthe\u001b[0m \u001b[38;2;255;0;0msky\u001b[0m \u001b[38;2;255;245;245mblue?\u001b[0m \n"
     ]
    }
   ],
   "source": [
    "tshap.print_colored_text()"
   ]
  },
  {
   "cell_type": "code",
   "execution_count": 12,
   "id": "a7fd7247-6f27-4946-87b1-a88529a468f6",
   "metadata": {},
   "outputs": [
    {
     "name": "stdout",
     "output_type": "stream",
     "text": [
      "\u001b[48;2;255;255;244mwhy\u001b[0m \u001b[48;2;255;255;254mis\u001b[0m \u001b[48;2;255;255;255mthe\u001b[0m \u001b[48;2;255;255;0msky\u001b[0m \u001b[48;2;255;255;219mblue?\u001b[0m \n"
     ]
    }
   ],
   "source": [
    "tshap.highlight_text_background()"
   ]
  },
  {
   "cell_type": "code",
   "execution_count": 13,
   "id": "1ac49757-bfdf-4073-ba24-e233d0e570e8",
   "metadata": {},
   "outputs": [
    {
     "data": {
      "application/vnd.jupyter.widget-view+json": {
       "model_id": "d992eca96f01476b8583857702964eb8",
       "version_major": 2,
       "version_minor": 0
      },
      "text/plain": [
       "Processing combinations:   0%|          | 0/25 [00:00<?, ?it/s]"
      ]
     },
     "metadata": {},
     "output_type": "display_data"
    }
   ],
   "source": [
    "prompt = 'Complete the following code: def quick_sort(arr):'\n",
    "results = tshap.analyze(prompt, sampling_ratio = 1.0, splitter = ' ')"
   ]
  },
  {
   "cell_type": "code",
   "execution_count": 14,
   "id": "5b3c1d3b-dcac-4ebd-b859-b25b917e558d",
   "metadata": {},
   "outputs": [
    {
     "name": "stdout",
     "output_type": "stream",
     "text": [
      "def quick_sort(arr):\n",
      "    \"\"\"\n",
      "    Sorts an array using the QuickSort algorithm.\n",
      "\n",
      "    Args:\n",
      "        arr (list): The input array to be sorted.\n",
      "\n",
      "    Returns:\n",
      "        list: The sorted array.\n",
      "    \"\"\"\n",
      "\n",
      "    # Base case: If the length of the array is 1 or less, it's already sorted\n",
      "    if len(arr) <= 1:\n",
      "        return arr\n",
      "\n",
      "    # Select a pivot element (in this case, the middle element)\n",
      "    pivot = arr[len(arr) // 2]\n",
      "\n",
      "    # Divide the array into three lists: elements less than the pivot,\n",
      "    # elements equal to the pivot, and elements greater than the pivot\n",
      "    left = [x for x in arr if x < pivot]\n",
      "    middle = [x for x in arr if x == pivot]\n",
      "    right = [x for x in arr if x > pivot]\n",
      "\n",
      "    # Recursively sort the 'left' and 'right' lists and combine them with the 'middle' list\n",
      "    return quick_sort(left) + middle + quick_sort(right)\n"
     ]
    }
   ],
   "source": [
    "print(tshap.baseline_text)"
   ]
  },
  {
   "cell_type": "code",
   "execution_count": 15,
   "id": "5cabda96-75d6-4401-b52f-08dfc78d2685",
   "metadata": {},
   "outputs": [
    {
     "data": {
      "text/plain": [
       "25"
      ]
     },
     "execution_count": 15,
     "metadata": {},
     "output_type": "execute_result"
    }
   ],
   "source": [
    "len(results)"
   ]
  },
  {
   "cell_type": "code",
   "execution_count": 16,
   "id": "0182907a-6248-4139-a190-3529fcf9480e",
   "metadata": {},
   "outputs": [
    {
     "data": {
      "text/html": [
       "<div>\n",
       "<style scoped>\n",
       "    .dataframe tbody tr th:only-of-type {\n",
       "        vertical-align: middle;\n",
       "    }\n",
       "\n",
       "    .dataframe tbody tr th {\n",
       "        vertical-align: top;\n",
       "    }\n",
       "\n",
       "    .dataframe thead th {\n",
       "        text-align: right;\n",
       "    }\n",
       "</style>\n",
       "<table border=\"1\" class=\"dataframe\">\n",
       "  <thead>\n",
       "    <tr style=\"text-align: right;\">\n",
       "      <th></th>\n",
       "      <th>Prompt</th>\n",
       "      <th>Response</th>\n",
       "      <th>Token_Indexes</th>\n",
       "      <th>Cosine_Similarity</th>\n",
       "    </tr>\n",
       "  </thead>\n",
       "  <tbody>\n",
       "    <tr>\n",
       "      <th>0</th>\n",
       "      <td>the following code: def quick</td>\n",
       "      <td>It looks like you started to write a QuickSort...</td>\n",
       "      <td>(2, 3, 4, 5, 6)</td>\n",
       "      <td>0.853191</td>\n",
       "    </tr>\n",
       "    <tr>\n",
       "      <th>1</th>\n",
       "      <td>Complete following code: def quick</td>\n",
       "      <td>def quick_sort(arr):\\n    \"\"\"\\n    Sorts an ar...</td>\n",
       "      <td>(1, 3, 4, 5, 6)</td>\n",
       "      <td>0.957801</td>\n",
       "    </tr>\n",
       "    <tr>\n",
       "      <th>2</th>\n",
       "      <td>Complete the code: def quick</td>\n",
       "      <td>def quick_sort(arr):\\n    \"\"\"\\n    Sorts an ar...</td>\n",
       "      <td>(1, 2, 4, 5, 6)</td>\n",
       "      <td>0.947602</td>\n",
       "    </tr>\n",
       "    <tr>\n",
       "      <th>3</th>\n",
       "      <td>Complete the following def quick</td>\n",
       "      <td>def quick_sort(arr):\\n    \"\"\"\\n    This functi...</td>\n",
       "      <td>(1, 2, 3, 5, 6)</td>\n",
       "      <td>0.975552</td>\n",
       "    </tr>\n",
       "    <tr>\n",
       "      <th>4</th>\n",
       "      <td>Complete the following code: quick</td>\n",
       "      <td>Here's a Python implementation of QuickSort. T...</td>\n",
       "      <td>(1, 2, 3, 4, 6)</td>\n",
       "      <td>0.836644</td>\n",
       "    </tr>\n",
       "  </tbody>\n",
       "</table>\n",
       "</div>"
      ],
      "text/plain": [
       "                               Prompt  \\\n",
       "0       the following code: def quick   \n",
       "1  Complete following code: def quick   \n",
       "2        Complete the code: def quick   \n",
       "3    Complete the following def quick   \n",
       "4  Complete the following code: quick   \n",
       "\n",
       "                                            Response    Token_Indexes  \\\n",
       "0  It looks like you started to write a QuickSort...  (2, 3, 4, 5, 6)   \n",
       "1  def quick_sort(arr):\\n    \"\"\"\\n    Sorts an ar...  (1, 3, 4, 5, 6)   \n",
       "2  def quick_sort(arr):\\n    \"\"\"\\n    Sorts an ar...  (1, 2, 4, 5, 6)   \n",
       "3  def quick_sort(arr):\\n    \"\"\"\\n    This functi...  (1, 2, 3, 5, 6)   \n",
       "4  Here's a Python implementation of QuickSort. T...  (1, 2, 3, 4, 6)   \n",
       "\n",
       "   Cosine_Similarity  \n",
       "0           0.853191  \n",
       "1           0.957801  \n",
       "2           0.947602  \n",
       "3           0.975552  \n",
       "4           0.836644  "
      ]
     },
     "execution_count": 16,
     "metadata": {},
     "output_type": "execute_result"
    }
   ],
   "source": [
    "results.head()"
   ]
  },
  {
   "cell_type": "code",
   "execution_count": 17,
   "id": "af3b87b1-0b63-43e5-a5d7-fb373ba135fe",
   "metadata": {},
   "outputs": [
    {
     "data": {
      "image/png": "[encoded data removed]",
      "text/plain": [
       "<Figure size 1000x400 with 2 Axes>"
      ]
     },
     "metadata": {},
     "output_type": "display_data"
    }
   ],
   "source": [
    "tshap.plot_colored_text(new_line = True)"
   ]
  },
  {
   "cell_type": "code",
   "execution_count": 18,
   "id": "89b51a1b-d487-4be5-a6a7-d1251a53f6b2",
   "metadata": {},
   "outputs": [
    {
     "name": "stdout",
     "output_type": "stream",
     "text": [
      "\u001b[38;2;0;0;255mComplete\u001b[0m \u001b[38;2;28;28;255mthe\u001b[0m \u001b[38;2;94;94;255mfollowing\u001b[0m \u001b[38;2;64;64;255mcode:\u001b[0m \u001b[38;2;198;198;255mdef\u001b[0m \u001b[38;2;255;0;0mquick_sort(arr):\u001b[0m \n"
     ]
    }
   ],
   "source": [
    "tshap.print_colored_text()"
   ]
  },
  {
   "cell_type": "code",
   "execution_count": 19,
   "id": "a7d53c1c-9fb1-482d-8465-19d595cb78c9",
   "metadata": {},
   "outputs": [
    {
     "name": "stdout",
     "output_type": "stream",
     "text": [
      "\u001b[48;2;255;255;255mComplete\u001b[0m \u001b[48;2;255;255;254mthe\u001b[0m \u001b[48;2;255;255;253mfollowing\u001b[0m \u001b[48;2;255;255;254mcode:\u001b[0m \u001b[48;2;255;255;239mdef\u001b[0m \u001b[48;2;255;255;0mquick_sort(arr):\u001b[0m \n"
     ]
    }
   ],
   "source": [
    "tshap.highlight_text_background()"
   ]
  },
  {
   "cell_type": "code",
   "execution_count": 29,
   "id": "04f2a37c-1733-47d4-b43e-46ed33827516",
   "metadata": {},
   "outputs": [
    {
     "data": {
      "application/vnd.jupyter.widget-view+json": {
       "model_id": "5d400ccb92704ff99453cc3eb553a75e",
       "version_major": 2,
       "version_minor": 0
      },
      "text/plain": [
       "Processing combinations:   0%|          | 0/1152 [00:00<?, ?it/s]"
      ]
     },
     "metadata": {},
     "output_type": "display_data"
    }
   ],
   "source": [
    "prompt = \"\"\"\n",
    "Patient is a 45-year-old male presenting with fatigue, fever, shortness of breath, \n",
    "and occasional chest pain. Symptoms have persisted for two weeks. \n",
    "Blood tests show elevated white blood cell count, while chest X-ray indicates mild lung inflammation. \n",
    "Family history includes cardiovascular disease and asthma.\n",
    "What is the most likely diagnosis for this patient based on the symptoms and medical history?\n",
    "\"\"\"\n",
    "results = tshap.analyze(prompt, sampling_ratio = 1/1e15, splitter = ' ')"
   ]
  },
  {
   "cell_type": "code",
   "execution_count": 30,
   "id": "48e909ca-5e35-4888-99d1-98f6835e41d5",
   "metadata": {},
   "outputs": [
    {
     "name": "stdout",
     "output_type": "stream",
     "text": [
      "\u001b[48;2;255;255;212mPatient\u001b[0m \u001b[48;2;255;255;241mis\u001b[0m \u001b[48;2;255;255;191ma\u001b[0m \u001b[48;2;255;255;245m45-year-old\u001b[0m \u001b[48;2;255;255;249mmale\u001b[0m \u001b[48;2;255;255;149mpresenting\u001b[0m \u001b[48;2;255;255;245mwith\u001b[0m \u001b[48;2;255;255;225mfatigue,\u001b[0m \u001b[48;2;255;255;201mfever,\u001b[0m \u001b[48;2;255;255;213mshortness\u001b[0m \u001b[48;2;255;255;250mof\u001b[0m \u001b[48;2;255;255;214mbreath,\u001b[0m \u001b[48;2;255;255;229mand\u001b[0m \u001b[48;2;255;255;245moccasional\u001b[0m \u001b[48;2;255;255;245mchest\u001b[0m \u001b[48;2;255;255;253mpain.\u001b[0m \u001b[48;2;255;255;253mSymptoms\u001b[0m \u001b[48;2;255;255;254mhave\u001b[0m \u001b[48;2;255;255;246mpersisted\u001b[0m \u001b[48;2;255;255;248mfor\u001b[0m \u001b[48;2;255;255;254mtwo\u001b[0m \u001b[48;2;255;255;251mweeks.\u001b[0m \u001b[48;2;255;255;248mBlood\u001b[0m \u001b[48;2;255;255;246mtests\u001b[0m \u001b[48;2;255;255;239mshow\u001b[0m \u001b[48;2;255;255;245melevated\u001b[0m \u001b[48;2;255;255;239mwhite\u001b[0m \u001b[48;2;255;255;235mblood\u001b[0m \u001b[48;2;255;255;242mcell\u001b[0m \u001b[48;2;255;255;247mcount,\u001b[0m \u001b[48;2;255;255;247mwhile\u001b[0m \u001b[48;2;255;255;237mchest\u001b[0m \u001b[48;2;255;255;176mX-ray\u001b[0m \u001b[48;2;255;255;231mindicates\u001b[0m \u001b[48;2;255;255;238mmild\u001b[0m \u001b[48;2;255;255;237mlung\u001b[0m \u001b[48;2;255;255;235minflammation.\u001b[0m \u001b[48;2;255;255;252mFamily\u001b[0m \u001b[48;2;255;255;150mhistory\u001b[0m \u001b[48;2;255;255;251mincludes\u001b[0m \u001b[48;2;255;255;129mcardiovascular\u001b[0m \u001b[48;2;255;255;229mdisease\u001b[0m \u001b[48;2;255;255;254mand\u001b[0m \u001b[48;2;255;255;0masthma.\u001b[0m \u001b[48;2;255;255;254mWhat\u001b[0m \u001b[48;2;255;255;250mis\u001b[0m \u001b[48;2;255;255;255mthe\u001b[0m \u001b[48;2;255;255;250mmost\u001b[0m \u001b[48;2;255;255;166mlikely\u001b[0m \u001b[48;2;255;255;247mdiagnosis\u001b[0m \u001b[48;2;255;255;254mfor\u001b[0m \u001b[48;2;255;255;251mthis\u001b[0m \u001b[48;2;255;255;134mpatient\u001b[0m \u001b[48;2;255;255;250mbased\u001b[0m \u001b[48;2;255;255;254mon\u001b[0m \u001b[48;2;255;255;249mthe\u001b[0m \u001b[48;2;255;255;199msymptoms\u001b[0m \u001b[48;2;255;255;254mand\u001b[0m \u001b[48;2;255;255;253mmedical\u001b[0m \u001b[48;2;255;255;230mhistory?\u001b[0m \n"
     ]
    }
   ],
   "source": [
    "tshap.highlight_text_background()"
   ]
  },
  {
   "cell_type": "code",
   "execution_count": 31,
   "id": "f5e6898c-1fa5-45b7-82d2-4853ad5be878",
   "metadata": {},
   "outputs": [
    {
     "name": "stdout",
     "output_type": "stream",
     "text": [
      "\u001b[38;2;255;229;229mPatient\u001b[0m \u001b[38;2;191;191;255mis\u001b[0m \u001b[38;2;255;189;189ma\u001b[0m \u001b[38;2;168;168;255m45-year-old\u001b[0m \u001b[38;2;145;145;255mmale\u001b[0m \u001b[38;2;255;129;129mpresenting\u001b[0m \u001b[38;2;171;171;255mwith\u001b[0m \u001b[38;2;247;247;255mfatigue,\u001b[0m \u001b[38;2;255;206;206mfever,\u001b[0m \u001b[38;2;255;231;231mshortness\u001b[0m \u001b[38;2;132;132;255mof\u001b[0m \u001b[38;2;255;234;234mbreath,\u001b[0m \u001b[38;2;236;236;255mand\u001b[0m \u001b[38;2;170;170;255moccasional\u001b[0m \u001b[38;2;172;172;255mchest\u001b[0m \u001b[38;2;86;86;255mpain.\u001b[0m \u001b[38;2;98;98;255mSymptoms\u001b[0m \u001b[38;2;74;74;255mhave\u001b[0m \u001b[38;2;165;165;255mpersisted\u001b[0m \u001b[38;2;152;152;255mfor\u001b[0m \u001b[38;2;60;60;255mtwo\u001b[0m \u001b[38;2;125;125;255mweeks.\u001b[0m \u001b[38;2;153;153;255mBlood\u001b[0m \u001b[38;2;161;161;255mtests\u001b[0m \u001b[38;2;198;198;255mshow\u001b[0m \u001b[38;2;168;168;255melevated\u001b[0m \u001b[38;2;199;199;255mwhite\u001b[0m \u001b[38;2;216;216;255mblood\u001b[0m \u001b[38;2;188;188;255mcell\u001b[0m \u001b[38;2;159;159;255mcount,\u001b[0m \u001b[38;2;160;160;255mwhile\u001b[0m \u001b[38;2;210;210;255mchest\u001b[0m \u001b[38;2;255;164;164mX-ray\u001b[0m \u001b[38;2;231;231;255mindicates\u001b[0m \u001b[38;2;204;204;255mmild\u001b[0m \u001b[38;2;209;209;255mlung\u001b[0m \u001b[38;2;216;216;255minflammation.\u001b[0m \u001b[38;2;115;115;255mFamily\u001b[0m \u001b[38;2;255;131;131mhistory\u001b[0m \u001b[38;2;116;116;255mincludes\u001b[0m \u001b[38;2;255;107;107mcardiovascular\u001b[0m \u001b[38;2;236;236;255mdisease\u001b[0m \u001b[38;2;30;30;255mand\u001b[0m \u001b[38;2;255;0;0masthma.\u001b[0m \u001b[38;2;64;64;255mWhat\u001b[0m \u001b[38;2;130;130;255mis\u001b[0m \u001b[38;2;0;0;255mthe\u001b[0m \u001b[38;2;136;136;255mmost\u001b[0m \u001b[38;2;255;152;152mlikely\u001b[0m \u001b[38;2;153;153;255mdiagnosis\u001b[0m \u001b[38;2;50;50;255mfor\u001b[0m \u001b[38;2;122;122;255mthis\u001b[0m \u001b[38;2;255;112;112mpatient\u001b[0m \u001b[38;2;129;129;255mbased\u001b[0m \u001b[38;2;22;22;255mon\u001b[0m \u001b[38;2;144;144;255mthe\u001b[0m \u001b[38;2;255;202;202msymptoms\u001b[0m \u001b[38;2;56;56;255mand\u001b[0m \u001b[38;2;82;82;255mmedical\u001b[0m \u001b[38;2;233;233;255mhistory?\u001b[0m \n"
     ]
    }
   ],
   "source": [
    "tshap.print_colored_text()"
   ]
  },
  {
   "cell_type": "code",
   "execution_count": 32,
   "id": "c1568cdc-5c52-4f57-89bd-9f40abcdef17",
   "metadata": {},
   "outputs": [
    {
     "data": {
      "text/plain": [
       "1152"
      ]
     },
     "execution_count": 32,
     "metadata": {},
     "output_type": "execute_result"
    }
   ],
   "source": [
    "len(results)"
   ]
  },
  {
   "cell_type": "code",
   "execution_count": 33,
   "id": "6b6e738b-aaf7-4a8e-9680-e92e68e0d022",
   "metadata": {},
   "outputs": [
    {
     "data": {
      "text/html": [
       "<div>\n",
       "<style scoped>\n",
       "    .dataframe tbody tr th:only-of-type {\n",
       "        vertical-align: middle;\n",
       "    }\n",
       "\n",
       "    .dataframe tbody tr th {\n",
       "        vertical-align: top;\n",
       "    }\n",
       "\n",
       "    .dataframe thead th {\n",
       "        text-align: right;\n",
       "    }\n",
       "</style>\n",
       "<table border=\"1\" class=\"dataframe\">\n",
       "  <thead>\n",
       "    <tr style=\"text-align: right;\">\n",
       "      <th></th>\n",
       "      <th>Prompt</th>\n",
       "      <th>Response</th>\n",
       "      <th>Token_Indexes</th>\n",
       "      <th>Cosine_Similarity</th>\n",
       "    </tr>\n",
       "  </thead>\n",
       "  <tbody>\n",
       "    <tr>\n",
       "      <th>0</th>\n",
       "      <td>is a 45-year-old male presenting with fatigue,...</td>\n",
       "      <td>Based on the symptoms and medical history prov...</td>\n",
       "      <td>(2, 3, 4, 5, 6, 7, 8, 9, 10, 11, 12, 13, 14, 1...</td>\n",
       "      <td>0.532775</td>\n",
       "    </tr>\n",
       "    <tr>\n",
       "      <th>1</th>\n",
       "      <td>Patient a 45-year-old male presenting with fat...</td>\n",
       "      <td>Based on the symptoms and medical history prov...</td>\n",
       "      <td>(1, 3, 4, 5, 6, 7, 8, 9, 10, 11, 12, 13, 14, 1...</td>\n",
       "      <td>0.502984</td>\n",
       "    </tr>\n",
       "    <tr>\n",
       "      <th>2</th>\n",
       "      <td>Patient is 45-year-old male presenting with fa...</td>\n",
       "      <td>Based on the symptoms and medical history prov...</td>\n",
       "      <td>(1, 2, 4, 5, 6, 7, 8, 9, 10, 11, 12, 13, 14, 1...</td>\n",
       "      <td>0.379751</td>\n",
       "    </tr>\n",
       "    <tr>\n",
       "      <th>3</th>\n",
       "      <td>Patient is a male presenting with fatigue, fev...</td>\n",
       "      <td>Based on the patient's symptoms and medical hi...</td>\n",
       "      <td>(1, 2, 3, 5, 6, 7, 8, 9, 10, 11, 12, 13, 14, 1...</td>\n",
       "      <td>0.651572</td>\n",
       "    </tr>\n",
       "    <tr>\n",
       "      <th>4</th>\n",
       "      <td>Patient is a 45-year-old presenting with fatig...</td>\n",
       "      <td>Based on the symptoms and medical history prov...</td>\n",
       "      <td>(1, 2, 3, 4, 6, 7, 8, 9, 10, 11, 12, 13, 14, 1...</td>\n",
       "      <td>0.496086</td>\n",
       "    </tr>\n",
       "  </tbody>\n",
       "</table>\n",
       "</div>"
      ],
      "text/plain": [
       "                                              Prompt  \\\n",
       "0  is a 45-year-old male presenting with fatigue,...   \n",
       "1  Patient a 45-year-old male presenting with fat...   \n",
       "2  Patient is 45-year-old male presenting with fa...   \n",
       "3  Patient is a male presenting with fatigue, fev...   \n",
       "4  Patient is a 45-year-old presenting with fatig...   \n",
       "\n",
       "                                            Response  \\\n",
       "0  Based on the symptoms and medical history prov...   \n",
       "1  Based on the symptoms and medical history prov...   \n",
       "2  Based on the symptoms and medical history prov...   \n",
       "3  Based on the patient's symptoms and medical hi...   \n",
       "4  Based on the symptoms and medical history prov...   \n",
       "\n",
       "                                       Token_Indexes  Cosine_Similarity  \n",
       "0  (2, 3, 4, 5, 6, 7, 8, 9, 10, 11, 12, 13, 14, 1...           0.532775  \n",
       "1  (1, 3, 4, 5, 6, 7, 8, 9, 10, 11, 12, 13, 14, 1...           0.502984  \n",
       "2  (1, 2, 4, 5, 6, 7, 8, 9, 10, 11, 12, 13, 14, 1...           0.379751  \n",
       "3  (1, 2, 3, 5, 6, 7, 8, 9, 10, 11, 12, 13, 14, 1...           0.651572  \n",
       "4  (1, 2, 3, 4, 6, 7, 8, 9, 10, 11, 12, 13, 14, 1...           0.496086  "
      ]
     },
     "execution_count": 33,
     "metadata": {},
     "output_type": "execute_result"
    }
   ],
   "source": [
    "results.head()"
   ]
  },
  {
   "cell_type": "code",
   "execution_count": 37,
   "id": "2338a197-6993-4dcf-91d4-936901b0f8b6",
   "metadata": {},
   "outputs": [
    {
     "data": {
      "text/plain": [
       "<Axes: >"
      ]
     },
     "execution_count": 37,
     "metadata": {},
     "output_type": "execute_result"
    },
    {
     "data": {
      "image/png": "[encoded data removed]",
      "text/plain": [
       "<Figure size 640x480 with 1 Axes>"
      ]
     },
     "metadata": {},
     "output_type": "display_data"
    }
   ],
   "source": [
    "results['Cosine_Similarity'].hist(bins = 35)"
   ]
  },
  {
   "cell_type": "markdown",
   "id": "4bd01dc8-f592-415c-b0d7-091d1a428396",
   "metadata": {},
   "source": [
    "## Multiple Samples"
   ]
  },
  {
   "cell_type": "code",
   "execution_count": 25,
   "id": "040dcd0d-db3f-4a4c-a99b-fdb02fad18bf",
   "metadata": {
    "tags": []
   },
   "outputs": [
    {
     "data": {
      "application/vnd.jupyter.widget-view+json": {
       "model_id": "d70a7ebc1acd4e8ea679866fb1fda48b",
       "version_major": 2,
       "version_minor": 0
      },
      "text/plain": [
       "Processing combinations:   0%|          | 0/62 [00:00<?, ?it/s]"
      ]
     },
     "metadata": {},
     "output_type": "display_data"
    }
   ],
   "source": [
    "prompt = \"\"\"\n",
    "Our company is experiencing a decline in quarterly sales for the first time in five years. \n",
    "Recent market trends indicate increased competition from new startups offering similar products at lower prices. \n",
    "Despite an increase in our online advertising budget, customer engagement on social media platforms has decreased by 15% compared to last quarter. \n",
    "In addition, feedback from customer surveys suggests that many are dissatisfied with the lack of new features in our products. \n",
    "Our largest competitor recently launched a new version of their product with innovative functionalities, which seems to have attracted a significant portion of our customer base.\n",
    "What strategic actions should our company consider to regain market share and improve customer satisfaction?\n",
    "\"\"\"\n",
    "results = tshap.analyze(prompt, splitter ='.', sampling_ratio = 1.0)"
   ]
  },
  {
   "cell_type": "code",
   "execution_count": 26,
   "id": "37986fc4-b442-4cae-9eab-3a218315f7b4",
   "metadata": {},
   "outputs": [
    {
     "data": {
      "text/html": [
       "<div>\n",
       "<style scoped>\n",
       "    .dataframe tbody tr th:only-of-type {\n",
       "        vertical-align: middle;\n",
       "    }\n",
       "\n",
       "    .dataframe tbody tr th {\n",
       "        vertical-align: top;\n",
       "    }\n",
       "\n",
       "    .dataframe thead th {\n",
       "        text-align: right;\n",
       "    }\n",
       "</style>\n",
       "<table border=\"1\" class=\"dataframe\">\n",
       "  <thead>\n",
       "    <tr style=\"text-align: right;\">\n",
       "      <th></th>\n",
       "      <th>Prompt</th>\n",
       "      <th>Response</th>\n",
       "      <th>Token_Indexes</th>\n",
       "      <th>Cosine_Similarity</th>\n",
       "    </tr>\n",
       "  </thead>\n",
       "  <tbody>\n",
       "    <tr>\n",
       "      <th>0</th>\n",
       "      <td>Recent market trends indicate increased compe...</td>\n",
       "      <td>To regain market share and improve customer sa...</td>\n",
       "      <td>(2, 3, 4, 5, 6)</td>\n",
       "      <td>0.576258</td>\n",
       "    </tr>\n",
       "    <tr>\n",
       "      <th>1</th>\n",
       "      <td>Our company is experiencing a decline in quart...</td>\n",
       "      <td>Given your company's situation, here are some ...</td>\n",
       "      <td>(1, 3, 4, 5, 6)</td>\n",
       "      <td>0.596752</td>\n",
       "    </tr>\n",
       "    <tr>\n",
       "      <th>2</th>\n",
       "      <td>Our company is experiencing a decline in quart...</td>\n",
       "      <td>Given the challenges you're facing, here are s...</td>\n",
       "      <td>(1, 2, 4, 5, 6)</td>\n",
       "      <td>0.535957</td>\n",
       "    </tr>\n",
       "    <tr>\n",
       "      <th>3</th>\n",
       "      <td>Our company is experiencing a decline in quart...</td>\n",
       "      <td>Given the current market trends and decline in...</td>\n",
       "      <td>(1, 2, 3, 5, 6)</td>\n",
       "      <td>0.544823</td>\n",
       "    </tr>\n",
       "    <tr>\n",
       "      <th>4</th>\n",
       "      <td>Our company is experiencing a decline in quart...</td>\n",
       "      <td>Given your company's decline in quarterly sale...</td>\n",
       "      <td>(1, 2, 3, 4, 6)</td>\n",
       "      <td>0.457702</td>\n",
       "    </tr>\n",
       "    <tr>\n",
       "      <th>...</th>\n",
       "      <td>...</td>\n",
       "      <td>...</td>\n",
       "      <td>...</td>\n",
       "      <td>...</td>\n",
       "    </tr>\n",
       "    <tr>\n",
       "      <th>57</th>\n",
       "      <td>In addition, feedback from customer surveys s...</td>\n",
       "      <td>To regain market share and improve customer sa...</td>\n",
       "      <td>(4, 5, 6)</td>\n",
       "      <td>0.448223</td>\n",
       "    </tr>\n",
       "    <tr>\n",
       "      <th>58</th>\n",
       "      <td>Our company is experiencing a decline in quart...</td>\n",
       "      <td>Given the decline in quarterly sales and custo...</td>\n",
       "      <td>(1, 3, 4, 6)</td>\n",
       "      <td>0.534820</td>\n",
       "    </tr>\n",
       "    <tr>\n",
       "      <th>59</th>\n",
       "      <td>Our company is experiencing a decline in quart...</td>\n",
       "      <td>I'm so sorry to hear that your company is goin...</td>\n",
       "      <td>(1,)</td>\n",
       "      <td>0.423717</td>\n",
       "    </tr>\n",
       "    <tr>\n",
       "      <th>60</th>\n",
       "      <td>Recent market trends indicate increased compe...</td>\n",
       "      <td>To regain market share and improve customer sa...</td>\n",
       "      <td>(2, 4, 5, 6)</td>\n",
       "      <td>0.567585</td>\n",
       "    </tr>\n",
       "    <tr>\n",
       "      <th>61</th>\n",
       "      <td>Our largest competitor recently launched a ne...</td>\n",
       "      <td>That's a challenging situation. Here are some ...</td>\n",
       "      <td>(5,)</td>\n",
       "      <td>0.442285</td>\n",
       "    </tr>\n",
       "  </tbody>\n",
       "</table>\n",
       "<p>62 rows × 4 columns</p>\n",
       "</div>"
      ],
      "text/plain": [
       "                                               Prompt  \\\n",
       "0    Recent market trends indicate increased compe...   \n",
       "1   Our company is experiencing a decline in quart...   \n",
       "2   Our company is experiencing a decline in quart...   \n",
       "3   Our company is experiencing a decline in quart...   \n",
       "4   Our company is experiencing a decline in quart...   \n",
       "..                                                ...   \n",
       "57   In addition, feedback from customer surveys s...   \n",
       "58  Our company is experiencing a decline in quart...   \n",
       "59  Our company is experiencing a decline in quart...   \n",
       "60   Recent market trends indicate increased compe...   \n",
       "61   Our largest competitor recently launched a ne...   \n",
       "\n",
       "                                             Response    Token_Indexes  \\\n",
       "0   To regain market share and improve customer sa...  (2, 3, 4, 5, 6)   \n",
       "1   Given your company's situation, here are some ...  (1, 3, 4, 5, 6)   \n",
       "2   Given the challenges you're facing, here are s...  (1, 2, 4, 5, 6)   \n",
       "3   Given the current market trends and decline in...  (1, 2, 3, 5, 6)   \n",
       "4   Given your company's decline in quarterly sale...  (1, 2, 3, 4, 6)   \n",
       "..                                                ...              ...   \n",
       "57  To regain market share and improve customer sa...        (4, 5, 6)   \n",
       "58  Given the decline in quarterly sales and custo...     (1, 3, 4, 6)   \n",
       "59  I'm so sorry to hear that your company is goin...             (1,)   \n",
       "60  To regain market share and improve customer sa...     (2, 4, 5, 6)   \n",
       "61  That's a challenging situation. Here are some ...             (5,)   \n",
       "\n",
       "    Cosine_Similarity  \n",
       "0            0.576258  \n",
       "1            0.596752  \n",
       "2            0.535957  \n",
       "3            0.544823  \n",
       "4            0.457702  \n",
       "..                ...  \n",
       "57           0.448223  \n",
       "58           0.534820  \n",
       "59           0.423717  \n",
       "60           0.567585  \n",
       "61           0.442285  \n",
       "\n",
       "[62 rows x 4 columns]"
      ]
     },
     "execution_count": 26,
     "metadata": {},
     "output_type": "execute_result"
    }
   ],
   "source": [
    "results"
   ]
  },
  {
   "cell_type": "code",
   "execution_count": 27,
   "id": "15c2eeb4-da55-4e05-95f8-ec7278f8d79c",
   "metadata": {},
   "outputs": [
    {
     "name": "stdout",
     "output_type": "stream",
     "text": [
      "\u001b[38;2;123;123;255mOur company is experiencing a decline in quarterly sales for the first time in five years\u001b[0m \u001b[38;2;96;96;255m Recent market trends indicate increased competition from new startups offering similar products at lower prices\u001b[0m \u001b[38;2;209;209;255m Despite an increase in our online advertising budget, customer engagement on social media platforms has decreased by 15% compared to last quarter\u001b[0m \u001b[38;2;0;0;255m In addition, feedback from customer surveys suggests that many are dissatisfied with the lack of new features in our products\u001b[0m \u001b[38;2;199;199;255m Our largest competitor recently launched a new version of their product with innovative functionalities, which seems to have attracted a significant portion of our customer base\u001b[0m \u001b[38;2;255;0;0m What strategic actions should our company consider to regain market share and improve customer satisfaction?\u001b[0m \n"
     ]
    }
   ],
   "source": [
    "tshap.print_colored_text()"
   ]
  },
  {
   "cell_type": "code",
   "execution_count": 28,
   "id": "7d11c652-e847-49fb-a2c8-86c7f9582175",
   "metadata": {},
   "outputs": [
    {
     "name": "stdout",
     "output_type": "stream",
     "text": [
      "\u001b[48;2;255;255;251mOur company is experiencing a decline in quarterly sales for the first time in five years\u001b[0m \u001b[48;2;255;255;253m Recent market trends indicate increased competition from new startups offering similar products at lower prices\u001b[0m \u001b[48;2;255;255;237m Despite an increase in our online advertising budget, customer engagement on social media platforms has decreased by 15% compared to last quarter\u001b[0m \u001b[48;2;255;255;255m In addition, feedback from customer surveys suggests that many are dissatisfied with the lack of new features in our products\u001b[0m \u001b[48;2;255;255;239m Our largest competitor recently launched a new version of their product with innovative functionalities, which seems to have attracted a significant portion of our customer base\u001b[0m \u001b[48;2;255;255;0m What strategic actions should our company consider to regain market share and improve customer satisfaction?\u001b[0m \n"
     ]
    }
   ],
   "source": [
    "tshap.highlight_text_background()"
   ]
  },
  {
   "cell_type": "code",
   "execution_count": 3,
   "id": "dcece149-92c2-4f0a-adc5-e46817b8f227",
   "metadata": {},
   "outputs": [],
   "source": [
    "prompts = [\n",
    "    \"Despite the weather, explain the causes of the French Revolution.\",\n",
    "    \"Quickly, describe the structure and function of the human heart.\",\n",
    "    \"If possible, list the primary colors and how they mix to form secondary colors.\",\n",
    "    \"Considering everything, summarize the theory of evolution by natural selection.\",\n",
    "    \"In your opinion, discuss the impact of the internet on modern communication.\",\n",
    "    \"Perhaps you could explain the significance of the Bill of Rights in American history.\",\n",
    "    \"Given that, outline the process of cellular respiration in mitochondria.\",\n",
    "    \"By the way, what are the main themes in George Orwell's '1984'?\",\n",
    "    \"At your leisure, analyze the effects of deforestation on biodiversity.\",\n",
    "    \"If you don't mind, describe the water cycle and its stages.\",\n",
    "    \"Whenever you're ready, explain how photosynthesis converts light energy into chemical energy.\",\n",
    "    \"In your own words, discuss the ethical considerations of genetic engineering.\",\n",
    "    \"Assuming all else is equal, explain the principles of supply and demand in economics.\",\n",
    "    \"To the best of your ability, describe the process of protein synthesis in cells.\",\n",
    "    \"If it's not too much trouble, outline the major causes of World War II.\"\n",
    "]"
   ]
  },
  {
   "cell_type": "code",
   "execution_count": 4,
   "id": "f61abe83-0683-42e9-a6b1-8bca13ea1508",
   "metadata": {},
   "outputs": [
    {
     "data": {
      "application/vnd.jupyter.widget-view+json": {
       "model_id": "",
       "version_major": 2,
       "version_minor": 0
      },
      "text/plain": [
       "Processing combinations:   0%|          | 0/10 [00:00<?, ?it/s]"
      ]
     },
     "metadata": {},
     "output_type": "display_data"
    },
    {
     "name": "stdout",
     "output_type": "stream",
     "text": [
      "\u001b[48;2;255;255;254mDespite\u001b[0m \u001b[48;2;255;255;253mthe\u001b[0m \u001b[48;2;255;255;254mweather,\u001b[0m \u001b[48;2;255;255;254mexplain\u001b[0m \u001b[48;2;255;255;254mthe\u001b[0m \u001b[48;2;255;255;248mcauses\u001b[0m \u001b[48;2;255;255;253mof\u001b[0m \u001b[48;2;255;255;255mthe\u001b[0m \u001b[48;2;255;255;0mFrench\u001b[0m \u001b[48;2;255;255;242mRevolution.\u001b[0m \n"
     ]
    },
    {
     "data": {
      "application/vnd.jupyter.widget-view+json": {
       "model_id": "",
       "version_major": 2,
       "version_minor": 0
      },
      "text/plain": [
       "Processing combinations:   0%|          | 0/10 [00:00<?, ?it/s]"
      ]
     },
     "metadata": {},
     "output_type": "display_data"
    },
    {
     "name": "stdout",
     "output_type": "stream",
     "text": [
      "\u001b[48;2;255;255;254mQuickly,\u001b[0m \u001b[48;2;255;255;251mdescribe\u001b[0m \u001b[48;2;255;255;255mthe\u001b[0m \u001b[48;2;255;255;246mstructure\u001b[0m \u001b[48;2;255;255;249mand\u001b[0m \u001b[48;2;255;255;253mfunction\u001b[0m \u001b[48;2;255;255;253mof\u001b[0m \u001b[48;2;255;255;254mthe\u001b[0m \u001b[48;2;255;255;254mhuman\u001b[0m \u001b[48;2;255;255;0mheart.\u001b[0m \n"
     ]
    },
    {
     "data": {
      "application/vnd.jupyter.widget-view+json": {
       "model_id": "",
       "version_major": 2,
       "version_minor": 0
      },
      "text/plain": [
       "Processing combinations:   0%|          | 0/14 [00:00<?, ?it/s]"
      ]
     },
     "metadata": {},
     "output_type": "display_data"
    },
    {
     "name": "stdout",
     "output_type": "stream",
     "text": [
      "\u001b[48;2;255;255;0mIf\u001b[0m \u001b[48;2;255;255;186mpossible,\u001b[0m \u001b[48;2;255;255;254mlist\u001b[0m \u001b[48;2;255;255;220mthe\u001b[0m \u001b[48;2;255;255;240mprimary\u001b[0m \u001b[48;2;255;255;156mcolors\u001b[0m \u001b[48;2;255;255;119mand\u001b[0m \u001b[48;2;255;255;240mhow\u001b[0m \u001b[48;2;255;255;206mthey\u001b[0m \u001b[48;2;255;255;255mmix\u001b[0m \u001b[48;2;255;255;253mto\u001b[0m \u001b[48;2;255;255;235mform\u001b[0m \u001b[48;2;255;255;211msecondary\u001b[0m \u001b[48;2;255;255;240mcolors.\u001b[0m \n"
     ]
    },
    {
     "data": {
      "application/vnd.jupyter.widget-view+json": {
       "model_id": "",
       "version_major": 2,
       "version_minor": 0
      },
      "text/plain": [
       "Processing combinations:   0%|          | 0/10 [00:00<?, ?it/s]"
      ]
     },
     "metadata": {},
     "output_type": "display_data"
    },
    {
     "name": "stdout",
     "output_type": "stream",
     "text": [
      "\u001b[48;2;255;255;249mConsidering\u001b[0m \u001b[48;2;255;255;253meverything,\u001b[0m \u001b[48;2;255;255;61msummarize\u001b[0m \u001b[48;2;255;255;120mthe\u001b[0m \u001b[48;2;255;255;247mtheory\u001b[0m \u001b[48;2;255;255;125mof\u001b[0m \u001b[48;2;255;255;48mevolution\u001b[0m \u001b[48;2;255;255;255mby\u001b[0m \u001b[48;2;255;255;0mnatural\u001b[0m \u001b[48;2;255;255;232mselection.\u001b[0m \n"
     ]
    },
    {
     "data": {
      "application/vnd.jupyter.widget-view+json": {
       "model_id": "",
       "version_major": 2,
       "version_minor": 0
      },
      "text/plain": [
       "Processing combinations:   0%|          | 0/12 [00:00<?, ?it/s]"
      ]
     },
     "metadata": {},
     "output_type": "display_data"
    },
    {
     "name": "stdout",
     "output_type": "stream",
     "text": [
      "\u001b[48;2;255;255;255mIn\u001b[0m \u001b[48;2;255;255;254myour\u001b[0m \u001b[48;2;255;255;254mopinion,\u001b[0m \u001b[48;2;255;255;141mdiscuss\u001b[0m \u001b[48;2;255;255;117mthe\u001b[0m \u001b[48;2;255;255;117mimpact\u001b[0m \u001b[48;2;255;255;104mof\u001b[0m \u001b[48;2;255;255;254mthe\u001b[0m \u001b[48;2;255;255;54minternet\u001b[0m \u001b[48;2;255;255;130mon\u001b[0m \u001b[48;2;255;255;250mmodern\u001b[0m \u001b[48;2;255;255;0mcommunication.\u001b[0m \n"
     ]
    },
    {
     "data": {
      "application/vnd.jupyter.widget-view+json": {
       "model_id": "",
       "version_major": 2,
       "version_minor": 0
      },
      "text/plain": [
       "Processing combinations:   0%|          | 0/14 [00:00<?, ?it/s]"
      ]
     },
     "metadata": {},
     "output_type": "display_data"
    },
    {
     "name": "stdout",
     "output_type": "stream",
     "text": [
      "\u001b[48;2;255;255;237mPerhaps\u001b[0m \u001b[48;2;255;255;217myou\u001b[0m \u001b[48;2;255;255;252mcould\u001b[0m \u001b[48;2;255;255;223mexplain\u001b[0m \u001b[48;2;255;255;238mthe\u001b[0m \u001b[48;2;255;255;156msignificance\u001b[0m \u001b[48;2;255;255;209mof\u001b[0m \u001b[48;2;255;255;227mthe\u001b[0m \u001b[48;2;255;255;192mBill\u001b[0m \u001b[48;2;255;255;235mof\u001b[0m \u001b[48;2;255;255;217mRights\u001b[0m \u001b[48;2;255;255;0min\u001b[0m \u001b[48;2;255;255;254mAmerican\u001b[0m \u001b[48;2;255;255;255mhistory.\u001b[0m \n"
     ]
    },
    {
     "data": {
      "application/vnd.jupyter.widget-view+json": {
       "model_id": "",
       "version_major": 2,
       "version_minor": 0
      },
      "text/plain": [
       "Processing combinations:   0%|          | 0/10 [00:00<?, ?it/s]"
      ]
     },
     "metadata": {},
     "output_type": "display_data"
    },
    {
     "name": "stdout",
     "output_type": "stream",
     "text": [
      "\u001b[48;2;255;255;250mGiven\u001b[0m \u001b[48;2;255;255;255mthat,\u001b[0m \u001b[48;2;255;255;248moutline\u001b[0m \u001b[48;2;255;255;249mthe\u001b[0m \u001b[48;2;255;255;254mprocess\u001b[0m \u001b[48;2;255;255;252mof\u001b[0m \u001b[48;2;255;255;231mcellular\u001b[0m \u001b[48;2;255;255;214mrespiration\u001b[0m \u001b[48;2;255;255;234min\u001b[0m \u001b[48;2;255;255;0mmitochondria.\u001b[0m \n"
     ]
    },
    {
     "data": {
      "application/vnd.jupyter.widget-view+json": {
       "model_id": "",
       "version_major": 2,
       "version_minor": 0
      },
      "text/plain": [
       "Processing combinations:   0%|          | 0/12 [00:00<?, ?it/s]"
      ]
     },
     "metadata": {},
     "output_type": "display_data"
    },
    {
     "name": "stdout",
     "output_type": "stream",
     "text": [
      "\u001b[48;2;255;255;253mBy\u001b[0m \u001b[48;2;255;255;250mthe\u001b[0m \u001b[48;2;255;255;255mway,\u001b[0m \u001b[48;2;255;255;254mwhat\u001b[0m \u001b[48;2;255;255;252mare\u001b[0m \u001b[48;2;255;255;244mthe\u001b[0m \u001b[48;2;255;255;254mmain\u001b[0m \u001b[48;2;255;255;242mthemes\u001b[0m \u001b[48;2;255;255;254min\u001b[0m \u001b[48;2;255;255;253mGeorge\u001b[0m \u001b[48;2;255;255;251mOrwell's\u001b[0m \u001b[48;2;255;255;0m'1984'?\u001b[0m \n"
     ]
    },
    {
     "data": {
      "application/vnd.jupyter.widget-view+json": {
       "model_id": "",
       "version_major": 2,
       "version_minor": 0
      },
      "text/plain": [
       "Processing combinations:   0%|          | 0/10 [00:00<?, ?it/s]"
      ]
     },
     "metadata": {},
     "output_type": "display_data"
    },
    {
     "name": "stdout",
     "output_type": "stream",
     "text": [
      "\u001b[48;2;255;255;253mAt\u001b[0m \u001b[48;2;255;255;123myour\u001b[0m \u001b[48;2;255;255;254mleisure,\u001b[0m \u001b[48;2;255;255;243manalyze\u001b[0m \u001b[48;2;255;255;255mthe\u001b[0m \u001b[48;2;255;255;250meffects\u001b[0m \u001b[48;2;255;255;247mof\u001b[0m \u001b[48;2;255;255;96mdeforestation\u001b[0m \u001b[48;2;255;255;235mon\u001b[0m \u001b[48;2;255;255;0mbiodiversity.\u001b[0m \n"
     ]
    },
    {
     "data": {
      "application/vnd.jupyter.widget-view+json": {
       "model_id": "",
       "version_major": 2,
       "version_minor": 0
      },
      "text/plain": [
       "Processing combinations:   0%|          | 0/11 [00:00<?, ?it/s]"
      ]
     },
     "metadata": {},
     "output_type": "display_data"
    },
    {
     "name": "stdout",
     "output_type": "stream",
     "text": [
      "\u001b[48;2;255;255;255mIf\u001b[0m \u001b[48;2;255;255;254myou\u001b[0m \u001b[48;2;255;255;254mdon't\u001b[0m \u001b[48;2;255;255;254mmind,\u001b[0m \u001b[48;2;255;255;254mdescribe\u001b[0m \u001b[48;2;255;255;254mthe\u001b[0m \u001b[48;2;255;255;0mwater\u001b[0m \u001b[48;2;255;255;254mcycle\u001b[0m \u001b[48;2;255;255;254mand\u001b[0m \u001b[48;2;255;255;254mits\u001b[0m \u001b[48;2;255;255;254mstages.\u001b[0m \n"
     ]
    },
    {
     "data": {
      "application/vnd.jupyter.widget-view+json": {
       "model_id": "",
       "version_major": 2,
       "version_minor": 0
      },
      "text/plain": [
       "Processing combinations:   0%|          | 0/12 [00:00<?, ?it/s]"
      ]
     },
     "metadata": {},
     "output_type": "display_data"
    },
    {
     "name": "stdout",
     "output_type": "stream",
     "text": [
      "\u001b[48;2;255;255;220mWhenever\u001b[0m \u001b[48;2;255;255;251myou're\u001b[0m \u001b[48;2;255;255;252mready,\u001b[0m \u001b[48;2;255;255;255mexplain\u001b[0m \u001b[48;2;255;255;0mhow\u001b[0m \u001b[48;2;255;255;220mphotosynthesis\u001b[0m \u001b[48;2;255;255;225mconverts\u001b[0m \u001b[48;2;255;255;198mlight\u001b[0m \u001b[48;2;255;255;251menergy\u001b[0m \u001b[48;2;255;255;235minto\u001b[0m \u001b[48;2;255;255;242mchemical\u001b[0m \u001b[48;2;255;255;253menergy.\u001b[0m \n"
     ]
    },
    {
     "data": {
      "application/vnd.jupyter.widget-view+json": {
       "model_id": "",
       "version_major": 2,
       "version_minor": 0
      },
      "text/plain": [
       "Processing combinations:   0%|          | 0/11 [00:00<?, ?it/s]"
      ]
     },
     "metadata": {},
     "output_type": "display_data"
    },
    {
     "name": "stdout",
     "output_type": "stream",
     "text": [
      "\u001b[48;2;255;255;252mIn\u001b[0m \u001b[48;2;255;255;254myour\u001b[0m \u001b[48;2;255;255;254mown\u001b[0m \u001b[48;2;255;255;252mwords,\u001b[0m \u001b[48;2;255;255;254mdiscuss\u001b[0m \u001b[48;2;255;255;234mthe\u001b[0m \u001b[48;2;255;255;247methical\u001b[0m \u001b[48;2;255;255;249mconsiderations\u001b[0m \u001b[48;2;255;255;255mof\u001b[0m \u001b[48;2;255;255;0mgenetic\u001b[0m \u001b[48;2;255;255;252mengineering.\u001b[0m \n"
     ]
    },
    {
     "data": {
      "application/vnd.jupyter.widget-view+json": {
       "model_id": "",
       "version_major": 2,
       "version_minor": 0
      },
      "text/plain": [
       "Processing combinations:   0%|          | 0/14 [00:00<?, ?it/s]"
      ]
     },
     "metadata": {},
     "output_type": "display_data"
    },
    {
     "name": "stdout",
     "output_type": "stream",
     "text": [
      "\u001b[48;2;255;255;0mAssuming\u001b[0m \u001b[48;2;255;255;21mall\u001b[0m \u001b[48;2;255;255;199melse\u001b[0m \u001b[48;2;255;255;255mis\u001b[0m \u001b[48;2;255;255;252mequal,\u001b[0m \u001b[48;2;255;255;254mexplain\u001b[0m \u001b[48;2;255;255;227mthe\u001b[0m \u001b[48;2;255;255;232mprinciples\u001b[0m \u001b[48;2;255;255;254mof\u001b[0m \u001b[48;2;255;255;254msupply\u001b[0m \u001b[48;2;255;255;216mand\u001b[0m \u001b[48;2;255;255;254mdemand\u001b[0m \u001b[48;2;255;255;214min\u001b[0m \u001b[48;2;255;255;242meconomics.\u001b[0m \n"
     ]
    },
    {
     "data": {
      "application/vnd.jupyter.widget-view+json": {
       "model_id": "",
       "version_major": 2,
       "version_minor": 0
      },
      "text/plain": [
       "Processing combinations:   0%|          | 0/14 [00:00<?, ?it/s]"
      ]
     },
     "metadata": {},
     "output_type": "display_data"
    },
    {
     "name": "stdout",
     "output_type": "stream",
     "text": [
      "\u001b[48;2;255;255;254mTo\u001b[0m \u001b[48;2;255;255;254mthe\u001b[0m \u001b[48;2;255;255;254mbest\u001b[0m \u001b[48;2;255;255;245mof\u001b[0m \u001b[48;2;255;255;255myour\u001b[0m \u001b[48;2;255;255;254mability,\u001b[0m \u001b[48;2;255;255;254mdescribe\u001b[0m \u001b[48;2;255;255;254mthe\u001b[0m \u001b[48;2;255;255;248mprocess\u001b[0m \u001b[48;2;255;255;251mof\u001b[0m \u001b[48;2;255;255;0mprotein\u001b[0m \u001b[48;2;255;255;253msynthesis\u001b[0m \u001b[48;2;255;255;250min\u001b[0m \u001b[48;2;255;255;254mcells.\u001b[0m \n"
     ]
    },
    {
     "data": {
      "application/vnd.jupyter.widget-view+json": {
       "model_id": "",
       "version_major": 2,
       "version_minor": 0
      },
      "text/plain": [
       "Processing combinations:   0%|          | 0/14 [00:00<?, ?it/s]"
      ]
     },
     "metadata": {},
     "output_type": "display_data"
    },
    {
     "name": "stdout",
     "output_type": "stream",
     "text": [
      "\u001b[48;2;255;255;254mIf\u001b[0m \u001b[48;2;255;255;43mit's\u001b[0m \u001b[48;2;255;255;0mnot\u001b[0m \u001b[48;2;255;255;255mtoo\u001b[0m \u001b[48;2;255;255;236mmuch\u001b[0m \u001b[48;2;255;255;254mtrouble,\u001b[0m \u001b[48;2;255;255;253moutline\u001b[0m \u001b[48;2;255;255;207mthe\u001b[0m \u001b[48;2;255;255;149mmajor\u001b[0m \u001b[48;2;255;255;55mcauses\u001b[0m \u001b[48;2;255;255;254mof\u001b[0m \u001b[48;2;255;255;254mWorld\u001b[0m \u001b[48;2;255;255;252mWar\u001b[0m \u001b[48;2;255;255;253mII.\u001b[0m \n"
     ]
    }
   ],
   "source": [
    "for prompt in prompts:\n",
    "    results = tshap.analyze(prompt, splitter =' ')\n",
    "    tshap.highlight_text_background()"
   ]
  },
  {
   "cell_type": "code",
   "execution_count": 4,
   "id": "08867240-479b-4649-8655-81534acea5e5",
   "metadata": {},
   "outputs": [
    {
     "name": "stdout",
     "output_type": "stream",
     "text": [
      "     +--------------------------------------------------------------------+\n",
      "     | Despite the weather, explain the causes of the French Revolution. |\n",
      "     +--------------------------------------------------------------------+\n",
      "                                        ↓                                  \n",
      "     +--------------------------------------------------------------------+\n",
      "     | \u001b[48;2;255;255;251mDespite\u001b[0m \u001b[48;2;255;255;254mthe\u001b[0m \u001b[48;2;255;255;254mweather,\u001b[0m \u001b[48;2;255;255;254mexplain\u001b[0m \u001b[48;2;255;255;255mthe\u001b[0m \u001b[48;2;255;255;254mcauses\u001b[0m \u001b[48;2;255;255;254mof\u001b[0m \u001b[48;2;255;255;254mthe\u001b[0m \u001b[48;2;255;255;199mFrench\u001b[0m \u001b[48;2;255;255;0mRevolution.\u001b[0m  |\n",
      "     |                                                                    |\n",
      "     +--------------------------------------------------------------------+\n",
      "\n",
      "     +-------------------------------------------------------------------+\n",
      "     | Quickly, describe the structure and function of the human heart. |\n",
      "     +-------------------------------------------------------------------+\n",
      "                                       ↓                                  \n",
      "     +-------------------------------------------------------------------+\n",
      "     | \u001b[48;2;255;255;255mQuickly,\u001b[0m \u001b[48;2;255;255;254mdescribe\u001b[0m \u001b[48;2;255;255;254mthe\u001b[0m \u001b[48;2;255;255;254mstructure\u001b[0m \u001b[48;2;255;255;237mand\u001b[0m \u001b[48;2;255;255;246mfunction\u001b[0m \u001b[48;2;255;255;254mof\u001b[0m \u001b[48;2;255;255;254mthe\u001b[0m \u001b[48;2;255;255;254mhuman\u001b[0m \u001b[48;2;255;255;0mheart.\u001b[0m  |\n",
      "     |                                                                   |\n",
      "     +-------------------------------------------------------------------+\n",
      "\n",
      "+----------------------------------------------------------------------------------+\n",
      "| If possible, list the primary colors and how they mix to form secondary colors. |\n",
      "+----------------------------------------------------------------------------------+\n",
      "                                          ↓                                         \n",
      "+----------------------------------------------------------------------------------+\n",
      "| \u001b[48;2;255;255;220mIf\u001b[0m \u001b[48;2;255;255;237mpossible,\u001b[0m \u001b[48;2;255;255;195mlist\u001b[0m \u001b[48;2;255;255;192mthe\u001b[0m \u001b[48;2;255;255;50mprimary\u001b[0m \u001b[48;2;255;255;129mcolors\u001b[0m \u001b[48;2;255;255;222mand\u001b[0m \u001b[48;2;255;255;208mhow\u001b[0m \u001b[48;2;255;255;37mthey\u001b[0m \u001b[48;2;255;255;179mmix\u001b[0m \u001b[48;2;255;255;232mto\u001b[0m \u001b[48;2;255;255;0mform\u001b[0m \u001b[48;2;255;255;255msecondary\u001b[0m \u001b[48;2;255;255;254mcolors.\u001b[0m  |\n",
      "|                                                                                  |\n",
      "+----------------------------------------------------------------------------------+\n",
      "\n",
      "+----------------------------------------------------------------------------------+\n",
      "| Considering everything, summarize the theory of evolution by natural selection. |\n",
      "+----------------------------------------------------------------------------------+\n",
      "                                          ↓                                         \n",
      "+----------------------------------------------------------------------------------+\n",
      "| \u001b[48;2;255;255;255mConsidering\u001b[0m \u001b[48;2;255;255;252meverything,\u001b[0m \u001b[48;2;255;255;0msummarize\u001b[0m \u001b[48;2;255;255;252mthe\u001b[0m \u001b[48;2;255;255;254mtheory\u001b[0m \u001b[48;2;255;255;239mof\u001b[0m \u001b[48;2;255;255;134mevolution\u001b[0m \u001b[48;2;255;255;253mby\u001b[0m \u001b[48;2;255;255;200mnatural\u001b[0m \u001b[48;2;255;255;225mselection.\u001b[0m  |\n",
      "|                                                                                  |\n",
      "+----------------------------------------------------------------------------------+\n",
      "\n",
      "+-------------------------------------------------------------------------------+\n",
      "| In your opinion, discuss the impact of the internet on modern communication. |\n",
      "+-------------------------------------------------------------------------------+\n",
      "                                        ↓                                        \n",
      "+-------------------------------------------------------------------------------+\n",
      "| \u001b[48;2;255;255;241mIn\u001b[0m \u001b[48;2;255;255;247myour\u001b[0m \u001b[48;2;255;255;192mopinion,\u001b[0m \u001b[48;2;255;255;251mdiscuss\u001b[0m \u001b[48;2;255;255;236mthe\u001b[0m \u001b[48;2;255;255;120mimpact\u001b[0m \u001b[48;2;255;255;240mof\u001b[0m \u001b[48;2;255;255;255mthe\u001b[0m \u001b[48;2;255;255;0minternet\u001b[0m \u001b[48;2;255;255;224mon\u001b[0m \u001b[48;2;255;255;201mmodern\u001b[0m \u001b[48;2;255;255;165mcommunication.\u001b[0m  |\n",
      "|                                                                               |\n",
      "+-------------------------------------------------------------------------------+\n",
      "\n",
      "+----------------------------------------------------------------------------------------+\n",
      "| Perhaps you could explain the significance of the Bill of Rights in American history. |\n",
      "+----------------------------------------------------------------------------------------+\n",
      "                                             ↓                                            \n",
      "+----------------------------------------------------------------------------------------+\n",
      "| \u001b[48;2;255;255;181mPerhaps\u001b[0m \u001b[48;2;255;255;241myou\u001b[0m \u001b[48;2;255;255;250mcould\u001b[0m \u001b[48;2;255;255;251mexplain\u001b[0m \u001b[48;2;255;255;251mthe\u001b[0m \u001b[48;2;255;255;56msignificance\u001b[0m \u001b[48;2;255;255;254mof\u001b[0m \u001b[48;2;255;255;253mthe\u001b[0m \u001b[48;2;255;255;191mBill\u001b[0m \u001b[48;2;255;255;0mof\u001b[0m \u001b[48;2;255;255;255mRights\u001b[0m \u001b[48;2;255;255;238min\u001b[0m \u001b[48;2;255;255;254mAmerican\u001b[0m \u001b[48;2;255;255;218mhistory.\u001b[0m  |\n",
      "|                                                                                        |\n",
      "+----------------------------------------------------------------------------------------+\n",
      "\n",
      " +---------------------------------------------------------------------------+\n",
      " | Given that, outline the process of cellular respiration in mitochondria. |\n",
      " +---------------------------------------------------------------------------+\n",
      "                                       ↓                                      \n",
      " +---------------------------------------------------------------------------+\n",
      " | \u001b[48;2;255;255;250mGiven\u001b[0m \u001b[48;2;255;255;255mthat,\u001b[0m \u001b[48;2;255;255;243moutline\u001b[0m \u001b[48;2;255;255;165mthe\u001b[0m \u001b[48;2;255;255;206mprocess\u001b[0m \u001b[48;2;255;255;240mof\u001b[0m \u001b[48;2;255;255;249mcellular\u001b[0m \u001b[48;2;255;255;234mrespiration\u001b[0m \u001b[48;2;255;255;231min\u001b[0m \u001b[48;2;255;255;0mmitochondria.\u001b[0m  |\n",
      " |                                                                           |\n",
      " +---------------------------------------------------------------------------+\n",
      "\n",
      "      +------------------------------------------------------------------+\n",
      "      | By the way, what are the main themes in George Orwell's '1984'? |\n",
      "      +------------------------------------------------------------------+\n",
      "                                        ↓                                 \n",
      "      +------------------------------------------------------------------+\n",
      "      | \u001b[48;2;255;255;254mBy\u001b[0m \u001b[48;2;255;255;254mthe\u001b[0m \u001b[48;2;255;255;255mway,\u001b[0m \u001b[48;2;255;255;254mwhat\u001b[0m \u001b[48;2;255;255;254mare\u001b[0m \u001b[48;2;255;255;254mthe\u001b[0m \u001b[48;2;255;255;254mmain\u001b[0m \u001b[48;2;255;255;254mthemes\u001b[0m \u001b[48;2;255;255;254min\u001b[0m \u001b[48;2;255;255;224mGeorge\u001b[0m \u001b[48;2;255;255;251mOrwell's\u001b[0m \u001b[48;2;255;255;0m'1984'?\u001b[0m  |\n",
      "      |                                                                  |\n",
      "      +------------------------------------------------------------------+\n",
      "\n",
      "  +-------------------------------------------------------------------------+\n",
      "  | At your leisure, analyze the effects of deforestation on biodiversity. |\n",
      "  +-------------------------------------------------------------------------+\n",
      "                                       ↓                                     \n",
      "  +-------------------------------------------------------------------------+\n",
      "  | \u001b[48;2;255;255;253mAt\u001b[0m \u001b[48;2;255;255;191myour\u001b[0m \u001b[48;2;255;255;254mleisure,\u001b[0m \u001b[48;2;255;255;227manalyze\u001b[0m \u001b[48;2;255;255;239mthe\u001b[0m \u001b[48;2;255;255;253meffects\u001b[0m \u001b[48;2;255;255;241mof\u001b[0m \u001b[48;2;255;255;0mdeforestation\u001b[0m \u001b[48;2;255;255;255mon\u001b[0m \u001b[48;2;255;255;128mbiodiversity.\u001b[0m  |\n",
      "  |                                                                         |\n",
      "  +-------------------------------------------------------------------------+\n",
      "\n",
      "        +--------------------------------------------------------------+\n",
      "        | If you don't mind, describe the water cycle and its stages. |\n",
      "        +--------------------------------------------------------------+\n",
      "                                        ↓                               \n",
      "        +--------------------------------------------------------------+\n",
      "        | \u001b[48;2;255;255;254mIf\u001b[0m \u001b[48;2;255;255;254myou\u001b[0m \u001b[48;2;255;255;254mdon't\u001b[0m \u001b[48;2;255;255;254mmind,\u001b[0m \u001b[48;2;255;255;254mdescribe\u001b[0m \u001b[48;2;255;255;254mthe\u001b[0m \u001b[48;2;255;255;0mwater\u001b[0m \u001b[48;2;255;255;217mcycle\u001b[0m \u001b[48;2;255;255;254mand\u001b[0m \u001b[48;2;255;255;255mits\u001b[0m \u001b[48;2;255;255;254mstages.\u001b[0m  |\n",
      "        |                                                              |\n",
      "        +--------------------------------------------------------------+\n",
      "\n",
      "+------------------------------------------------------------------------------------------------+\n",
      "| Whenever you're ready, explain how photosynthesis converts light energy into chemical energy. |\n",
      "+------------------------------------------------------------------------------------------------+\n",
      "                                                 ↓                                                \n",
      "+------------------------------------------------------------------------------------------------+\n",
      "| \u001b[48;2;255;255;253mWhenever\u001b[0m \u001b[48;2;255;255;244myou're\u001b[0m \u001b[48;2;255;255;254mready,\u001b[0m \u001b[48;2;255;255;244mexplain\u001b[0m \u001b[48;2;255;255;253mhow\u001b[0m \u001b[48;2;255;255;0mphotosynthesis\u001b[0m \u001b[48;2;255;255;254mconverts\u001b[0m \u001b[48;2;255;255;253mlight\u001b[0m \u001b[48;2;255;255;255menergy\u001b[0m \u001b[48;2;255;255;254minto\u001b[0m \u001b[48;2;255;255;247mchemical\u001b[0m \u001b[48;2;255;255;254menergy.\u001b[0m  |\n",
      "|                                                                                                |\n",
      "+------------------------------------------------------------------------------------------------+\n",
      "\n",
      "+--------------------------------------------------------------------------------+\n",
      "| In your own words, discuss the ethical considerations of genetic engineering. |\n",
      "+--------------------------------------------------------------------------------+\n",
      "                                         ↓                                        \n",
      "+--------------------------------------------------------------------------------+\n",
      "| \u001b[48;2;255;255;253mIn\u001b[0m \u001b[48;2;255;255;253myour\u001b[0m \u001b[48;2;255;255;254mown\u001b[0m \u001b[48;2;255;255;240mwords,\u001b[0m \u001b[48;2;255;255;255mdiscuss\u001b[0m \u001b[48;2;255;255;254mthe\u001b[0m \u001b[48;2;255;255;250methical\u001b[0m \u001b[48;2;255;255;251mconsiderations\u001b[0m \u001b[48;2;255;255;248mof\u001b[0m \u001b[48;2;255;255;0mgenetic\u001b[0m \u001b[48;2;255;255;254mengineering.\u001b[0m  |\n",
      "|                                                                                |\n",
      "+--------------------------------------------------------------------------------+\n",
      "\n",
      "+----------------------------------------------------------------------------------------+\n",
      "| Assuming all else is equal, explain the principles of supply and demand in economics. |\n",
      "+----------------------------------------------------------------------------------------+\n",
      "                                             ↓                                            \n",
      "+----------------------------------------------------------------------------------------+\n",
      "| \u001b[48;2;255;255;231mAssuming\u001b[0m \u001b[48;2;255;255;200mall\u001b[0m \u001b[48;2;255;255;255melse\u001b[0m \u001b[48;2;255;255;121mis\u001b[0m \u001b[48;2;255;255;250mequal,\u001b[0m \u001b[48;2;255;255;254mexplain\u001b[0m \u001b[48;2;255;255;254mthe\u001b[0m \u001b[48;2;255;255;0mprinciples\u001b[0m \u001b[48;2;255;255;248mof\u001b[0m \u001b[48;2;255;255;252msupply\u001b[0m \u001b[48;2;255;255;78mand\u001b[0m \u001b[48;2;255;255;233mdemand\u001b[0m \u001b[48;2;255;255;254min\u001b[0m \u001b[48;2;255;255;230meconomics.\u001b[0m  |\n",
      "|                                                                                        |\n",
      "+----------------------------------------------------------------------------------------+\n",
      "\n",
      "+-----------------------------------------------------------------------------------+\n",
      "| To the best of your ability, describe the process of protein synthesis in cells. |\n",
      "+-----------------------------------------------------------------------------------+\n",
      "                                          ↓                                          \n",
      "+-----------------------------------------------------------------------------------+\n",
      "| \u001b[48;2;255;255;254mTo\u001b[0m \u001b[48;2;255;255;254mthe\u001b[0m \u001b[48;2;255;255;252mbest\u001b[0m \u001b[48;2;255;255;251mof\u001b[0m \u001b[48;2;255;255;254myour\u001b[0m \u001b[48;2;255;255;255mability,\u001b[0m \u001b[48;2;255;255;243mdescribe\u001b[0m \u001b[48;2;255;255;254mthe\u001b[0m \u001b[48;2;255;255;253mprocess\u001b[0m \u001b[48;2;255;255;254mof\u001b[0m \u001b[48;2;255;255;0mprotein\u001b[0m \u001b[48;2;255;255;243msynthesis\u001b[0m \u001b[48;2;255;255;251min\u001b[0m \u001b[48;2;255;255;254mcells.\u001b[0m  |\n",
      "|                                                                                   |\n",
      "+-----------------------------------------------------------------------------------+\n",
      "\n",
      "  +--------------------------------------------------------------------------+\n",
      "  | If it's not too much trouble, outline the major causes of World War II. |\n",
      "  +--------------------------------------------------------------------------+\n",
      "                                        ↓                                     \n",
      "  +--------------------------------------------------------------------------+\n",
      "  | \u001b[48;2;255;255;227mIf\u001b[0m \u001b[48;2;255;255;253mit's\u001b[0m \u001b[48;2;255;255;247mnot\u001b[0m \u001b[48;2;255;255;249mtoo\u001b[0m \u001b[48;2;255;255;254mmuch\u001b[0m \u001b[48;2;255;255;254mtrouble,\u001b[0m \u001b[48;2;255;255;252moutline\u001b[0m \u001b[48;2;255;255;254mthe\u001b[0m \u001b[48;2;255;255;251mmajor\u001b[0m \u001b[48;2;255;255;68mcauses\u001b[0m \u001b[48;2;255;255;253mof\u001b[0m \u001b[48;2;255;255;226mWorld\u001b[0m \u001b[48;2;255;255;255mWar\u001b[0m \u001b[48;2;255;255;0mII.\u001b[0m  |\n",
      "  |                                                                          |\n",
      "  +--------------------------------------------------------------------------+\n",
      "\n"
     ]
    }
   ],
   "source": [
    "import io\n",
    "import sys\n",
    "import re\n",
    "import shutil\n",
    "\n",
    "def highlight_text_with_frame():\n",
    "    # Capture the output of the function\n",
    "    old_stdout = sys.stdout\n",
    "    sys.stdout = buffer = io.StringIO()\n",
    "    tshap.highlight_text_background()\n",
    "    sys.stdout = old_stdout\n",
    "    output = buffer.getvalue()\n",
    "    \n",
    "    # Add a frame around the output\n",
    "    framed_output = add_frame_to_text(output)\n",
    "    return framed_output  # Return the framed output\n",
    "\n",
    "def add_frame_to_text(text):\n",
    "    # Regular expression to remove ANSI codes\n",
    "    ansi_escape = re.compile(r'\\x1B\\[[0-?]*[ -/]*[@-~]')\n",
    "    lines = text.split('\\n')\n",
    "    # Calculate the maximum length of the lines without ANSI codes\n",
    "    max_length = max(len(ansi_escape.sub('', line)) for line in lines)\n",
    "    framed_lines = []\n",
    "    framed_lines.append('+' + '-' * (max_length + 2) + '+')\n",
    "    for line in lines:\n",
    "        # Remove ANSI codes for length calculation\n",
    "        clean_line = ansi_escape.sub('', line)\n",
    "        padding = max_length - len(clean_line)\n",
    "        # Add the line with appropriate spacing\n",
    "        framed_line = '| ' + line + ' ' * padding + ' |'\n",
    "        framed_lines.append(framed_line)\n",
    "    framed_lines.append('+' + '-' * (max_length + 2) + '+')\n",
    "    return '\\n'.join(framed_lines)\n",
    "\n",
    "def adjust_frame_width(framed_text, target_width):\n",
    "    ansi_escape = re.compile(r'\\x1B\\[[0-?]*[ -/]*[@-~]')\n",
    "    lines = framed_text.split('\\n')\n",
    "    adjusted_lines = []\n",
    "    for line in lines:\n",
    "        clean_line = ansi_escape.sub('', line)\n",
    "        padding = target_width - len(clean_line)\n",
    "        if line.startswith('+') and line.endswith('+'):\n",
    "            adjusted_line = '+' + '-' * (target_width - 2) + '+'\n",
    "        elif line.startswith('|') and line.endswith('|'):\n",
    "            content = line[2:-2]  # Original content\n",
    "            adjusted_line = '| ' + content + ' ' * (target_width - len(clean_line) - 2) + ' |'\n",
    "        else:\n",
    "            adjusted_line = line\n",
    "        adjusted_lines.append(adjusted_line)\n",
    "    return '\\n'.join(adjusted_lines)\n",
    "\n",
    "# Updated loop\n",
    "for prompt in prompts:\n",
    "    results = tshap.analyze(prompt, splitter=' ')\n",
    "    # Create a frame around the prompt\n",
    "    framed_prompt = add_frame_to_text(prompt)\n",
    "    # Get the framed output of the highlighted text\n",
    "    framed_output = highlight_text_with_frame()\n",
    "    \n",
    "    # Calculate the maximum frame width\n",
    "    ansi_escape = re.compile(r'\\x1B\\[[0-?]*[ -/]*[@-~]')\n",
    "    prompt_lines = framed_prompt.split('\\n')\n",
    "    output_lines = framed_output.split('\\n')\n",
    "    prompt_width = len(ansi_escape.sub('', prompt_lines[0]))\n",
    "    output_width = len(ansi_escape.sub('', output_lines[0]))\n",
    "    frame_width = max(prompt_width, output_width)\n",
    "    \n",
    "    # Adjust frame widths\n",
    "    framed_prompt = adjust_frame_width(framed_prompt, frame_width)\n",
    "    framed_output = adjust_frame_width(framed_output, frame_width)\n",
    "    \n",
    "    # Center the frames\n",
    "    terminal_width = shutil.get_terminal_size().columns\n",
    "    left_padding = (terminal_width - frame_width) // 2 if terminal_width > frame_width else 0\n",
    "    padding = ' ' * left_padding\n",
    "    \n",
    "    # Create centered vertical line and arrow\n",
    "    content_width = frame_width - 2  # Width of content inside the frame\n",
    "    center_position = content_width // 2\n",
    "    # Line with '↓'\n",
    "    arrow_line = padding + ' ' + ' ' * center_position + '↓' + ' ' * (content_width - center_position - 1) + ' '\n",
    "    \n",
    "    # Print the framed prompt\n",
    "    for line in framed_prompt.split('\\n'):\n",
    "        print(padding + line)\n",
    "    # Print the centered vertical line and arrow\n",
    "    print(arrow_line)\n",
    "    # Print the framed highlighted output\n",
    "    for line in framed_output.split('\\n'):\n",
    "        print(padding + line)\n",
    "    print()"
   ]
  }
 ],
 "metadata": {
  "kernelspec": {
   "display_name": "BabyDriver",
   "language": "python",
   "name": "babydriver"
  },
  "language_info": {
   "codemirror_mode": {
    "name": "ipython",
    "version": 3
   },
   "file_extension": ".py",
   "mimetype": "text/x-python",
   "name": "python",
   "nbconvert_exporter": "python",
   "pygments_lexer": "ipython3",
   "version": "3.10.14"
  }
 },
 "nbformat": 4,
 "nbformat_minor": 5
}
