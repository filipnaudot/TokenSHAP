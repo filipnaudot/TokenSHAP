{
 "cells": [
  {
   "cell_type": "code",
   "execution_count": 1,
   "id": "4dc678a0-a10e-4956-96a3-1ced64542892",
   "metadata": {},
   "outputs": [
    {
     "ename": "ModuleNotFoundError",
     "evalue": "No module named 'token_shap'",
     "output_type": "error",
     "traceback": [
      "\u001b[0;31m---------------------------------------------------------------------------\u001b[0m",
      "\u001b[0;31mModuleNotFoundError\u001b[0m                       Traceback (most recent call last)",
      "Cell \u001b[0;32mIn[1], line 1\u001b[0m\n\u001b[0;32m----> 1\u001b[0m \u001b[38;5;28;01mfrom\u001b[39;00m \u001b[38;5;21;01mtoken_shap\u001b[39;00m \u001b[38;5;28;01mimport\u001b[39;00m TokenSHAP\n",
      "\u001b[0;31mModuleNotFoundError\u001b[0m: No module named 'token_shap'"
     ]
    }
   ],
   "source": [
    "from token_shap import TokenSHAP"
   ]
  },
  {
   "cell_type": "code",
   "execution_count": 2,
   "id": "53dc1eec-1612-42cd-ba91-57c39e940cf6",
   "metadata": {},
   "outputs": [
    {
     "name": "stderr",
     "output_type": "stream",
     "text": [
      "Special tokens have been added in the vocabulary, make sure the associated word embeddings are fine-tuned or trained.\n"
     ]
    }
   ],
   "source": [
    "model_name = \"llama3\"\n",
    "tokenizer_path =\"NousResearch/Hermes-2-Theta-Llama-3-8B\"\n",
    "tshap = TokenSHAP(model_name, tokenizer_path)"
   ]
  },
  {
   "cell_type": "code",
   "execution_count": 6,
   "id": "6ed7387b-9d17-4067-8041-7ef7534c94a8",
   "metadata": {},
   "outputs": [
    {
     "name": "stdout",
     "output_type": "stream",
     "text": [
      "How will deep learning impact future?\n",
      "Error processing baseline values for question: 'How will deep learning impact future?' - 'DataFrame' object has no attribute 'shapley_values'\n",
      "What are issues in healthcare?\n",
      "Error processing baseline values for question: 'What are issues in healthcare?' - 'DataFrame' object has no attribute 'shapley_values'\n",
      "How can ML improve cybersecurity?\n",
      "Error processing baseline values for question: 'How can ML improve cybersecurity?' - 'DataFrame' object has no attribute 'shapley_values'\n",
      "What is AI's impact on education?\n",
      "Error processing baseline values for question: 'What is AI's impact on education?' - 'DataFrame' object has no attribute 'shapley_values'\n",
      "How is AI affecting autonomous vehicles?\n",
      "Error processing baseline values for question: 'How is AI affecting autonomous vehicles?' - 'DataFrame' object has no attribute 'shapley_values'\n",
      "What are AI's environmental benefits?\n",
      "Error processing baseline values for question: 'What are AI's environmental benefits?' - 'DataFrame' object has no attribute 'shapley_values'\n",
      "How can AI aid personalized medicine?\n",
      "Error processing baseline values for question: 'How can AI aid personalized medicine?' - 'DataFrame' object has no attribute 'shapley_values'\n",
      "What are AI challenges in finance?\n",
      "Error processing baseline values for question: 'What are AI challenges in finance?' - 'DataFrame' object has no attribute 'shapley_values'\n",
      "How does AI influence marketing?\n",
      "Error processing baseline values for question: 'How does AI influence marketing?' - 'DataFrame' object has no attribute 'shapley_values'\n",
      "What are AI's prospects in robotics?\n",
      "Error processing baseline values for question: 'What are AI's prospects in robotics?' - 'DataFrame' object has no attribute 'shapley_values'\n"
     ]
    }
   ],
   "source": [
    "import numpy as np\n",
    "import matplotlib.pyplot as plt\n",
    "from sklearn.metrics.pairwise import cosine_similarity\n",
    "import json\n",
    "import os\n",
    "\n",
    "# Initialize lists to store results\n",
    "sampling_ratios = [1.0, 0.9, 0.8, 0.7, 0.6, 0.5, 0.4, 0.3, 0.2, 0.1, 0.0]\n",
    "similarities = {ratio: [] for ratio in sampling_ratios}\n",
    "\n",
    "# Define the questions\n",
    "questions = [\n",
    "    \"How will deep learning impact future?\",\n",
    "    \"What are issues in healthcare?\",\n",
    "    \"How can ML improve cybersecurity?\",\n",
    "    \"What is AI's impact on education?\",\n",
    "    \"How is AI affecting autonomous vehicles?\",\n",
    "    \"What are AI's environmental benefits?\",\n",
    "    \"How can AI aid personalized medicine?\",\n",
    "    \"What are AI challenges in finance?\",\n",
    "    \"How does AI influence marketing?\",\n",
    "    \"What are AI's prospects in robotics?\"\n",
    "]\n",
    "\n",
    "def shapley_dict_to_vector(shapley_dict):\n",
    "    \"\"\"Converts dictionary values to numpy array.\"\"\"\n",
    "    return np.array(list(shapley_dict.values()))\n",
    "\n",
    "output_file = 'similarity_results.json'\n",
    "if os.path.exists(output_file):\n",
    "    with open(output_file, 'r') as f:\n",
    "        similarities = json.load(f)\n",
    "else:\n",
    "    similarities = {ratio: [] for ratio in sampling_ratios}\n",
    "\n",
    "for question in questions:\n",
    "    try:\n",
    "        print(question)\n",
    "        # Calculate baseline Shapley values\n",
    "        baseline_shap = tshap.analyze(question, sampling_ratio=1.0, splitter=' ')\n",
    "        baseline_shap_values = shapley_dict_to_vector(baseline_shap.shapley_values)\n",
    "        \n",
    "        for ratio in sampling_ratios:\n",
    "            try:\n",
    "                print(ratio)\n",
    "                # Calculate Shapley values for the given sampling ratio\n",
    "                sampled_shap = tshap.analyze(question, sampling_ratio=ratio, splitter=' ')\n",
    "                sampled_shap_values = shapley_dict_to_vector(sampled_shap.shapley_values)\n",
    "                \n",
    "                # Calculate similarity between baseline and sampled Shapley values\n",
    "                similarity = cosine_similarity(\n",
    "                    [baseline_shap_values], \n",
    "                    [sampled_shap_values]\n",
    "                )[0, 0]\n",
    "                \n",
    "                # Store the similarity\n",
    "                similarities[ratio].append(similarity)\n",
    "            except Exception as e:\n",
    "                print(f\"Error processing ratio {ratio} for question: '{question}' - {e}\")\n",
    "                \n",
    "            # Save the results to disk\n",
    "            with open(output_file, 'w') as f:\n",
    "                json.dump(similarities, f, indent=4)\n",
    "    except Exception as e:\n",
    "        print(f\"Error processing baseline values for question: '{question}' - {e}\")\n",
    "\n",
    "# Calculate average similarities for each sampling ratio\n",
    "average_similarities = {ratio: np.mean(similarities[ratio]) for ratio in sampling_ratios if similarities[ratio]}"
   ]
  },
  {
   "cell_type": "code",
   "execution_count": 5,
   "id": "def427d8-1026-4431-9123-164acb518e2c",
   "metadata": {},
   "outputs": [
    {
     "data": {
      "text/plain": [
       "'What are issues in healthcare?'"
      ]
     },
     "execution_count": 5,
     "metadata": {},
     "output_type": "execute_result"
    }
   ],
   "source": [
    "question"
   ]
  },
  {
   "cell_type": "code",
   "execution_count": 2,
   "id": "c8a438af-3b74-4835-91fa-2c0dadb7a368",
   "metadata": {},
   "outputs": [
    {
     "ename": "NameError",
     "evalue": "name 'sampling_ratios' is not defined",
     "output_type": "error",
     "traceback": [
      "\u001b[0;31m---------------------------------------------------------------------------\u001b[0m",
      "\u001b[0;31mNameError\u001b[0m                                 Traceback (most recent call last)",
      "Cell \u001b[0;32mIn[2], line 4\u001b[0m\n\u001b[1;32m      2\u001b[0m \u001b[38;5;66;03m# Plot the results\u001b[39;00m\n\u001b[1;32m      3\u001b[0m plt\u001b[38;5;241m.\u001b[39mfigure(figsize\u001b[38;5;241m=\u001b[39m(\u001b[38;5;241m10\u001b[39m, \u001b[38;5;241m6\u001b[39m))\n\u001b[0;32m----> 4\u001b[0m plt\u001b[38;5;241m.\u001b[39mplot(\u001b[43msampling_ratios\u001b[49m, [average_similarities[ratio] \u001b[38;5;28;01mfor\u001b[39;00m ratio \u001b[38;5;129;01min\u001b[39;00m sampling_ratios], marker\u001b[38;5;241m=\u001b[39m\u001b[38;5;124m'\u001b[39m\u001b[38;5;124mo\u001b[39m\u001b[38;5;124m'\u001b[39m)\n\u001b[1;32m      5\u001b[0m plt\u001b[38;5;241m.\u001b[39mxlabel(\u001b[38;5;124m'\u001b[39m\u001b[38;5;124mSampling Ratio\u001b[39m\u001b[38;5;124m'\u001b[39m)\n\u001b[1;32m      6\u001b[0m plt\u001b[38;5;241m.\u001b[39mylabel(\u001b[38;5;124m'\u001b[39m\u001b[38;5;124mAverage Cosine Similarity\u001b[39m\u001b[38;5;124m'\u001b[39m)\n",
      "\u001b[0;31mNameError\u001b[0m: name 'sampling_ratios' is not defined"
     ]
    },
    {
     "data": {
      "text/plain": [
       "<Figure size 1000x600 with 0 Axes>"
      ]
     },
     "metadata": {},
     "output_type": "display_data"
    }
   ],
   "source": [
    "import matplotlib.pyplot as plt\n",
    "# Plot the results\n",
    "plt.figure(figsize=(10, 6))\n",
    "plt.plot(sampling_ratios, [average_similarities[ratio] for ratio in sampling_ratios], marker='o')\n",
    "plt.xlabel('Sampling Ratio')\n",
    "plt.ylabel('Average Cosine Similarity')\n",
    "plt.title('Average Similarity of Shapley Values at Different Sampling Ratios')\n",
    "plt.text(0.5, 0.95, 'Similarity between true Shapley values and their approximation', \n",
    "         horizontalalignment='center', verticalalignment='center', transform=plt.gca().transAxes, fontsize=10, bbox=dict(facecolor='white', alpha=0.8))\n",
    "\n",
    "plt.grid(True)\n",
    "\n",
    "# Save the plot\n",
    "plot_file = 'average_similarity_plot.png'\n",
    "plt.savefig(plot_file)\n",
    "\n",
    "# Show the plot\n",
    "plt.show()"
   ]
  },
  {
   "cell_type": "code",
   "execution_count": null,
   "id": "dd683914-e79f-48ef-9af9-fda833f7f6fe",
   "metadata": {},
   "outputs": [],
   "source": []
  }
 ],
 "metadata": {
  "kernelspec": {
   "display_name": "BabyDriver",
   "language": "python",
   "name": "babydriver"
  },
  "language_info": {
   "codemirror_mode": {
    "name": "ipython",
    "version": 3
   },
   "file_extension": ".py",
   "mimetype": "text/x-python",
   "name": "python",
   "nbconvert_exporter": "python",
   "pygments_lexer": "ipython3",
   "version": "3.10.14"
  }
 },
 "nbformat": 4,
 "nbformat_minor": 5
}
