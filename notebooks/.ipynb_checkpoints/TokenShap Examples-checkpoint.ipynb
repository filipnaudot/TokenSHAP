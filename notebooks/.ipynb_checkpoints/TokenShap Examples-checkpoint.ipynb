{
 "cells": [
  {
   "cell_type": "markdown",
   "id": "131818b5-31ea-4918-8250-93363deab7ec",
   "metadata": {},
   "source": [
    "# TokenSHAP: An In-Depth Usage Guide\n",
    "\n",
    "This notebook provides a structured demonstration of how to use the `TokenSHAP` class to analyze the contribution of different parts of a prompt in generating model responses. We will explore multiple approaches, including:\n",
    "\n",
    "1. **Using OpenAI's API-based model** for various NLP tasks.\n",
    "2. **Using a local Hugging Face model** for offline analysis.\n",
    "3. **Using an Ollama model** to interact with local LLMs.\n",
    "4. **Customizing text splitting methods** to improve interpretability.\n",
    "\n",
    "## Table of Contents\n",
    "\n",
    "1. [Setup](#setup)\n",
    "2. [Using OpenAI API Models](#using-openai-api-models)\n",
    "    - [Example 1: Simple Question](#example-1-simple-question)\n",
    "    - [Example 2: Code Completion](#example-2-code-completion)\n",
    "    - [Example 3: Medical Diagnosis](#example-3-medical-diagnosis)\n",
    "3. [Using a Local Hugging Face Model](#using-a-local-hugging-face-model)\n",
    "4. [Using an Ollama Model](#using-an-ollama-model)\n",
    "5. [Customizing Token Splitting](#customizing-token-splitting)\n",
    "    - [Example with Sentence Splitting](#example-with-sentence-splitting)\n",
    "6. [Conclusion](#conclusion)\n",
    "\n",
    "---\n",
    "\n",
    "## 1. Setup\n",
    "\n",
    "Before running any examples, let's import the required libraries and initialize models."
   ]
  },
  {
   "cell_type": "code",
   "execution_count": 1,
   "id": "f6944d03-05e5-4096-8aec-8499ff4dab63",
   "metadata": {
    "tags": []
   },
   "outputs": [],
   "source": [
    "from token_shap import *"
   ]
  },
  {
   "cell_type": "markdown",
   "id": "12ef27f9-102e-4008-a04f-0d7b061a77f8",
   "metadata": {},
   "source": [
    "## 2. Using OpenAI API Models\n",
    "\n",
    "We start by using OpenAI's API to analyze token contributions in different scenarios."
   ]
  },
  {
   "cell_type": "code",
   "execution_count": 23,
   "id": "504753dd-c22c-4735-81a5-1e8dfecdbc5d",
   "metadata": {},
   "outputs": [],
   "source": [
    "api_key = (...)\n",
    "openai_embedding = OpenAIEmbeddings(api_key=api_key)\n",
    "splitter = StringSplitter()\n",
    "token_shap_openai = TokenSHAP(model=openai_model, splitter=splitter, vectorizer=openai_embedding)"
   ]
  },
  {
   "cell_type": "markdown",
   "id": "a9152828-d467-4be1-a329-501a55b433d3",
   "metadata": {},
   "source": [
    "### Example 1: Simple Question"
   ]
  },
  {
   "cell_type": "code",
   "execution_count": 3,
   "id": "d634db72-f9a6-43c0-a52c-0a9cb5c16c0d",
   "metadata": {},
   "outputs": [
    {
     "data": {
      "application/vnd.jupyter.widget-view+json": {
       "model_id": "487afd94cee04833a99e2755a1b17828",
       "version_major": 2,
       "version_minor": 0
      },
      "text/plain": [
       "Processing combinations:   0%|          | 0/30 [00:00<?, ?it/s]"
      ]
     },
     "metadata": {},
     "output_type": "display_data"
    },
    {
     "name": "stdout",
     "output_type": "stream",
     "text": [
      "\u001b[48;2;255;255;249mWhy\u001b[0m \u001b[48;2;255;255;255mis\u001b[0m \u001b[48;2;255;255;254mthe\u001b[0m \u001b[48;2;255;255;0msky\u001b[0m \u001b[48;2;255;255;224mblue?\u001b[0m \n",
      "\u001b[38;2;144;144;255mWhy\u001b[0m \u001b[38;2;0;0;255mis\u001b[0m \u001b[38;2;38;38;255mthe\u001b[0m \u001b[38;2;255;0;0msky\u001b[0m \u001b[38;2;252;252;255mblue?\u001b[0m \n"
     ]
    }
   ],
   "source": [
    "prompt1 = \"Why is the sky blue?\"\n",
    "df_openai = token_shap_openai.analyze(prompt1, sampling_ratio=1.0, print_highlight_text=True)\n",
    "token_shap_openai.print_colored_text()"
   ]
  },
  {
   "cell_type": "markdown",
   "id": "887bf14f-3fdb-4f5c-83d6-321866e749cd",
   "metadata": {},
   "source": [
    "This example was quite long, and that's because we chose a maximum sample rate: `sampling_ratio=1.0`\n",
    "\n",
    "Let's try reducing the sampling rate and see the results:"
   ]
  },
  {
   "cell_type": "code",
   "execution_count": 4,
   "id": "72855e6f-86a8-421f-9eb6-4c8141bbc9fe",
   "metadata": {},
   "outputs": [
    {
     "name": "stdout",
     "output_type": "stream",
     "text": [
      "\n",
      "Running analysis with sampling_ratio=1.0\n",
      "\n"
     ]
    },
    {
     "data": {
      "application/vnd.jupyter.widget-view+json": {
       "model_id": "3f54c96c68bb49f58e16c3beb1ebf013",
       "version_major": 2,
       "version_minor": 0
      },
      "text/plain": [
       "Processing combinations:   0%|          | 0/30 [00:00<?, ?it/s]"
      ]
     },
     "metadata": {},
     "output_type": "display_data"
    },
    {
     "name": "stdout",
     "output_type": "stream",
     "text": [
      "\u001b[48;2;255;255;248mWhy\u001b[0m \u001b[48;2;255;255;255mis\u001b[0m \u001b[48;2;255;255;254mthe\u001b[0m \u001b[48;2;255;255;0msky\u001b[0m \u001b[48;2;255;255;225mblue?\u001b[0m \n",
      "\u001b[38;2;148;148;255mWhy\u001b[0m \u001b[38;2;0;0;255mis\u001b[0m \u001b[38;2;26;26;255mthe\u001b[0m \u001b[38;2;255;0;0msky\u001b[0m \u001b[38;2;247;247;255mblue?\u001b[0m \n",
      "\n",
      "Running analysis with sampling_ratio=0.8\n",
      "\n"
     ]
    },
    {
     "data": {
      "application/vnd.jupyter.widget-view+json": {
       "model_id": "38b1f7f5360e4efe8cc5e0857efb623f",
       "version_major": 2,
       "version_minor": 0
      },
      "text/plain": [
       "Processing combinations:   0%|          | 0/24 [00:00<?, ?it/s]"
      ]
     },
     "metadata": {},
     "output_type": "display_data"
    },
    {
     "name": "stdout",
     "output_type": "stream",
     "text": [
      "\u001b[48;2;255;255;245mWhy\u001b[0m \u001b[48;2;255;255;255mis\u001b[0m \u001b[48;2;255;255;251mthe\u001b[0m \u001b[48;2;255;255;0msky\u001b[0m \u001b[48;2;255;255;171mblue?\u001b[0m \n",
      "\u001b[38;2;172;172;255mWhy\u001b[0m \u001b[38;2;0;0;255mis\u001b[0m \u001b[38;2;120;120;255mthe\u001b[0m \u001b[38;2;255;0;0msky\u001b[0m \u001b[38;2;255;158;158mblue?\u001b[0m \n",
      "\n",
      "Running analysis with sampling_ratio=0.6\n",
      "\n"
     ]
    },
    {
     "data": {
      "application/vnd.jupyter.widget-view+json": {
       "model_id": "75d579a9fe234c8c9fe587c97f6f0948",
       "version_major": 2,
       "version_minor": 0
      },
      "text/plain": [
       "Processing combinations:   0%|          | 0/18 [00:00<?, ?it/s]"
      ]
     },
     "metadata": {},
     "output_type": "display_data"
    },
    {
     "name": "stdout",
     "output_type": "stream",
     "text": [
      "\u001b[48;2;255;255;147mWhy\u001b[0m \u001b[48;2;255;255;255mis\u001b[0m \u001b[48;2;255;255;250mthe\u001b[0m \u001b[48;2;255;255;0msky\u001b[0m \u001b[48;2;255;255;150mblue?\u001b[0m \n",
      "\u001b[38;2;255;127;127mWhy\u001b[0m \u001b[38;2;0;0;255mis\u001b[0m \u001b[38;2;130;130;255mthe\u001b[0m \u001b[38;2;255;0;0msky\u001b[0m \u001b[38;2;255;130;130mblue?\u001b[0m \n",
      "\n",
      "Running analysis with sampling_ratio=0.4\n",
      "\n"
     ]
    },
    {
     "data": {
      "application/vnd.jupyter.widget-view+json": {
       "model_id": "3ad51b40152a43d7836b80be9a644588",
       "version_major": 2,
       "version_minor": 0
      },
      "text/plain": [
       "Processing combinations:   0%|          | 0/12 [00:00<?, ?it/s]"
      ]
     },
     "metadata": {},
     "output_type": "display_data"
    },
    {
     "name": "stdout",
     "output_type": "stream",
     "text": [
      "\u001b[48;2;255;255;131mWhy\u001b[0m \u001b[48;2;255;255;255mis\u001b[0m \u001b[48;2;255;255;231mthe\u001b[0m \u001b[48;2;255;255;176msky\u001b[0m \u001b[48;2;255;255;0mblue?\u001b[0m \n",
      "\u001b[38;2;255;109;109mWhy\u001b[0m \u001b[38;2;0;0;255mis\u001b[0m \u001b[38;2;230;230;255mthe\u001b[0m \u001b[38;2;255;164;164msky\u001b[0m \u001b[38;2;255;0;0mblue?\u001b[0m \n",
      "\n",
      "Running analysis with sampling_ratio=0.2\n",
      "\n"
     ]
    },
    {
     "data": {
      "application/vnd.jupyter.widget-view+json": {
       "model_id": "eb7aff3f3e444a899071c49f0dd556a1",
       "version_major": 2,
       "version_minor": 0
      },
      "text/plain": [
       "Processing combinations:   0%|          | 0/6 [00:00<?, ?it/s]"
      ]
     },
     "metadata": {},
     "output_type": "display_data"
    },
    {
     "name": "stdout",
     "output_type": "stream",
     "text": [
      "\u001b[48;2;255;255;54mWhy\u001b[0m \u001b[48;2;255;255;254mis\u001b[0m \u001b[48;2;255;255;248mthe\u001b[0m \u001b[48;2;255;255;0msky\u001b[0m \u001b[48;2;255;255;255mblue?\u001b[0m \n",
      "\u001b[38;2;255;39;39mWhy\u001b[0m \u001b[38;2;7;7;255mis\u001b[0m \u001b[38;2;153;153;255mthe\u001b[0m \u001b[38;2;255;0;0msky\u001b[0m \u001b[38;2;0;0;255mblue?\u001b[0m \n",
      "\n",
      "Running analysis with sampling_ratio=0.0\n",
      "\n"
     ]
    },
    {
     "data": {
      "application/vnd.jupyter.widget-view+json": {
       "model_id": "7e61b4e2d5ac435da535b3851e02cd00",
       "version_major": 2,
       "version_minor": 0
      },
      "text/plain": [
       "Processing combinations:   0%|          | 0/5 [00:00<?, ?it/s]"
      ]
     },
     "metadata": {},
     "output_type": "display_data"
    },
    {
     "name": "stdout",
     "output_type": "stream",
     "text": [
      "\u001b[48;2;255;255;254mWhy\u001b[0m \u001b[48;2;255;255;254mis\u001b[0m \u001b[48;2;255;255;255mthe\u001b[0m \u001b[48;2;255;255;0msky\u001b[0m \u001b[48;2;255;255;254mblue?\u001b[0m \n",
      "\u001b[38;2;30;30;255mWhy\u001b[0m \u001b[38;2;20;20;255mis\u001b[0m \u001b[38;2;0;0;255mthe\u001b[0m \u001b[38;2;255;0;0msky\u001b[0m \u001b[38;2;27;27;255mblue?\u001b[0m \n"
     ]
    }
   ],
   "source": [
    "prompt1 = \"Why is the sky blue?\"\n",
    "\n",
    "for sampling_ratio in np.arange(1.0, -0.1, -0.2):\n",
    "    print(f\"\\nRunning analysis with sampling_ratio={sampling_ratio:.1f}\\n\")\n",
    "    df_openai = token_shap_openai.analyze(prompt1, sampling_ratio=sampling_ratio, print_highlight_text=True)\n",
    "    token_shap_openai.print_colored_text()"
   ]
  },
  {
   "cell_type": "markdown",
   "id": "2460a24b-ef76-4385-b66e-ddae42217f99",
   "metadata": {},
   "source": [
    "We can see that although accuracy varies as the sampling rate decreases, there remains a strong correlation, as demonstrated in the paper, reaching approximately 0.8."
   ]
  },
  {
   "cell_type": "code",
   "execution_count": 15,
   "id": "92938fe6-2578-4b1e-9b07-97d6a8a1dc8d",
   "metadata": {},
   "outputs": [
    {
     "data": {
      "application/vnd.jupyter.widget-view+json": {
       "model_id": "52efe14ca4a54267b1369d516957e0b8",
       "version_major": 2,
       "version_minor": 0
      },
      "text/plain": [
       "Processing combinations:   0%|          | 0/30 [00:00<?, ?it/s]"
      ]
     },
     "metadata": {},
     "output_type": "display_data"
    },
    {
     "name": "stdout",
     "output_type": "stream",
     "text": [
      "\u001b[48;2;255;255;253mWhy\u001b[0m \u001b[48;2;255;255;254mis\u001b[0m \u001b[48;2;255;255;255mthe\u001b[0m \u001b[48;2;255;255;0msky\u001b[0m \u001b[48;2;255;255;241mblue?\u001b[0m \n",
      "\u001b[38;2;90;90;255mWhy\u001b[0m \u001b[38;2;36;36;255mis\u001b[0m \u001b[38;2;0;0;255mthe\u001b[0m \u001b[38;2;255;0;0msky\u001b[0m \u001b[38;2;191;191;255mblue?\u001b[0m \n"
     ]
    }
   ],
   "source": [
    "prompt1 = \"Why is the sky blue?\"\n",
    "df_openai = token_shap_openai.analyze(prompt1, sampling_ratio=1.0, print_highlight_text=True)\n",
    "token_shap_openai.print_colored_text()"
   ]
  },
  {
   "cell_type": "markdown",
   "id": "cef2f05c-814c-42ef-b957-0e5ed8198c1b",
   "metadata": {},
   "source": [
    "You can see the important tokens highlighted.\n",
    "\n",
    "Now let's take a look at the calculations that the algorithm performed to understand how it reached this conclusion:\n",
    "\n",
    "You can see what the baseline is, that is, the output of the model for the full question:"
   ]
  },
  {
   "cell_type": "code",
   "execution_count": 16,
   "id": "f963dc0e-f406-4ad4-8ed4-f4359993c62a",
   "metadata": {},
   "outputs": [
    {
     "name": "stdout",
     "output_type": "stream",
     "text": [
      "Baseline Text:\n",
      "The sky appears blue because of a phenomenon called Rayleigh scattering. When sunlight enters the Earth's atmosphere, it collides with molecules and small particles in the air. Sunlight is made up of different colors of light, which have different wavelengths. Blue light has a shorter wavelength and is scattered in all directions by the gases and particles in the atmosphere more than other colors, like red or yellow, which have longer wavelengths.\n",
      "\n",
      "As a result, when you look up at the sky, you see the scattered blue light coming from all directions. This scattering causes the direct sunlight to lose some of its blue light, which is why the sun itself appears more yellowish. During sunrise and sunset, the sun is lower in the sky, which means sunlight has to pass through more of the Earth's atmosphere. This longer path causes more scattering of the shorter wavelengths, allowing the longer wavelengths like red and orange to dominate, which is why the sky appears reddish during these times.\n"
     ]
    }
   ],
   "source": [
    "print(\"Baseline Text:\")\n",
    "print(token_shap_openai.baseline_text)"
   ]
  },
  {
   "cell_type": "markdown",
   "id": "44b92585-0749-4390-9aa3-aff0d9d234c8",
   "metadata": {},
   "source": [
    "You can also see all the subgroups and responses of the model for them, as well as the similarity index for the full response"
   ]
  },
  {
   "cell_type": "code",
   "execution_count": 17,
   "id": "14bdd2b0-7500-43db-9c8a-e1e88fd278d8",
   "metadata": {},
   "outputs": [
    {
     "data": {
      "text/html": [
       "<div>\n",
       "<style scoped>\n",
       "    .dataframe tbody tr th:only-of-type {\n",
       "        vertical-align: middle;\n",
       "    }\n",
       "\n",
       "    .dataframe tbody tr th {\n",
       "        vertical-align: top;\n",
       "    }\n",
       "\n",
       "    .dataframe thead th {\n",
       "        text-align: right;\n",
       "    }\n",
       "</style>\n",
       "<table border=\"1\" class=\"dataframe\">\n",
       "  <thead>\n",
       "    <tr style=\"text-align: right;\">\n",
       "      <th></th>\n",
       "      <th>Prompt</th>\n",
       "      <th>Response</th>\n",
       "      <th>Token_Indexes</th>\n",
       "      <th>Cosine_Similarity</th>\n",
       "    </tr>\n",
       "  </thead>\n",
       "  <tbody>\n",
       "    <tr>\n",
       "      <th>0</th>\n",
       "      <td>is the sky blue?</td>\n",
       "      <td>Yes, the sky often appears blue to the human e...</td>\n",
       "      <td>(2, 3, 4, 5)</td>\n",
       "      <td>0.786807</td>\n",
       "    </tr>\n",
       "    <tr>\n",
       "      <th>1</th>\n",
       "      <td>Why the sky blue?</td>\n",
       "      <td>The sky appears blue primarily due to a phenom...</td>\n",
       "      <td>(1, 3, 4, 5)</td>\n",
       "      <td>0.882013</td>\n",
       "    </tr>\n",
       "    <tr>\n",
       "      <th>2</th>\n",
       "      <td>Why is sky blue?</td>\n",
       "      <td>The sky appears blue primarily due to a phenom...</td>\n",
       "      <td>(1, 2, 4, 5)</td>\n",
       "      <td>0.918582</td>\n",
       "    </tr>\n",
       "    <tr>\n",
       "      <th>3</th>\n",
       "      <td>Why is the blue?</td>\n",
       "      <td>It seems like your question is incomplete or p...</td>\n",
       "      <td>(1, 2, 3, 5)</td>\n",
       "      <td>0.429400</td>\n",
       "    </tr>\n",
       "    <tr>\n",
       "      <th>4</th>\n",
       "      <td>Why is the sky</td>\n",
       "      <td>The sky appears blue primarily due to a phenom...</td>\n",
       "      <td>(1, 2, 3, 4)</td>\n",
       "      <td>0.938043</td>\n",
       "    </tr>\n",
       "    <tr>\n",
       "      <th>5</th>\n",
       "      <td>Why the sky</td>\n",
       "      <td>The question \"Why the sky?\" is quite open-ende...</td>\n",
       "      <td>(1, 3, 4)</td>\n",
       "      <td>0.650561</td>\n",
       "    </tr>\n",
       "    <tr>\n",
       "      <th>6</th>\n",
       "      <td>Why is</td>\n",
       "      <td>It seems like your question got cut off. Could...</td>\n",
       "      <td>(1, 2)</td>\n",
       "      <td>0.099513</td>\n",
       "    </tr>\n",
       "    <tr>\n",
       "      <th>7</th>\n",
       "      <td>Why is the</td>\n",
       "      <td>It seems like your question got cut off. Could...</td>\n",
       "      <td>(1, 2, 3)</td>\n",
       "      <td>0.089016</td>\n",
       "    </tr>\n",
       "    <tr>\n",
       "      <th>8</th>\n",
       "      <td>Why is sky</td>\n",
       "      <td>The sky appears blue primarily due to a phenom...</td>\n",
       "      <td>(1, 2, 4)</td>\n",
       "      <td>0.936632</td>\n",
       "    </tr>\n",
       "    <tr>\n",
       "      <th>9</th>\n",
       "      <td>is blue?</td>\n",
       "      <td>Could you please provide more context or clari...</td>\n",
       "      <td>(2, 5)</td>\n",
       "      <td>0.278232</td>\n",
       "    </tr>\n",
       "    <tr>\n",
       "      <th>10</th>\n",
       "      <td>the sky</td>\n",
       "      <td>The sky is the expanse above the Earth, extend...</td>\n",
       "      <td>(3, 4)</td>\n",
       "      <td>0.624921</td>\n",
       "    </tr>\n",
       "    <tr>\n",
       "      <th>11</th>\n",
       "      <td>Why</td>\n",
       "      <td>Could you please provide more context or clari...</td>\n",
       "      <td>(1,)</td>\n",
       "      <td>0.069926</td>\n",
       "    </tr>\n",
       "    <tr>\n",
       "      <th>12</th>\n",
       "      <td>Why the</td>\n",
       "      <td>It seems like your question got cut off. Could...</td>\n",
       "      <td>(1, 3)</td>\n",
       "      <td>0.111738</td>\n",
       "    </tr>\n",
       "    <tr>\n",
       "      <th>13</th>\n",
       "      <td>is the blue?</td>\n",
       "      <td>Your question seems incomplete. Could you plea...</td>\n",
       "      <td>(2, 3, 5)</td>\n",
       "      <td>0.281456</td>\n",
       "    </tr>\n",
       "    <tr>\n",
       "      <th>14</th>\n",
       "      <td>Why sky blue?</td>\n",
       "      <td>The sky appears blue due to a phenomenon calle...</td>\n",
       "      <td>(1, 4, 5)</td>\n",
       "      <td>0.939087</td>\n",
       "    </tr>\n",
       "    <tr>\n",
       "      <th>15</th>\n",
       "      <td>Why the blue?</td>\n",
       "      <td>The phrase \"Why the blue?\" can be interpreted ...</td>\n",
       "      <td>(1, 3, 5)</td>\n",
       "      <td>0.390062</td>\n",
       "    </tr>\n",
       "    <tr>\n",
       "      <th>16</th>\n",
       "      <td>the</td>\n",
       "      <td>It looks like your message got cut off. Could ...</td>\n",
       "      <td>(3,)</td>\n",
       "      <td>0.061619</td>\n",
       "    </tr>\n",
       "    <tr>\n",
       "      <th>17</th>\n",
       "      <td>the blue?</td>\n",
       "      <td>Could you provide a bit more context or detail...</td>\n",
       "      <td>(3, 5)</td>\n",
       "      <td>0.277806</td>\n",
       "    </tr>\n",
       "    <tr>\n",
       "      <th>18</th>\n",
       "      <td>is sky blue?</td>\n",
       "      <td>Yes, the sky appears blue to the human eye dur...</td>\n",
       "      <td>(2, 4, 5)</td>\n",
       "      <td>0.825352</td>\n",
       "    </tr>\n",
       "    <tr>\n",
       "      <th>19</th>\n",
       "      <td>is</td>\n",
       "      <td>It looks like your message got cut off. Could ...</td>\n",
       "      <td>(2,)</td>\n",
       "      <td>0.100134</td>\n",
       "    </tr>\n",
       "    <tr>\n",
       "      <th>20</th>\n",
       "      <td>is the</td>\n",
       "      <td>It looks like your question got cut off. Could...</td>\n",
       "      <td>(2, 3)</td>\n",
       "      <td>0.099228</td>\n",
       "    </tr>\n",
       "    <tr>\n",
       "      <th>21</th>\n",
       "      <td>Why sky</td>\n",
       "      <td>Could you please clarify your question or prov...</td>\n",
       "      <td>(1, 4)</td>\n",
       "      <td>0.423445</td>\n",
       "    </tr>\n",
       "    <tr>\n",
       "      <th>22</th>\n",
       "      <td>is sky</td>\n",
       "      <td>It looks like your question might be incomplet...</td>\n",
       "      <td>(2, 4)</td>\n",
       "      <td>0.458027</td>\n",
       "    </tr>\n",
       "    <tr>\n",
       "      <th>23</th>\n",
       "      <td>blue?</td>\n",
       "      <td>Could you provide more context or specify what...</td>\n",
       "      <td>(5,)</td>\n",
       "      <td>0.333535</td>\n",
       "    </tr>\n",
       "    <tr>\n",
       "      <th>24</th>\n",
       "      <td>Why blue?</td>\n",
       "      <td>The question \"Why blue?\" is quite open-ended, ...</td>\n",
       "      <td>(1, 5)</td>\n",
       "      <td>0.432644</td>\n",
       "    </tr>\n",
       "    <tr>\n",
       "      <th>25</th>\n",
       "      <td>the sky blue?</td>\n",
       "      <td>The sky appears blue primarily due to a phenom...</td>\n",
       "      <td>(3, 4, 5)</td>\n",
       "      <td>0.859561</td>\n",
       "    </tr>\n",
       "    <tr>\n",
       "      <th>26</th>\n",
       "      <td>sky</td>\n",
       "      <td>The sky is the expanse of air over the Earth, ...</td>\n",
       "      <td>(4,)</td>\n",
       "      <td>0.659225</td>\n",
       "    </tr>\n",
       "    <tr>\n",
       "      <th>27</th>\n",
       "      <td>Why is blue?</td>\n",
       "      <td>The question \"Why is blue?\" is a bit open-ende...</td>\n",
       "      <td>(1, 2, 5)</td>\n",
       "      <td>0.516911</td>\n",
       "    </tr>\n",
       "    <tr>\n",
       "      <th>28</th>\n",
       "      <td>sky blue?</td>\n",
       "      <td>\"Sky blue\" is a color that resembles the light...</td>\n",
       "      <td>(4, 5)</td>\n",
       "      <td>0.435384</td>\n",
       "    </tr>\n",
       "    <tr>\n",
       "      <th>29</th>\n",
       "      <td>is the sky</td>\n",
       "      <td>The sky is the expanse above the Earth, often ...</td>\n",
       "      <td>(2, 3, 4)</td>\n",
       "      <td>0.658532</td>\n",
       "    </tr>\n",
       "  </tbody>\n",
       "</table>\n",
       "</div>"
      ],
      "text/plain": [
       "               Prompt                                           Response  \\\n",
       "0    is the sky blue?  Yes, the sky often appears blue to the human e...   \n",
       "1   Why the sky blue?  The sky appears blue primarily due to a phenom...   \n",
       "2    Why is sky blue?  The sky appears blue primarily due to a phenom...   \n",
       "3    Why is the blue?  It seems like your question is incomplete or p...   \n",
       "4      Why is the sky  The sky appears blue primarily due to a phenom...   \n",
       "5         Why the sky  The question \"Why the sky?\" is quite open-ende...   \n",
       "6              Why is  It seems like your question got cut off. Could...   \n",
       "7          Why is the  It seems like your question got cut off. Could...   \n",
       "8          Why is sky  The sky appears blue primarily due to a phenom...   \n",
       "9            is blue?  Could you please provide more context or clari...   \n",
       "10            the sky  The sky is the expanse above the Earth, extend...   \n",
       "11                Why  Could you please provide more context or clari...   \n",
       "12            Why the  It seems like your question got cut off. Could...   \n",
       "13       is the blue?  Your question seems incomplete. Could you plea...   \n",
       "14      Why sky blue?  The sky appears blue due to a phenomenon calle...   \n",
       "15      Why the blue?  The phrase \"Why the blue?\" can be interpreted ...   \n",
       "16                the  It looks like your message got cut off. Could ...   \n",
       "17          the blue?  Could you provide a bit more context or detail...   \n",
       "18       is sky blue?  Yes, the sky appears blue to the human eye dur...   \n",
       "19                 is  It looks like your message got cut off. Could ...   \n",
       "20             is the  It looks like your question got cut off. Could...   \n",
       "21            Why sky  Could you please clarify your question or prov...   \n",
       "22             is sky  It looks like your question might be incomplet...   \n",
       "23              blue?  Could you provide more context or specify what...   \n",
       "24          Why blue?  The question \"Why blue?\" is quite open-ended, ...   \n",
       "25      the sky blue?  The sky appears blue primarily due to a phenom...   \n",
       "26                sky  The sky is the expanse of air over the Earth, ...   \n",
       "27       Why is blue?  The question \"Why is blue?\" is a bit open-ende...   \n",
       "28          sky blue?  \"Sky blue\" is a color that resembles the light...   \n",
       "29         is the sky  The sky is the expanse above the Earth, often ...   \n",
       "\n",
       "   Token_Indexes  Cosine_Similarity  \n",
       "0   (2, 3, 4, 5)           0.786807  \n",
       "1   (1, 3, 4, 5)           0.882013  \n",
       "2   (1, 2, 4, 5)           0.918582  \n",
       "3   (1, 2, 3, 5)           0.429400  \n",
       "4   (1, 2, 3, 4)           0.938043  \n",
       "5      (1, 3, 4)           0.650561  \n",
       "6         (1, 2)           0.099513  \n",
       "7      (1, 2, 3)           0.089016  \n",
       "8      (1, 2, 4)           0.936632  \n",
       "9         (2, 5)           0.278232  \n",
       "10        (3, 4)           0.624921  \n",
       "11          (1,)           0.069926  \n",
       "12        (1, 3)           0.111738  \n",
       "13     (2, 3, 5)           0.281456  \n",
       "14     (1, 4, 5)           0.939087  \n",
       "15     (1, 3, 5)           0.390062  \n",
       "16          (3,)           0.061619  \n",
       "17        (3, 5)           0.277806  \n",
       "18     (2, 4, 5)           0.825352  \n",
       "19          (2,)           0.100134  \n",
       "20        (2, 3)           0.099228  \n",
       "21        (1, 4)           0.423445  \n",
       "22        (2, 4)           0.458027  \n",
       "23          (5,)           0.333535  \n",
       "24        (1, 5)           0.432644  \n",
       "25     (3, 4, 5)           0.859561  \n",
       "26          (4,)           0.659225  \n",
       "27     (1, 2, 5)           0.516911  \n",
       "28        (4, 5)           0.435384  \n",
       "29     (2, 3, 4)           0.658532  "
      ]
     },
     "execution_count": 17,
     "metadata": {},
     "output_type": "execute_result"
    }
   ],
   "source": [
    "df_openai"
   ]
  },
  {
   "cell_type": "markdown",
   "id": "685c75e2-e0eb-4cad-a289-512e464531dd",
   "metadata": {},
   "source": [
    "The class also offers some additional built-in visualizations:"
   ]
  },
  {
   "cell_type": "code",
   "execution_count": 18,
   "id": "7870b07c-9dfc-46fd-9ab0-0bd2199956a6",
   "metadata": {},
   "outputs": [
    {
     "name": "stdout",
     "output_type": "stream",
     "text": [
      "\u001b[38;2;90;90;255mWhy\u001b[0m \u001b[38;2;36;36;255mis\u001b[0m \u001b[38;2;0;0;255mthe\u001b[0m \u001b[38;2;255;0;0msky\u001b[0m \u001b[38;2;191;191;255mblue?\u001b[0m \n"
     ]
    }
   ],
   "source": [
    "token_shap_openai.print_colored_text()"
   ]
  },
  {
   "cell_type": "code",
   "execution_count": 19,
   "id": "9c53d955-9add-4c7a-9aef-6e2ed7262c0c",
   "metadata": {},
   "outputs": [
    {
     "data": {
      "image/png": "[encoded data removed]",
      "text/plain": [
       "<Figure size 1000x200 with 2 Axes>"
      ]
     },
     "metadata": {},
     "output_type": "display_data"
    }
   ],
   "source": [
    "token_shap_openai.plot_colored_text()"
   ]
  },
  {
   "cell_type": "markdown",
   "id": "dca9b8d2-79bb-4afd-a5e1-b23846b6c34d",
   "metadata": {},
   "source": [
    "And in addition, you can see the raw SHAP values ​​for each token:"
   ]
  },
  {
   "cell_type": "code",
   "execution_count": 20,
   "id": "d7155d6d-4ee3-42db-9f11-5ea96e31515c",
   "metadata": {},
   "outputs": [
    {
     "data": {
      "text/plain": [
       "{'Why_1': np.float64(0.10965459112627637),\n",
       " 'is_2': np.float64(0.04392224302076172),\n",
       " 'the_3': np.float64(0.0),\n",
       " 'sky_4': np.float64(0.6155469223321979),\n",
       " 'blue?_5': np.float64(0.2308762435207641)}"
      ]
     },
     "execution_count": 20,
     "metadata": {},
     "output_type": "execute_result"
    }
   ],
   "source": [
    "token_shap_openai.shapley_values"
   ]
  },
  {
   "cell_type": "markdown",
   "id": "fde7465c-0898-4257-9d94-55b88a9e0b82",
   "metadata": {},
   "source": [
    "### Example 2: Code Completion\n",
    "Prompt: 'Complete the following code: def quick_sort(arr):'"
   ]
  },
  {
   "cell_type": "code",
   "execution_count": 21,
   "id": "5d247021-642f-4405-a4f0-4d79409a05a0",
   "metadata": {},
   "outputs": [
    {
     "data": {
      "application/vnd.jupyter.widget-view+json": {
       "model_id": "f237558f00694796b9cc2c1bb58af340",
       "version_major": 2,
       "version_minor": 0
      },
      "text/plain": [
       "Processing combinations:   0%|          | 0/12 [00:00<?, ?it/s]"
      ]
     },
     "metadata": {},
     "output_type": "display_data"
    },
    {
     "name": "stdout",
     "output_type": "stream",
     "text": [
      "\u001b[48;2;255;255;244mComplete\u001b[0m \u001b[48;2;255;255;255mthe\u001b[0m \u001b[48;2;255;255;251mfollowing\u001b[0m \u001b[48;2;255;255;251mcode:\u001b[0m \u001b[48;2;255;255;234mdef\u001b[0m \u001b[48;2;255;255;0mquick_sort(arr):\u001b[0m \n"
     ]
    }
   ],
   "source": [
    "# Define the prompt\n",
    "prompt = \"Complete the following code: def quick_sort(arr):\"\n",
    "\n",
    "# Analyze the prompt\n",
    "df = token_shap_openai.analyze(prompt, sampling_ratio=0.2, print_highlight_text=True)"
   ]
  },
  {
   "cell_type": "markdown",
   "id": "2c00b17e-dde2-4957-a759-61f150dda145",
   "metadata": {},
   "source": [
    "### Example 3: Medical Diagnosis"
   ]
  },
  {
   "cell_type": "markdown",
   "id": "a54904c0-1e3e-4379-85fb-782daba18ac4",
   "metadata": {},
   "source": [
    "Note: For longer prompts, the analysis might take more time due to the increased number of tokens. therefore in this example I chose to use only the important sample and set the sampling_ratio to 0."
   ]
  },
  {
   "cell_type": "code",
   "execution_count": 27,
   "id": "adbf7ff2-400f-4948-adb1-681da8dfe3e7",
   "metadata": {},
   "outputs": [
    {
     "data": {
      "application/vnd.jupyter.widget-view+json": {
       "model_id": "e2c1a329b6174abdbdbeda1999a6b2d0",
       "version_major": 2,
       "version_minor": 0
      },
      "text/plain": [
       "Processing combinations:   0%|          | 0/39 [00:00<?, ?it/s]"
      ]
     },
     "metadata": {},
     "output_type": "display_data"
    },
    {
     "name": "stdout",
     "output_type": "stream",
     "text": [
      "\u001b[48;2;255;255;228m45-year-old\u001b[0m \u001b[48;2;255;255;79mmale\u001b[0m \u001b[48;2;255;255;142mwith\u001b[0m \u001b[48;2;255;255;185mfatigue,\u001b[0m \u001b[48;2;255;255;219mfever,\u001b[0m \u001b[48;2;255;255;238mshortness\u001b[0m \u001b[48;2;255;255;47mof\u001b[0m \u001b[48;2;255;255;187mbreath,\u001b[0m \u001b[48;2;255;255;254mand\u001b[0m \u001b[48;2;255;255;244mchest\u001b[0m \u001b[48;2;255;255;179mpain\u001b[0m \u001b[48;2;255;255;212mfor\u001b[0m \u001b[48;2;255;255;164mtwo\u001b[0m \u001b[48;2;255;255;188mweeks.\u001b[0m \u001b[48;2;255;255;139mBlood\u001b[0m \u001b[48;2;255;255;233mtests\u001b[0m \u001b[48;2;255;255;254mshow\u001b[0m \u001b[48;2;255;255;249mhigh\u001b[0m \u001b[48;2;255;255;171mWBC\u001b[0m \u001b[48;2;255;255;228mcount,\u001b[0m \u001b[48;2;255;255;156mand\u001b[0m \u001b[48;2;255;255;161mchest\u001b[0m \u001b[48;2;255;255;91mX-ray\u001b[0m \u001b[48;2;255;255;253mindicates\u001b[0m \u001b[48;2;255;255;236mmild\u001b[0m \u001b[48;2;255;255;0mlung\u001b[0m \u001b[48;2;255;255;249minflammation.\u001b[0m \u001b[48;2;255;255;213mFamily\u001b[0m \u001b[48;2;255;255;255mhistory:\u001b[0m \u001b[48;2;255;255;142mcardiovascular\u001b[0m \u001b[48;2;255;255;252mdisease,\u001b[0m \u001b[48;2;255;255;180masthma.\u001b[0m \u001b[48;2;255;255;203mQuestion:\u001b[0m \u001b[48;2;255;255;99mWhat\u001b[0m \u001b[48;2;255;255;203mis\u001b[0m \u001b[48;2;255;255;254mthe\u001b[0m \u001b[48;2;255;255;223mmost\u001b[0m \u001b[48;2;255;255;113mlikely\u001b[0m \u001b[48;2;255;255;249mdiagnosis?\u001b[0m \n"
     ]
    }
   ],
   "source": [
    "prompt = \"\"\"\n",
    "45-year-old male with fatigue, fever, shortness of breath, and chest pain for two weeks. \n",
    "Blood tests show high WBC count, and chest X-ray indicates mild lung inflammation. \n",
    "Family history: cardiovascular disease, asthma.\n",
    "Question: What is the most likely diagnosis?\n",
    "\"\"\"\n",
    "\n",
    "df = token_shap_openai.analyze(prompt, sampling_ratio=0.0, print_highlight_text=True)"
   ]
  },
  {
   "cell_type": "code",
   "execution_count": 28,
   "id": "844954d2-4da7-4953-be8a-5bafcb1e3ffe",
   "metadata": {},
   "outputs": [
    {
     "name": "stdout",
     "output_type": "stream",
     "text": [
      "\u001b[38;2;239;239;255m45-year-old\u001b[0m \u001b[38;2;255;59;59mmale\u001b[0m \u001b[38;2;255;121;121mwith\u001b[0m \u001b[38;2;255;179;179mfatigue,\u001b[0m \u001b[38;2;255;246;246mfever,\u001b[0m \u001b[38;2;206;206;255mshortness\u001b[0m \u001b[38;2;255;33;33mof\u001b[0m \u001b[38;2;255;182;182mbreath,\u001b[0m \u001b[38;2;68;68;255mand\u001b[0m \u001b[38;2;176;176;255mchest\u001b[0m \u001b[38;2;255;170;170mpain\u001b[0m \u001b[38;2;255;229;229mfor\u001b[0m \u001b[38;2;255;149;149mtwo\u001b[0m \u001b[38;2;255;183;183mweeks.\u001b[0m \u001b[38;2;255;118;118mBlood\u001b[0m \u001b[38;2;223;223;255mtests\u001b[0m \u001b[38;2;47;47;255mshow\u001b[0m \u001b[38;2;145;145;255mhigh\u001b[0m \u001b[38;2;255;158;158mWBC\u001b[0m \u001b[38;2;240;240;255mcount,\u001b[0m \u001b[38;2;255;138;138mand\u001b[0m \u001b[38;2;255;144;144mchest\u001b[0m \u001b[38;2;255;70;70mX-ray\u001b[0m \u001b[38;2;89;89;255mindicates\u001b[0m \u001b[38;2;213;213;255mmild\u001b[0m \u001b[38;2;255;0;0mlung\u001b[0m \u001b[38;2;139;139;255minflammation.\u001b[0m \u001b[38;2;255;232;232mFamily\u001b[0m \u001b[38;2;0;0;255mhistory:\u001b[0m \u001b[38;2;255;121;121mcardiovascular\u001b[0m \u001b[38;2;114;114;255mdisease,\u001b[0m \u001b[38;2;255;172;172masthma.\u001b[0m \u001b[38;2;255;210;210mQuestion:\u001b[0m \u001b[38;2;255;77;77mWhat\u001b[0m \u001b[38;2;255;210;210mis\u001b[0m \u001b[38;2;35;35;255mthe\u001b[0m \u001b[38;2;252;252;255mmost\u001b[0m \u001b[38;2;255;90;90mlikely\u001b[0m \u001b[38;2;144;144;255mdiagnosis?\u001b[0m \n"
     ]
    }
   ],
   "source": [
    "token_shap_openai.print_colored_text()"
   ]
  },
  {
   "cell_type": "markdown",
   "id": "8fe31b48-6081-43fb-a40d-a7fc7cd3ee66",
   "metadata": {},
   "source": [
    "## 3. Using a Local Hugging Face Model"
   ]
  },
  {
   "cell_type": "code",
   "execution_count": 24,
   "id": "9173caf3-eaea-4631-a311-289c5424d7cc",
   "metadata": {},
   "outputs": [
    {
     "data": {
      "application/vnd.jupyter.widget-view+json": {
       "model_id": "2de700676c054d67aad42a019b2b3e59",
       "version_major": 2,
       "version_minor": 0
      },
      "text/plain": [
       "VBox(children=(HTML(value='<center> <img\\nsrc=https://huggingface.co/front/assets/huggingface_logo-noborder.sv…"
      ]
     },
     "metadata": {},
     "output_type": "display_data"
    }
   ],
   "source": [
    "from huggingface_hub import login\n",
    "login()"
   ]
  },
  {
   "cell_type": "code",
   "execution_count": 26,
   "id": "26334adb-8f8f-4f5b-b83b-b09eb6840c1d",
   "metadata": {
    "tags": []
   },
   "outputs": [
    {
     "data": {
      "application/vnd.jupyter.widget-view+json": {
       "model_id": "e92eefcdd5a147ae9045f3b004d77645",
       "version_major": 2,
       "version_minor": 0
      },
      "text/plain": [
       "Loading checkpoint shards:   0%|          | 0/2 [00:00<?, ?it/s]"
      ]
     },
     "metadata": {},
     "output_type": "display_data"
    }
   ],
   "source": [
    "model_path = \"meta-llama/Llama-3.2-3B-Instruct\"\n",
    "local_model = LocalModel(model_name_or_path=model_path)\n",
    "hf_embedding = HuggingFaceEmbeddings()\n",
    "token_shap_local = TokenSHAP(model=local_model, splitter=splitter, vectorizer=hf_embedding)"
   ]
  },
  {
   "cell_type": "markdown",
   "id": "2891fbb8-180b-47f1-b330-105ef4b96935",
   "metadata": {},
   "source": [
    "Now we can analyze the prompt:"
   ]
  },
  {
   "cell_type": "code",
   "execution_count": 28,
   "id": "3549c65b-8af7-4d5c-8ee5-15c93fbafc2a",
   "metadata": {},
   "outputs": [
    {
     "data": {
      "application/vnd.jupyter.widget-view+json": {
       "model_id": "121edbf759c547e7a29af41e57c8c7a4",
       "version_major": 2,
       "version_minor": 0
      },
      "text/plain": [
       "Processing combinations:   0%|          | 0/6 [00:00<?, ?it/s]"
      ]
     },
     "metadata": {},
     "output_type": "display_data"
    },
    {
     "name": "stdout",
     "output_type": "stream",
     "text": [
      "\u001b[48;2;255;255;254mWhat\u001b[0m \u001b[48;2;255;255;254mare\u001b[0m \u001b[48;2;255;255;250mthe\u001b[0m \u001b[48;2;255;255;254msymptoms\u001b[0m \u001b[48;2;255;255;255mof\u001b[0m \u001b[48;2;255;255;0mCOVID-19?\u001b[0m \n",
      "\u001b[38;2;21;21;255mWhat\u001b[0m \u001b[38;2;36;36;255mare\u001b[0m \u001b[38;2;128;128;255mthe\u001b[0m \u001b[38;2;16;16;255msymptoms\u001b[0m \u001b[38;2;0;0;255mof\u001b[0m \u001b[38;2;255;0;0mCOVID-19?\u001b[0m \n"
     ]
    }
   ],
   "source": [
    "prompt4 = \"What are the symptoms of COVID-19?\"\n",
    "df_local = token_shap_local.analyze(prompt4, sampling_ratio=0.0, print_highlight_text=True)\n",
    "token_shap_local.print_colored_text()"
   ]
  },
  {
   "cell_type": "code",
   "execution_count": 33,
   "id": "8d5d9cfb-2b6e-4760-8933-22da8f95b98c",
   "metadata": {},
   "outputs": [
    {
     "data": {
      "text/html": [
       "<div>\n",
       "<style scoped>\n",
       "    .dataframe tbody tr th:only-of-type {\n",
       "        vertical-align: middle;\n",
       "    }\n",
       "\n",
       "    .dataframe tbody tr th {\n",
       "        vertical-align: top;\n",
       "    }\n",
       "\n",
       "    .dataframe thead th {\n",
       "        text-align: right;\n",
       "    }\n",
       "</style>\n",
       "<table border=\"1\" class=\"dataframe\">\n",
       "  <thead>\n",
       "    <tr style=\"text-align: right;\">\n",
       "      <th></th>\n",
       "      <th>Prompt</th>\n",
       "      <th>Response</th>\n",
       "      <th>Token_Indexes</th>\n",
       "      <th>Cosine_Similarity</th>\n",
       "    </tr>\n",
       "  </thead>\n",
       "  <tbody>\n",
       "    <tr>\n",
       "      <th>0</th>\n",
       "      <td>are the symptoms of COVID-19?</td>\n",
       "      <td>COVID-19 is a respiratory illness caused by th...</td>\n",
       "      <td>(2, 3, 4, 5, 6)</td>\n",
       "      <td>0.862967</td>\n",
       "    </tr>\n",
       "    <tr>\n",
       "      <th>1</th>\n",
       "      <td>What the symptoms of COVID-19?</td>\n",
       "      <td>Common symptoms include:\\nFever\\nCough\\nShortn...</td>\n",
       "      <td>(1, 3, 4, 5, 6)</td>\n",
       "      <td>0.845263</td>\n",
       "    </tr>\n",
       "    <tr>\n",
       "      <th>2</th>\n",
       "      <td>What are symptoms of COVID-19?</td>\n",
       "      <td>Common symptoms include:\\nFever\\nCough\\nShortn...</td>\n",
       "      <td>(1, 2, 4, 5, 6)</td>\n",
       "      <td>0.735160</td>\n",
       "    </tr>\n",
       "    <tr>\n",
       "      <th>3</th>\n",
       "      <td>What are the of COVID-19?</td>\n",
       "      <td>COVID-19 is a viral respiratory disease caused...</td>\n",
       "      <td>(1, 2, 3, 5, 6)</td>\n",
       "      <td>0.868448</td>\n",
       "    </tr>\n",
       "    <tr>\n",
       "      <th>4</th>\n",
       "      <td>What are the symptoms COVID-19?</td>\n",
       "      <td>Common symptoms include fever, cough, fatigue,...</td>\n",
       "      <td>(1, 2, 3, 4, 6)</td>\n",
       "      <td>0.888340</td>\n",
       "    </tr>\n",
       "    <tr>\n",
       "      <th>5</th>\n",
       "      <td>What are the symptoms of</td>\n",
       "      <td>a heat stroke?\\nHeat stroke is a serious medic...</td>\n",
       "      <td>(1, 2, 3, 4, 5)</td>\n",
       "      <td>0.280897</td>\n",
       "    </tr>\n",
       "  </tbody>\n",
       "</table>\n",
       "</div>"
      ],
      "text/plain": [
       "                            Prompt  \\\n",
       "0    are the symptoms of COVID-19?   \n",
       "1   What the symptoms of COVID-19?   \n",
       "2   What are symptoms of COVID-19?   \n",
       "3        What are the of COVID-19?   \n",
       "4  What are the symptoms COVID-19?   \n",
       "5         What are the symptoms of   \n",
       "\n",
       "                                            Response    Token_Indexes  \\\n",
       "0  COVID-19 is a respiratory illness caused by th...  (2, 3, 4, 5, 6)   \n",
       "1  Common symptoms include:\\nFever\\nCough\\nShortn...  (1, 3, 4, 5, 6)   \n",
       "2  Common symptoms include:\\nFever\\nCough\\nShortn...  (1, 2, 4, 5, 6)   \n",
       "3  COVID-19 is a viral respiratory disease caused...  (1, 2, 3, 5, 6)   \n",
       "4  Common symptoms include fever, cough, fatigue,...  (1, 2, 3, 4, 6)   \n",
       "5  a heat stroke?\\nHeat stroke is a serious medic...  (1, 2, 3, 4, 5)   \n",
       "\n",
       "   Cosine_Similarity  \n",
       "0           0.862967  \n",
       "1           0.845263  \n",
       "2           0.735160  \n",
       "3           0.868448  \n",
       "4           0.888340  \n",
       "5           0.280897  "
      ]
     },
     "execution_count": 33,
     "metadata": {},
     "output_type": "execute_result"
    }
   ],
   "source": [
    "df_local"
   ]
  },
  {
   "cell_type": "code",
   "execution_count": 30,
   "id": "a7fd7247-6f27-4946-87b1-a88529a468f6",
   "metadata": {},
   "outputs": [
    {
     "name": "stdout",
     "output_type": "stream",
     "text": [
      "\u001b[48;2;255;255;254mWhat\u001b[0m \u001b[48;2;255;255;254mare\u001b[0m \u001b[48;2;255;255;250mthe\u001b[0m \u001b[48;2;255;255;254msymptoms\u001b[0m \u001b[48;2;255;255;255mof\u001b[0m \u001b[48;2;255;255;0mCOVID-19?\u001b[0m \n"
     ]
    }
   ],
   "source": [
    "token_shap_local.highlight_text_background()"
   ]
  },
  {
   "cell_type": "code",
   "execution_count": 31,
   "id": "176eaee5-42bc-4411-8ef1-a130738ffbcc",
   "metadata": {},
   "outputs": [
    {
     "name": "stdout",
     "output_type": "stream",
     "text": [
      "\u001b[38;2;21;21;255mWhat\u001b[0m \u001b[38;2;36;36;255mare\u001b[0m \u001b[38;2;128;128;255mthe\u001b[0m \u001b[38;2;16;16;255msymptoms\u001b[0m \u001b[38;2;0;0;255mof\u001b[0m \u001b[38;2;255;0;0mCOVID-19?\u001b[0m \n"
     ]
    }
   ],
   "source": [
    "token_shap_local.print_colored_text()"
   ]
  },
  {
   "cell_type": "code",
   "execution_count": 32,
   "id": "c3282a62-e56f-4e43-b076-313755728d11",
   "metadata": {},
   "outputs": [
    {
     "data": {
      "image/png": "[encoded data removed]",
      "text/plain": [
       "<Figure size 1000x200 with 2 Axes>"
      ]
     },
     "metadata": {},
     "output_type": "display_data"
    }
   ],
   "source": [
    "token_shap_local.plot_colored_text()"
   ]
  },
  {
   "cell_type": "markdown",
   "id": "eb674de5-f2c6-4790-a3ed-9b338469c5bd",
   "metadata": {},
   "source": [
    "## 4. Using an Ollama Model"
   ]
  },
  {
   "cell_type": "markdown",
   "id": "917ec48e-f088-40d3-9474-ed19c1629120",
   "metadata": {},
   "source": [
    "### Setup for API Model\n",
    "To use an API-based model, you need to use the OllamaModel class.\n",
    "\n",
    "Through Ollama you can communicate with open source models.\n",
    "\n",
    "To continue with this section please make sure you have [Ollama](https://ollama.com/) installed.\n",
    "\n"
   ]
  },
  {
   "cell_type": "code",
   "execution_count": 6,
   "id": "dd3cca89-296c-4431-8c0b-bff5e7feee12",
   "metadata": {},
   "outputs": [],
   "source": [
    "ollama_model = OllamaModel(model_name=\"llama3.2-vision:latest\", api_url=\"http://35.95.163.15:11434\")\n",
    "tfidf_embedding = TfidfTextVectorizer()\n",
    "token_shap_ollama = TokenSHAP(model=ollama_model, splitter=splitter, vectorizer=tfidf_embedding)"
   ]
  },
  {
   "cell_type": "code",
   "execution_count": 7,
   "id": "4e6b0656-2767-45d5-a1de-01dc4d6a9070",
   "metadata": {},
   "outputs": [
    {
     "data": {
      "application/vnd.jupyter.widget-view+json": {
       "model_id": "7fdbf848012545279af909861d4471c7",
       "version_major": 2,
       "version_minor": 0
      },
      "text/plain": [
       "Processing combinations:   0%|          | 0/31 [00:00<?, ?it/s]"
      ]
     },
     "metadata": {},
     "output_type": "display_data"
    },
    {
     "name": "stdout",
     "output_type": "stream",
     "text": [
      "\u001b[48;2;255;255;254mExplain\u001b[0m \u001b[48;2;255;255;0mquantum\u001b[0m \u001b[48;2;255;255;229mmechanics\u001b[0m \u001b[48;2;255;255;255min\u001b[0m \u001b[48;2;255;255;254msimple\u001b[0m \u001b[48;2;255;255;254mterms.\u001b[0m \n",
      "\u001b[38;2;42;42;255mExplain\u001b[0m \u001b[38;2;255;0;0mquantum\u001b[0m \u001b[38;2;237;237;255mmechanics\u001b[0m \u001b[38;2;0;0;255min\u001b[0m \u001b[38;2;0;0;255msimple\u001b[0m \u001b[38;2;23;23;255mterms.\u001b[0m \n"
     ]
    }
   ],
   "source": [
    "prompt5 = \"Explain quantum mechanics in simple terms.\"\n",
    "df_ollama = token_shap_ollama.analyze(prompt5, sampling_ratio=0.5, print_highlight_text=True)\n",
    "token_shap_ollama.print_colored_text()"
   ]
  },
  {
   "cell_type": "markdown",
   "id": "44aa581b-54c7-460c-ad59-d7027f5c2027",
   "metadata": {},
   "source": [
    "## Customizing the Splitter"
   ]
  },
  {
   "cell_type": "markdown",
   "id": "2cbe7125-f11a-4c07-a43c-e9f652a65557",
   "metadata": {},
   "source": [
    "Sentence-Level Splitting\n",
    "For more advanced analysis, you might want to split the prompt into sentences rather than words. You can customized the splitter for this purpose."
   ]
  },
  {
   "cell_type": "code",
   "execution_count": 9,
   "id": "d1b24aa3-280c-453d-8c80-358d34287fb2",
   "metadata": {},
   "outputs": [],
   "source": [
    "openai_model = OpenAIModel(api_key=api_key)\n",
    "openai_embedding = OpenAIEmbeddings(api_key=api_key)\n",
    "splitter = StringSplitter(split_pattern='\\.')\n",
    "token_shap_openai = TokenSHAP(model=openai_model, splitter=splitter, vectorizer=openai_embedding)"
   ]
  },
  {
   "cell_type": "code",
   "execution_count": 10,
   "id": "7b85e0bf-3652-49ac-8350-fd27b714abd3",
   "metadata": {},
   "outputs": [],
   "source": [
    "prompt = \"\"\"Our company is experiencing a decline in quarterly sales for the first time in five years.\n",
    "Recent market trends indicate increased competition from new startups offering similar products at lower prices.\n",
    "Despite an increase in our online advertising budget, customer engagement on social media platforms has decreased by 15% compared to last quarter.\n",
    "In addition, feedback from customer surveys suggests that many are dissatisfied with the lack of new features in our products.\n",
    "Our largest competitor recently launched a new version of their product with innovative functionalities, which seems to have attracted a significant portion of our customer base.\n",
    "What strategic actions should our company consider to regain market share and improve customer satisfaction?\n",
    "\"\"\""
   ]
  },
  {
   "cell_type": "markdown",
   "id": "6f3fd741-bab4-4e3a-9546-d989a848cc6e",
   "metadata": {},
   "source": [
    "#### Output Explanation:\n",
    "\n",
    "The analysis will consider each sentence as a token, allowing you to understand the importance of each sentence in generating the model's response."
   ]
  },
  {
   "cell_type": "code",
   "execution_count": 11,
   "id": "bd2df416-7aa6-4061-95c8-c0ff8041ec45",
   "metadata": {},
   "outputs": [
    {
     "data": {
      "text/plain": [
       "['Our company is experiencing a decline in quarterly sales for the first time in five years',\n",
       " '\\nRecent market trends indicate increased competition from new startups offering similar products at lower prices',\n",
       " '\\nDespite an increase in our online advertising budget, customer engagement on social media platforms has decreased by 15% compared to last quarter',\n",
       " '\\nIn addition, feedback from customer surveys suggests that many are dissatisfied with the lack of new features in our products',\n",
       " '\\nOur largest competitor recently launched a new version of their product with innovative functionalities, which seems to have attracted a significant portion of our customer base',\n",
       " '\\nWhat strategic actions should our company consider to regain market share and improve customer satisfaction?']"
      ]
     },
     "execution_count": 11,
     "metadata": {},
     "output_type": "execute_result"
    }
   ],
   "source": [
    "splitter.split(prompt)"
   ]
  },
  {
   "cell_type": "code",
   "execution_count": 13,
   "id": "1ac49757-bfdf-4073-ba24-e233d0e570e8",
   "metadata": {},
   "outputs": [
    {
     "data": {
      "application/vnd.jupyter.widget-view+json": {
       "model_id": "0ed2fc08f75c4b5fa416b42b9c262c9d",
       "version_major": 2,
       "version_minor": 0
      },
      "text/plain": [
       "Processing combinations:   0%|          | 0/31 [00:00<?, ?it/s]"
      ]
     },
     "metadata": {},
     "output_type": "display_data"
    }
   ],
   "source": [
    "df_sentence = token_shap_openai.analyze(prompt, sampling_ratio=0.5)"
   ]
  },
  {
   "cell_type": "code",
   "execution_count": 14,
   "id": "5cabda96-75d6-4401-b52f-08dfc78d2685",
   "metadata": {},
   "outputs": [
    {
     "data": {
      "text/plain": [
       "31"
      ]
     },
     "execution_count": 14,
     "metadata": {},
     "output_type": "execute_result"
    }
   ],
   "source": [
    "len(df_sentence)"
   ]
  },
  {
   "cell_type": "code",
   "execution_count": 15,
   "id": "0182907a-6248-4139-a190-3529fcf9480e",
   "metadata": {},
   "outputs": [
    {
     "data": {
      "text/html": [
       "<div>\n",
       "<style scoped>\n",
       "    .dataframe tbody tr th:only-of-type {\n",
       "        vertical-align: middle;\n",
       "    }\n",
       "\n",
       "    .dataframe tbody tr th {\n",
       "        vertical-align: top;\n",
       "    }\n",
       "\n",
       "    .dataframe thead th {\n",
       "        text-align: right;\n",
       "    }\n",
       "</style>\n",
       "<table border=\"1\" class=\"dataframe\">\n",
       "  <thead>\n",
       "    <tr style=\"text-align: right;\">\n",
       "      <th></th>\n",
       "      <th>Prompt</th>\n",
       "      <th>Response</th>\n",
       "      <th>Token_Indexes</th>\n",
       "      <th>Cosine_Similarity</th>\n",
       "    </tr>\n",
       "  </thead>\n",
       "  <tbody>\n",
       "    <tr>\n",
       "      <th>0</th>\n",
       "      <td>Recent market trends indicate increased compe...</td>\n",
       "      <td>To regain market share and improve customer sa...</td>\n",
       "      <td>(2, 3, 4, 5, 6)</td>\n",
       "      <td>0.910024</td>\n",
       "    </tr>\n",
       "    <tr>\n",
       "      <th>1</th>\n",
       "      <td>Our company is experiencing a decline in quart...</td>\n",
       "      <td>To address the decline in sales and improve cu...</td>\n",
       "      <td>(1, 3, 4, 5, 6)</td>\n",
       "      <td>0.941379</td>\n",
       "    </tr>\n",
       "    <tr>\n",
       "      <th>2</th>\n",
       "      <td>Our company is experiencing a decline in quart...</td>\n",
       "      <td>To address the decline in sales and improve cu...</td>\n",
       "      <td>(1, 2, 4, 5, 6)</td>\n",
       "      <td>0.954666</td>\n",
       "    </tr>\n",
       "    <tr>\n",
       "      <th>3</th>\n",
       "      <td>Our company is experiencing a decline in quart...</td>\n",
       "      <td>To address the decline in sales and regain mar...</td>\n",
       "      <td>(1, 2, 3, 5, 6)</td>\n",
       "      <td>0.935967</td>\n",
       "    </tr>\n",
       "    <tr>\n",
       "      <th>4</th>\n",
       "      <td>Our company is experiencing a decline in quart...</td>\n",
       "      <td>To address the decline in sales and improve cu...</td>\n",
       "      <td>(1, 2, 3, 4, 6)</td>\n",
       "      <td>0.945971</td>\n",
       "    </tr>\n",
       "  </tbody>\n",
       "</table>\n",
       "</div>"
      ],
      "text/plain": [
       "                                              Prompt  \\\n",
       "0   Recent market trends indicate increased compe...   \n",
       "1  Our company is experiencing a decline in quart...   \n",
       "2  Our company is experiencing a decline in quart...   \n",
       "3  Our company is experiencing a decline in quart...   \n",
       "4  Our company is experiencing a decline in quart...   \n",
       "\n",
       "                                            Response    Token_Indexes  \\\n",
       "0  To regain market share and improve customer sa...  (2, 3, 4, 5, 6)   \n",
       "1  To address the decline in sales and improve cu...  (1, 3, 4, 5, 6)   \n",
       "2  To address the decline in sales and improve cu...  (1, 2, 4, 5, 6)   \n",
       "3  To address the decline in sales and regain mar...  (1, 2, 3, 5, 6)   \n",
       "4  To address the decline in sales and improve cu...  (1, 2, 3, 4, 6)   \n",
       "\n",
       "   Cosine_Similarity  \n",
       "0           0.910024  \n",
       "1           0.941379  \n",
       "2           0.954666  \n",
       "3           0.935967  \n",
       "4           0.945971  "
      ]
     },
     "execution_count": 15,
     "metadata": {},
     "output_type": "execute_result"
    }
   ],
   "source": [
    "df_sentence.head()"
   ]
  },
  {
   "cell_type": "code",
   "execution_count": 17,
   "id": "af3b87b1-0b63-43e5-a5d7-fb373ba135fe",
   "metadata": {},
   "outputs": [
    {
     "name": "stderr",
     "output_type": "stream",
     "text": [
      "/tmp/ipykernel_132972/3158967251.py:651: UserWarning: Tight layout not applied. The left and right margins cannot be made large enough to accommodate all Axes decorations.\n",
      "  plt.tight_layout()\n"
     ]
    },
    {
     "data": {
      "image/png": "[encoded data removed]",
      "text/plain": [
       "<Figure size 1000x400 with 2 Axes>"
      ]
     },
     "metadata": {},
     "output_type": "display_data"
    }
   ],
   "source": [
    "token_shap_openai.plot_colored_text(new_line = True)"
   ]
  },
  {
   "cell_type": "code",
   "execution_count": 20,
   "id": "89b51a1b-d487-4be5-a6a7-d1251a53f6b2",
   "metadata": {},
   "outputs": [
    {
     "name": "stdout",
     "output_type": "stream",
     "text": [
      "\u001b[38;2;255;246;246mOur company is experiencing a decline in quarterly sales for the first time in five years\u001b[0m \u001b[38;2;176;176;255m Recent market trends indicate increased competition from new startups offering similar products at lower prices\u001b[0m \u001b[38;2;0;0;255m Despite an increase in our online advertising budget, customer engagement on social media platforms has decreased by 15% compared to last quarter\u001b[0m \u001b[38;2;138;138;255m In addition, feedback from customer surveys suggests that many are dissatisfied with the lack of new features in our products\u001b[0m \u001b[38;2;157;157;255m Our largest competitor recently launched a new version of their product with innovative functionalities, which seems to have attracted a significant portion of our customer base\u001b[0m \u001b[38;2;255;0;0m What strategic actions should our company consider to regain market share and improve customer satisfaction?\u001b[0m \n"
     ]
    }
   ],
   "source": [
    "token_shap_openai.print_colored_text()"
   ]
  },
  {
   "cell_type": "code",
   "execution_count": 21,
   "id": "a7d53c1c-9fb1-482d-8465-19d595cb78c9",
   "metadata": {},
   "outputs": [
    {
     "name": "stdout",
     "output_type": "stream",
     "text": [
      "\u001b[48;2;255;255;219mOur company is experiencing a decline in quarterly sales for the first time in five years\u001b[0m \u001b[48;2;255;255;244m Recent market trends indicate increased competition from new startups offering similar products at lower prices\u001b[0m \u001b[48;2;255;255;255m Despite an increase in our online advertising budget, customer engagement on social media platforms has decreased by 15% compared to last quarter\u001b[0m \u001b[48;2;255;255;249m In addition, feedback from customer surveys suggests that many are dissatisfied with the lack of new features in our products\u001b[0m \u001b[48;2;255;255;247m Our largest competitor recently launched a new version of their product with innovative functionalities, which seems to have attracted a significant portion of our customer base\u001b[0m \u001b[48;2;255;255;0m What strategic actions should our company consider to regain market share and improve customer satisfaction?\u001b[0m \n"
     ]
    }
   ],
   "source": [
    "token_shap_openai.highlight_text_background()"
   ]
  },
  {
   "cell_type": "markdown",
   "id": "8ddd809a-ae95-4b38-9d52-a994039da35f",
   "metadata": {},
   "source": [
    "## 6. Conclusion\n",
    "\n",
    "- We demonstrated how to analyze model responses with TokenSHAP.\n",
    "- We explored different models: OpenAI API, Local Hugging Face, and Ollama.\n",
    "- We explored different embedding options and tokenization strategies.\n",
    "- We optimized performance using sampling ratios.\n",
    "- We analyzed diverse prompts including scientific, business, and general knowledge questions.\n",
    "- **We showcased sentence-level splitting, which helps in understanding the importance of entire sentences in longer texts.**\n",
    "\n",
    "Experiment with different settings to explore TokenSHAP further!"
   ]
  }
 ],
 "metadata": {
  "kernelspec": {
   "display_name": "Grounded-Sam2",
   "language": "python",
   "name": "grounded_sam2"
  },
  "language_info": {
   "codemirror_mode": {
    "name": "ipython",
    "version": 3
   },
   "file_extension": ".py",
   "mimetype": "text/x-python",
   "name": "python",
   "nbconvert_exporter": "python",
   "pygments_lexer": "ipython3",
   "version": "3.10.14"
  }
 },
 "nbformat": 4,
 "nbformat_minor": 5
}
