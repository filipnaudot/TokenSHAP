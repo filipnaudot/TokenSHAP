{
 "cells": [
  {
   "cell_type": "code",
   "execution_count": 1,
   "id": "f6944d03-05e5-4096-8aec-8499ff4dab63",
   "metadata": {
    "tags": []
   },
   "outputs": [],
   "source": [
    "from token_shap import TokenSHAP"
   ]
  },
  {
   "cell_type": "markdown",
   "id": "8fe31b48-6081-43fb-a40d-a7fc7cd3ee66",
   "metadata": {},
   "source": [
    "## Single Sample"
   ]
  },
  {
   "cell_type": "code",
   "execution_count": 2,
   "id": "4d3c78aa-66f1-4b1c-a0bf-9f50f56578b5",
   "metadata": {},
   "outputs": [
    {
     "name": "stderr",
     "output_type": "stream",
     "text": [
      "/opt/anaconda3/envs/opensora/lib/python3.9/site-packages/huggingface_hub/file_download.py:1132: FutureWarning: `resume_download` is deprecated and will be removed in version 1.0.0. Downloads always resume when possible. If you want to force a new download, use `force_download=True`.\n",
      "  warnings.warn(\n",
      "Special tokens have been added in the vocabulary, make sure the associated word embeddings are fine-tuned or trained.\n"
     ]
    }
   ],
   "source": [
    "model_name = \"llama3\"\n",
    "tokenizer_path =\"NousResearch/Hermes-2-Theta-Llama-3-8B\"\n",
    "tshap = TokenSHAP(model_name, tokenizer_path)"
   ]
  },
  {
   "cell_type": "code",
   "execution_count": 3,
   "id": "26334adb-8f8f-4f5b-b83b-b09eb6840c1d",
   "metadata": {
    "tags": []
   },
   "outputs": [
    {
     "name": "stdout",
     "output_type": "stream",
     "text": [
      "CPU times: user 481 ms, sys: 175 ms, total: 657 ms\n",
      "Wall time: 47.7 s\n"
     ]
    }
   ],
   "source": [
    "%%time\n",
    "prompt = \"why is the sky blue?\"\n",
    "results = tshap.analyze(prompt, sampling_ratio = 0.2)"
   ]
  },
  {
   "cell_type": "code",
   "execution_count": 4,
   "id": "5a0d20f7-a69d-4b06-87d1-0b43a1227d42",
   "metadata": {},
   "outputs": [
    {
     "data": {
      "text/plain": [
       "{'why': 0.1331673528857718,\n",
       " 'is': 0.16281964289093626,\n",
       " 'the': 0.20561796267846535,\n",
       " 'sky': 0.229022879353814,\n",
       " 'blue': 0.2693721621910127,\n",
       " '?': 0.0}"
      ]
     },
     "execution_count": 4,
     "metadata": {},
     "output_type": "execute_result"
    }
   ],
   "source": [
    "tshap.shapley_values"
   ]
  },
  {
   "cell_type": "code",
   "execution_count": 5,
   "id": "401efc3f-5204-4b4b-9338-14e9bd32487b",
   "metadata": {},
   "outputs": [
    {
     "data": {
      "text/html": [
       "<div>\n",
       "<style scoped>\n",
       "    .dataframe tbody tr th:only-of-type {\n",
       "        vertical-align: middle;\n",
       "    }\n",
       "\n",
       "    .dataframe tbody tr th {\n",
       "        vertical-align: top;\n",
       "    }\n",
       "\n",
       "    .dataframe thead th {\n",
       "        text-align: right;\n",
       "    }\n",
       "</style>\n",
       "<table border=\"1\" class=\"dataframe\">\n",
       "  <thead>\n",
       "    <tr style=\"text-align: right;\">\n",
       "      <th></th>\n",
       "      <th>Prompt</th>\n",
       "      <th>Response</th>\n",
       "      <th>Cosine_Similarity</th>\n",
       "    </tr>\n",
       "  </thead>\n",
       "  <tbody>\n",
       "    <tr>\n",
       "      <th>0</th>\n",
       "      <td>is the sky blue?</td>\n",
       "      <td>A simple yet profound question!\\n\\nThe answer ...</td>\n",
       "      <td>0.687905</td>\n",
       "    </tr>\n",
       "    <tr>\n",
       "      <th>1</th>\n",
       "      <td>why the sky blue?</td>\n",
       "      <td>What a great question!\\n\\nThe color of the sky...</td>\n",
       "      <td>0.809589</td>\n",
       "    </tr>\n",
       "    <tr>\n",
       "      <th>2</th>\n",
       "      <td>why is sky blue?</td>\n",
       "      <td>What a great question!\\n\\nThe short answer is ...</td>\n",
       "      <td>0.811983</td>\n",
       "    </tr>\n",
       "    <tr>\n",
       "      <th>3</th>\n",
       "      <td>why is the blue?</td>\n",
       "      <td>The color of the sky can be affected by many f...</td>\n",
       "      <td>0.808328</td>\n",
       "    </tr>\n",
       "    <tr>\n",
       "      <th>4</th>\n",
       "      <td>why is the sky?</td>\n",
       "      <td>What a profound and fascinating question!\\n\\nT...</td>\n",
       "      <td>0.658065</td>\n",
       "    </tr>\n",
       "    <tr>\n",
       "      <th>5</th>\n",
       "      <td>why is the sky blue</td>\n",
       "      <td>What a great question!\\n\\nThe short answer is:...</td>\n",
       "      <td>0.825981</td>\n",
       "    </tr>\n",
       "    <tr>\n",
       "      <th>6</th>\n",
       "      <td>is the blue?</td>\n",
       "      <td>I think there might have been a misunderstandi...</td>\n",
       "      <td>0.100193</td>\n",
       "    </tr>\n",
       "    <tr>\n",
       "      <th>7</th>\n",
       "      <td>is the sky blue</td>\n",
       "      <td>A simple yet profound question!\\n\\nThe answer,...</td>\n",
       "      <td>0.626023</td>\n",
       "    </tr>\n",
       "    <tr>\n",
       "      <th>8</th>\n",
       "      <td>the sky?</td>\n",
       "      <td>I think you meant to ask \"What's in the sky?\"\\...</td>\n",
       "      <td>0.316080</td>\n",
       "    </tr>\n",
       "    <tr>\n",
       "      <th>9</th>\n",
       "      <td>why is?</td>\n",
       "      <td>I apologize, but it seems like your question g...</td>\n",
       "      <td>0.037603</td>\n",
       "    </tr>\n",
       "    <tr>\n",
       "      <th>10</th>\n",
       "      <td>the sky blue?</td>\n",
       "      <td>A classic question!\\n\\nThe color of the sky ca...</td>\n",
       "      <td>0.617503</td>\n",
       "    </tr>\n",
       "    <tr>\n",
       "      <th>11</th>\n",
       "      <td>the sky blue</td>\n",
       "      <td>The classic phrase!\\n\\n\"The sky is blue\" is a ...</td>\n",
       "      <td>0.421937</td>\n",
       "    </tr>\n",
       "  </tbody>\n",
       "</table>\n",
       "</div>"
      ],
      "text/plain": [
       "                 Prompt                                           Response  \\\n",
       "0      is the sky blue?  A simple yet profound question!\\n\\nThe answer ...   \n",
       "1     why the sky blue?  What a great question!\\n\\nThe color of the sky...   \n",
       "2      why is sky blue?  What a great question!\\n\\nThe short answer is ...   \n",
       "3      why is the blue?  The color of the sky can be affected by many f...   \n",
       "4       why is the sky?  What a profound and fascinating question!\\n\\nT...   \n",
       "5   why is the sky blue  What a great question!\\n\\nThe short answer is:...   \n",
       "6          is the blue?  I think there might have been a misunderstandi...   \n",
       "7       is the sky blue  A simple yet profound question!\\n\\nThe answer,...   \n",
       "8              the sky?  I think you meant to ask \"What's in the sky?\"\\...   \n",
       "9               why is?  I apologize, but it seems like your question g...   \n",
       "10        the sky blue?  A classic question!\\n\\nThe color of the sky ca...   \n",
       "11         the sky blue  The classic phrase!\\n\\n\"The sky is blue\" is a ...   \n",
       "\n",
       "    Cosine_Similarity  \n",
       "0            0.687905  \n",
       "1            0.809589  \n",
       "2            0.811983  \n",
       "3            0.808328  \n",
       "4            0.658065  \n",
       "5            0.825981  \n",
       "6            0.100193  \n",
       "7            0.626023  \n",
       "8            0.316080  \n",
       "9            0.037603  \n",
       "10           0.617503  \n",
       "11           0.421937  "
      ]
     },
     "execution_count": 5,
     "metadata": {},
     "output_type": "execute_result"
    }
   ],
   "source": [
    "results"
   ]
  },
  {
   "cell_type": "code",
   "execution_count": 6,
   "id": "8a7707dc-8fdb-4aab-8a2c-a39d3917521b",
   "metadata": {},
   "outputs": [
    {
     "data": {
      "image/png": "[encoded data removed]",
      "text/plain": [
       "<Figure size 1000x400 with 2 Axes>"
      ]
     },
     "metadata": {},
     "output_type": "display_data"
    }
   ],
   "source": [
    "tshap.plot_colored_text()"
   ]
  },
  {
   "cell_type": "code",
   "execution_count": 7,
   "id": "176eaee5-42bc-4411-8ef1-a130738ffbcc",
   "metadata": {},
   "outputs": [
    {
     "name": "stdout",
     "output_type": "stream",
     "text": [
      "\u001b[38;2;252;252;255mwhy\u001b[0m \u001b[38;2;255;201;201mis\u001b[0m \u001b[38;2;255;120;120mthe\u001b[0m \u001b[38;2;255;76;76msky\u001b[0m \u001b[38;2;255;0;0mblue\u001b[0m \u001b[38;2;0;0;255m?\u001b[0m \n"
     ]
    }
   ],
   "source": [
    "tshap.print_colored_text()"
   ]
  },
  {
   "cell_type": "code",
   "execution_count": 16,
   "id": "1ac49757-bfdf-4073-ba24-e233d0e570e8",
   "metadata": {},
   "outputs": [],
   "source": [
    "prompt = 'Complete the following code: def quick_sort(arr):'\n",
    "results = tshap.analyze(prompt, sampling_ratio = 0.2, splitter = ' ')"
   ]
  },
  {
   "cell_type": "code",
   "execution_count": 17,
   "id": "8b65978c-60de-41e5-9933-6fea61354531",
   "metadata": {},
   "outputs": [
    {
     "data": {
      "text/plain": [
       "{'Complete': 0.0,\n",
       " 'the': 0.03223020544312804,\n",
       " 'following': 0.13591245174224045,\n",
       " 'code:': 0.1875495920150043,\n",
       " 'def': 0.1217003725792574,\n",
       " 'quick_sort(arr):': 0.5226073782203698}"
      ]
     },
     "execution_count": 17,
     "metadata": {},
     "output_type": "execute_result"
    }
   ],
   "source": [
    "tshap.shapley_values"
   ]
  },
  {
   "cell_type": "code",
   "execution_count": 18,
   "id": "1832b9e1-81f6-4958-9167-38ba6a7da979",
   "metadata": {},
   "outputs": [
    {
     "name": "stdout",
     "output_type": "stream",
     "text": [
      "\u001b[38;2;0;0;255mComplete\u001b[0m \u001b[38;2;31;31;255mthe\u001b[0m \u001b[38;2;132;132;255mfollowing\u001b[0m \u001b[38;2;183;183;255mcode:\u001b[0m \u001b[38;2;118;118;255mdef\u001b[0m \u001b[38;2;255;0;0mquick_sort(arr):\u001b[0m \n"
     ]
    }
   ],
   "source": [
    "tshap.print_colored_text()"
   ]
  },
  {
   "cell_type": "code",
   "execution_count": 19,
   "id": "d10d9ab4-65b4-4af1-92c9-43a4e8d758fb",
   "metadata": {},
   "outputs": [
    {
     "data": {
      "image/png": "[encoded data removed]",
      "text/plain": [
       "<Figure size 1000x400 with 2 Axes>"
      ]
     },
     "metadata": {},
     "output_type": "display_data"
    }
   ],
   "source": [
    "tshap.plot_colored_text()"
   ]
  },
  {
   "cell_type": "markdown",
   "id": "4bd01dc8-f592-415c-b0d7-091d1a428396",
   "metadata": {},
   "source": [
    "## Multiple Samples"
   ]
  },
  {
   "cell_type": "code",
   "execution_count": 29,
   "id": "040dcd0d-db3f-4a4c-a99b-fdb02fad18bf",
   "metadata": {
    "tags": []
   },
   "outputs": [],
   "source": [
    "prompt = \"I'm working on a project using PyTorch to build a deep learning model for image classification.\\nI'm using the FastAI library to simplify the training process.\\nHowever, I'm facing an issue with data augmentation.\\nI want to apply various augmentations such as rotation, flipping, and color jittering to my training images.\\nCan you help me and write the required code?\"\n",
    "results = tshap.analyze(prompt, splitter ='\\n', sampling_ratio = 0.2)"
   ]
  },
  {
   "cell_type": "code",
   "execution_count": 30,
   "id": "15c2eeb4-da55-4e05-95f8-ec7278f8d79c",
   "metadata": {},
   "outputs": [
    {
     "name": "stdout",
     "output_type": "stream",
     "text": [
      "\u001b[38;2;255;0;0mI'm working on a project using PyTorch to build a deep learning model for image classification.\u001b[0m \u001b[38;2;0;0;255mI'm using the FastAI library to simplify the training process.\u001b[0m \u001b[38;2;0;0;255mHowever, I'm facing an issue with data augmentation.\u001b[0m \u001b[38;2;0;0;255mI want to apply various augmentations such as rotation, flipping, and color jittering to my training images.\u001b[0m \u001b[38;2;0;0;255mCan you help me and write the required code?\u001b[0m \n"
     ]
    }
   ],
   "source": [
    "tshap.print_colored_text()"
   ]
  },
  {
   "cell_type": "code",
   "execution_count": 32,
   "id": "c33ad3fa-dedc-4db6-8118-e86ae83e4430",
   "metadata": {
    "tags": []
   },
   "outputs": [
    {
     "data": {
      "text/plain": [
       "{\"I'm working on a project using PyTorch to build a deep learning model for image classification.\": 1.0,\n",
       " \"I'm using the FastAI library to simplify the training process.\": 0.0,\n",
       " \"However, I'm facing an issue with data augmentation.\": 0.0,\n",
       " 'I want to apply various augmentations such as rotation, flipping, and color jittering to my training images.': 0.0,\n",
       " 'Can you help me and write the required code?': 0.0}"
      ]
     },
     "execution_count": 32,
     "metadata": {},
     "output_type": "execute_result"
    }
   ],
   "source": [
    "tshap.shapley_values"
   ]
  }
 ],
 "metadata": {
  "kernelspec": {
   "display_name": "OpenSora",
   "language": "python",
   "name": "opensora"
  },
  "language_info": {
   "codemirror_mode": {
    "name": "ipython",
    "version": 3
   },
   "file_extension": ".py",
   "mimetype": "text/x-python",
   "name": "python",
   "nbconvert_exporter": "python",
   "pygments_lexer": "ipython3",
   "version": "3.9.19"
  }
 },
 "nbformat": 4,
 "nbformat_minor": 5
}
