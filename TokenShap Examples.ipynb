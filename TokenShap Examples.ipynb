{
 "cells": [
  {
   "cell_type": "code",
   "execution_count": 1,
   "id": "f6944d03-05e5-4096-8aec-8499ff4dab63",
   "metadata": {
    "tags": []
   },
   "outputs": [],
   "source": [
    "from token_shap import TokenSHAP"
   ]
  },
  {
   "cell_type": "markdown",
   "id": "8fe31b48-6081-43fb-a40d-a7fc7cd3ee66",
   "metadata": {},
   "source": [
    "## Single Sample"
   ]
  },
  {
   "cell_type": "code",
   "execution_count": 10,
   "id": "26334adb-8f8f-4f5b-b83b-b09eb6840c1d",
   "metadata": {
    "tags": []
   },
   "outputs": [
    {
     "name": "stderr",
     "output_type": "stream",
     "text": [
      "/opt/anaconda3/envs/opensora/lib/python3.9/site-packages/huggingface_hub/file_download.py:1132: FutureWarning: `resume_download` is deprecated and will be removed in version 1.0.0. Downloads always resume when possible. If you want to force a new download, use `force_download=True`.\n",
      "  warnings.warn(\n",
      "Special tokens have been added in the vocabulary, make sure the associated word embeddings are fine-tuned or trained.\n"
     ]
    },
    {
     "data": {
      "image/png": "[encoded data removed]",
      "text/plain": [
       "<Figure size 1000x400 with 2 Axes>"
      ]
     },
     "metadata": {},
     "output_type": "display_data"
    },
    {
     "name": "stdout",
     "output_type": "stream",
     "text": [
      "CPU times: user 1.21 s, sys: 391 ms, total: 1.61 s\n",
      "Wall time: 54.3 s\n"
     ]
    }
   ],
   "source": [
    "%%time\n",
    "# Initialize TokenSHAP with your model & tokenizer\n",
    "model_name = \"llama3\"\n",
    "tokenizer_path =\"NousResearch/Hermes-2-Theta-Llama-3-8B\"\n",
    "tshap = TokenSHAP(model_name, tokenizer_path)\n",
    "\n",
    "# Analyze token importance\n",
    "prompt = \"why is the sky blue?\"\n",
    "results = tshap.analyze(prompt, sampling_ratio = 0.3)"
   ]
  },
  {
   "cell_type": "code",
   "execution_count": 13,
   "id": "5a0d20f7-a69d-4b06-87d1-0b43a1227d42",
   "metadata": {},
   "outputs": [
    {
     "data": {
      "text/plain": [
       "{'why': -0.10214019803170037,\n",
       " 'is': -0.11059924796204493,\n",
       " 'the': -0.11063228225644033,\n",
       " 'sky': 0.06464314028302587,\n",
       " 'blue': 0.04423823800505897,\n",
       " '?': -0.23871330236565422}"
      ]
     },
     "execution_count": 13,
     "metadata": {},
     "output_type": "execute_result"
    }
   ],
   "source": [
    "tshap.shapley_values"
   ]
  },
  {
   "cell_type": "code",
   "execution_count": 14,
   "id": "aa13029c-1f18-4c0b-98b8-4eb3a8a93d6a",
   "metadata": {},
   "outputs": [
    {
     "data": {
      "text/html": [
       "<div>\n",
       "<style scoped>\n",
       "    .dataframe tbody tr th:only-of-type {\n",
       "        vertical-align: middle;\n",
       "    }\n",
       "\n",
       "    .dataframe tbody tr th {\n",
       "        vertical-align: top;\n",
       "    }\n",
       "\n",
       "    .dataframe thead th {\n",
       "        text-align: right;\n",
       "    }\n",
       "</style>\n",
       "<table border=\"1\" class=\"dataframe\">\n",
       "  <thead>\n",
       "    <tr style=\"text-align: right;\">\n",
       "      <th></th>\n",
       "      <th>Prompt</th>\n",
       "      <th>Response</th>\n",
       "      <th>Cosine_Similarity</th>\n",
       "    </tr>\n",
       "  </thead>\n",
       "  <tbody>\n",
       "    <tr>\n",
       "      <th>0</th>\n",
       "      <td>why?</td>\n",
       "      <td>I was about to explain why I thought that ques...</td>\n",
       "      <td>0.088519</td>\n",
       "    </tr>\n",
       "    <tr>\n",
       "      <th>1</th>\n",
       "      <td>why is?</td>\n",
       "      <td>It seems like your question got cut off! Could...</td>\n",
       "      <td>0.088269</td>\n",
       "    </tr>\n",
       "    <tr>\n",
       "      <th>2</th>\n",
       "      <td>why the</td>\n",
       "      <td>It seems like your question got cut off!\\n\\nPl...</td>\n",
       "      <td>0.049496</td>\n",
       "    </tr>\n",
       "    <tr>\n",
       "      <th>3</th>\n",
       "      <td>is the?</td>\n",
       "      <td>I think you might be missing a word or phrase ...</td>\n",
       "      <td>0.079395</td>\n",
       "    </tr>\n",
       "    <tr>\n",
       "      <th>4</th>\n",
       "      <td>why is the</td>\n",
       "      <td>It seems like your question got cut off! Pleas...</td>\n",
       "      <td>0.050403</td>\n",
       "    </tr>\n",
       "    <tr>\n",
       "      <th>5</th>\n",
       "      <td>is sky</td>\n",
       "      <td>A simple and profound question!\\n\\nThe answer ...</td>\n",
       "      <td>0.391938</td>\n",
       "    </tr>\n",
       "    <tr>\n",
       "      <th>6</th>\n",
       "      <td>why is sky</td>\n",
       "      <td>I think there may be a bit of confusion here!\\...</td>\n",
       "      <td>0.188044</td>\n",
       "    </tr>\n",
       "    <tr>\n",
       "      <th>7</th>\n",
       "      <td>why is the sky</td>\n",
       "      <td>The age-old question: \"Why is the sky blue?\"\\n...</td>\n",
       "      <td>0.741494</td>\n",
       "    </tr>\n",
       "    <tr>\n",
       "      <th>8</th>\n",
       "      <td>why is blue</td>\n",
       "      <td>What a great question!\\n\\nBlue is often consid...</td>\n",
       "      <td>0.347873</td>\n",
       "    </tr>\n",
       "    <tr>\n",
       "      <th>9</th>\n",
       "      <td>why the blue?</td>\n",
       "      <td>The color blue is often associated with calmne...</td>\n",
       "      <td>0.314121</td>\n",
       "    </tr>\n",
       "    <tr>\n",
       "      <th>10</th>\n",
       "      <td>is the blue?</td>\n",
       "      <td>I think you might be referring to the fact tha...</td>\n",
       "      <td>0.136710</td>\n",
       "    </tr>\n",
       "    <tr>\n",
       "      <th>11</th>\n",
       "      <td>why is the blue</td>\n",
       "      <td>I think there may be a misunderstanding!\\n\\nYo...</td>\n",
       "      <td>0.697896</td>\n",
       "    </tr>\n",
       "    <tr>\n",
       "      <th>12</th>\n",
       "      <td>sky blue?</td>\n",
       "      <td>You're thinking of the color \"sky blue\"!\\n\\nSk...</td>\n",
       "      <td>0.269802</td>\n",
       "    </tr>\n",
       "    <tr>\n",
       "      <th>13</th>\n",
       "      <td>why sky blue?</td>\n",
       "      <td>The answer lies in the history of the game.\\n\\...</td>\n",
       "      <td>0.324669</td>\n",
       "    </tr>\n",
       "    <tr>\n",
       "      <th>14</th>\n",
       "      <td>why is sky blue?</td>\n",
       "      <td>What a great question!\\n\\nThe short answer is ...</td>\n",
       "      <td>0.754174</td>\n",
       "    </tr>\n",
       "    <tr>\n",
       "      <th>15</th>\n",
       "      <td>the sky blue</td>\n",
       "      <td>A poetic and profound observation!\\n\\n\"The sky...</td>\n",
       "      <td>0.419218</td>\n",
       "    </tr>\n",
       "    <tr>\n",
       "      <th>16</th>\n",
       "      <td>why the sky blue</td>\n",
       "      <td>What a great question!\\n\\nThe color of the sky...</td>\n",
       "      <td>0.706571</td>\n",
       "    </tr>\n",
       "    <tr>\n",
       "      <th>17</th>\n",
       "      <td>why sky blue</td>\n",
       "      <td>Sky Blue is a popular color choice for various...</td>\n",
       "      <td>0.463695</td>\n",
       "    </tr>\n",
       "  </tbody>\n",
       "</table>\n",
       "</div>"
      ],
      "text/plain": [
       "              Prompt                                           Response  \\\n",
       "0               why?  I was about to explain why I thought that ques...   \n",
       "1            why is?  It seems like your question got cut off! Could...   \n",
       "2            why the  It seems like your question got cut off!\\n\\nPl...   \n",
       "3            is the?  I think you might be missing a word or phrase ...   \n",
       "4         why is the  It seems like your question got cut off! Pleas...   \n",
       "5             is sky  A simple and profound question!\\n\\nThe answer ...   \n",
       "6         why is sky  I think there may be a bit of confusion here!\\...   \n",
       "7     why is the sky  The age-old question: \"Why is the sky blue?\"\\n...   \n",
       "8        why is blue  What a great question!\\n\\nBlue is often consid...   \n",
       "9      why the blue?  The color blue is often associated with calmne...   \n",
       "10      is the blue?  I think you might be referring to the fact tha...   \n",
       "11   why is the blue  I think there may be a misunderstanding!\\n\\nYo...   \n",
       "12         sky blue?  You're thinking of the color \"sky blue\"!\\n\\nSk...   \n",
       "13     why sky blue?  The answer lies in the history of the game.\\n\\...   \n",
       "14  why is sky blue?  What a great question!\\n\\nThe short answer is ...   \n",
       "15      the sky blue  A poetic and profound observation!\\n\\n\"The sky...   \n",
       "16  why the sky blue  What a great question!\\n\\nThe color of the sky...   \n",
       "17      why sky blue  Sky Blue is a popular color choice for various...   \n",
       "\n",
       "    Cosine_Similarity  \n",
       "0            0.088519  \n",
       "1            0.088269  \n",
       "2            0.049496  \n",
       "3            0.079395  \n",
       "4            0.050403  \n",
       "5            0.391938  \n",
       "6            0.188044  \n",
       "7            0.741494  \n",
       "8            0.347873  \n",
       "9            0.314121  \n",
       "10           0.136710  \n",
       "11           0.697896  \n",
       "12           0.269802  \n",
       "13           0.324669  \n",
       "14           0.754174  \n",
       "15           0.419218  \n",
       "16           0.706571  \n",
       "17           0.463695  "
      ]
     },
     "execution_count": 14,
     "metadata": {},
     "output_type": "execute_result"
    }
   ],
   "source": [
    "results"
   ]
  },
  {
   "cell_type": "code",
   "execution_count": 15,
   "id": "1ac49757-bfdf-4073-ba24-e233d0e570e8",
   "metadata": {},
   "outputs": [
    {
     "data": {
      "image/png": "[encoded data removed]",
      "text/plain": [
       "<Figure size 1000x550 with 2 Axes>"
      ]
     },
     "metadata": {},
     "output_type": "display_data"
    }
   ],
   "source": [
    "prompt = \"Continued: A large language model is…\"\n",
    "results = tshap.analyze(prompt, sampling_ratio = 0.3)"
   ]
  },
  {
   "cell_type": "markdown",
   "id": "4bd01dc8-f592-415c-b0d7-091d1a428396",
   "metadata": {},
   "source": [
    "## Multiple Samples"
   ]
  },
  {
   "cell_type": "code",
   "execution_count": 2,
   "id": "040dcd0d-db3f-4a4c-a99b-fdb02fad18bf",
   "metadata": {
    "tags": []
   },
   "outputs": [
    {
     "name": "stderr",
     "output_type": "stream",
     "text": [
      "Special tokens have been added in the vocabulary, make sure the associated word embeddings are fine-tuned or trained.\n"
     ]
    },
    {
     "data": {
      "image/png": "[encoded data removed]",
      "text/plain": [
       "<Figure size 1000x150 with 1 Axes>"
      ]
     },
     "metadata": {},
     "output_type": "display_data"
    }
   ],
   "source": [
    "# Initialize TokenSHAP with your model & tokenizer\n",
    "model_name = \"llama3\"\n",
    "tokenizer_path =\"NousResearch/Hermes-2-Theta-Llama-3-8B\"\n",
    "tshap = TokenSHAP(model_name, tokenizer_path)\n",
    "\n",
    "# Analyze token importance\n",
    "prompt = \"is the sky red? \\n I think yes \\n what do you think?\"\n",
    "results = tshap.analyze(prompt, splitter ='\\n')"
   ]
  },
  {
   "cell_type": "code",
   "execution_count": 3,
   "id": "c33ad3fa-dedc-4db6-8118-e86ae83e4430",
   "metadata": {
    "tags": []
   },
   "outputs": [
    {
     "data": {
      "text/html": [
       "<div>\n",
       "<style scoped>\n",
       "    .dataframe tbody tr th:only-of-type {\n",
       "        vertical-align: middle;\n",
       "    }\n",
       "\n",
       "    .dataframe tbody tr th {\n",
       "        vertical-align: top;\n",
       "    }\n",
       "\n",
       "    .dataframe thead th {\n",
       "        text-align: right;\n",
       "    }\n",
       "</style>\n",
       "<table border=\"1\" class=\"dataframe\">\n",
       "  <thead>\n",
       "    <tr style=\"text-align: right;\">\n",
       "      <th></th>\n",
       "      <th>Prompt</th>\n",
       "      <th>Response</th>\n",
       "      <th>Cosine_Similarity</th>\n",
       "    </tr>\n",
       "  </thead>\n",
       "  <tbody>\n",
       "    <tr>\n",
       "      <th>0</th>\n",
       "      <td>is the sky red?</td>\n",
       "      <td>No, the sky is not typically red. The color of...</td>\n",
       "      <td>0.609809</td>\n",
       "    </tr>\n",
       "    <tr>\n",
       "      <th>1</th>\n",
       "      <td>I think yes</td>\n",
       "      <td>I'm glad we're on the same page! Can you tell ...</td>\n",
       "      <td>0.123578</td>\n",
       "    </tr>\n",
       "    <tr>\n",
       "      <th>2</th>\n",
       "      <td>what do you think?</td>\n",
       "      <td>I apologize, but I didn't receive any specific...</td>\n",
       "      <td>0.159067</td>\n",
       "    </tr>\n",
       "    <tr>\n",
       "      <th>3</th>\n",
       "      <td>is the sky red? \\n I think yes</td>\n",
       "      <td>I'm afraid not!\\n\\nThe sky is actually blue, o...</td>\n",
       "      <td>0.647667</td>\n",
       "    </tr>\n",
       "    <tr>\n",
       "      <th>4</th>\n",
       "      <td>is the sky red? \\n what do you think?</td>\n",
       "      <td>I think the sky is not red. In general, the co...</td>\n",
       "      <td>0.703852</td>\n",
       "    </tr>\n",
       "    <tr>\n",
       "      <th>5</th>\n",
       "      <td>I think yes \\n what do you think?</td>\n",
       "      <td>I see what's happening here! It seems like we'...</td>\n",
       "      <td>0.128047</td>\n",
       "    </tr>\n",
       "  </tbody>\n",
       "</table>\n",
       "</div>"
      ],
      "text/plain": [
       "                                  Prompt  \\\n",
       "0                       is the sky red?    \n",
       "1                           I think yes    \n",
       "2                     what do you think?   \n",
       "3        is the sky red? \\n I think yes    \n",
       "4  is the sky red? \\n what do you think?   \n",
       "5      I think yes \\n what do you think?   \n",
       "\n",
       "                                            Response  Cosine_Similarity  \n",
       "0  No, the sky is not typically red. The color of...           0.609809  \n",
       "1  I'm glad we're on the same page! Can you tell ...           0.123578  \n",
       "2  I apologize, but I didn't receive any specific...           0.159067  \n",
       "3  I'm afraid not!\\n\\nThe sky is actually blue, o...           0.647667  \n",
       "4  I think the sky is not red. In general, the co...           0.703852  \n",
       "5  I see what's happening here! It seems like we'...           0.128047  "
      ]
     },
     "execution_count": 3,
     "metadata": {},
     "output_type": "execute_result"
    }
   ],
   "source": [
    "results"
   ]
  }
 ],
 "metadata": {
  "kernelspec": {
   "display_name": "OpenSora",
   "language": "python",
   "name": "opensora"
  },
  "language_info": {
   "codemirror_mode": {
    "name": "ipython",
    "version": 3
   },
   "file_extension": ".py",
   "mimetype": "text/x-python",
   "name": "python",
   "nbconvert_exporter": "python",
   "pygments_lexer": "ipython3",
   "version": "3.9.19"
  }
 },
 "nbformat": 4,
 "nbformat_minor": 5
}
